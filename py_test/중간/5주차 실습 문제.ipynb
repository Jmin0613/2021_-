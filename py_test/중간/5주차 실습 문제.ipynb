{
 "cells": [
  {
   "cell_type": "code",
   "execution_count": 5,
   "metadata": {},
   "outputs": [
    {
     "name": "stdout",
     "output_type": "stream",
     "text": [
      "입력 : 4\n",
      "4 ! =  24\n"
     ]
    }
   ],
   "source": [
    "## 1번문제\n",
    "n=int(input(\"입력 : \"))\n",
    "num=n\n",
    "if n%2==0 :\n",
    "    sum=1\n",
    "    while(n>=1):\n",
    "        sum=sum*n\n",
    "        n=n-1\n",
    "    print(num, \"! = \", sum)\n",
    "else :\n",
    "    sum=0\n",
    "    while(n>=0):\n",
    "        sum=sum+n\n",
    "        n=n-1\n",
    "    print(\"Σ\", num, \" = \", sum)"
   ]
  },
  {
   "cell_type": "code",
   "execution_count": 15,
   "metadata": {},
   "outputs": [
    {
     "name": "stdout",
     "output_type": "stream",
     "text": [
      "2 이상의 정수를 입력하시오...\n",
      "1번 정수 입력 : 10\n",
      "2번 정수 입력 : 100\n",
      "10 과  100  사이에 있는 있는 소수 :  11 13 17 19 23 29 31 37 41 43 47 53 59 61 67 71 73 79 83 89 97 \n",
      "10 부터 100 까지 소수의 총합 :  1043\n"
     ]
    }
   ],
   "source": [
    "## 2번문제 (while + if)\n",
    "\n",
    "##정수2개 입력\n",
    "while True:\n",
    "    print(\"2 이상의 정수를 입력하시오...\")\n",
    "    n1=int(input(\"1번 정수 입력 : \"))\n",
    "    n2=int(input(\"2번 정수 입력 : \"))\n",
    "    \n",
    "    if(n1>=2 and n2>=2):\n",
    "        break\n",
    "        \n",
    "##n1<n2\n",
    "if(n1>n2):\n",
    "    n1, n2 =n2,n1\n",
    "    \n",
    "sum=0 ##총합\n",
    "i=n1\n",
    "        \n",
    "##소수\n",
    "print(n1, \"과 \", n2, \" 사이에 있는 있는 소수 : \", end=' ')\n",
    "while(i<=n2): ##n1이 n2와 같아질 때까지 반복\n",
    "    j=2\n",
    "    while(j<i) :\n",
    "        if((i%j)==0): ##소수판단 : 자기보다 낮은 숫자로 나누어지는지\n",
    "            j=j+1\n",
    "            break\n",
    "        j=j+1\n",
    "    if(i==j) : ##합하기\n",
    "        print(i, end=\" \")\n",
    "        sum=sum+i\n",
    "    i=i+1\n",
    "\n",
    "print()\n",
    "print(n1, \"부터\", n2, \"까지 소수의 총합 : \", sum)"
   ]
  },
  {
   "cell_type": "code",
   "execution_count": 17,
   "metadata": {},
   "outputs": [
    {
     "name": "stdout",
     "output_type": "stream",
     "text": [
      "2 이상의 정수를 입력하시오...\n",
      "첫번째 정수 입력 : 10\n",
      "두번째 정수 입력 : 100\n",
      "10 과  100  사이에 있는 있는 소수 :  11 13 17 19 23 29 31 37 41 43 47 53 59 61 67 71 73 79 83 89 97 \n",
      "10 부터 100 까지 소수의 총합 :  1043\n"
     ]
    }
   ],
   "source": [
    "## 2번문제 (for + if)\n",
    "\n",
    "print(\"2 이상의 정수를 입력하시오...\")\n",
    "n1=int(input(\"첫번째 정수 입력 : \"))\n",
    "n2=int(input(\"두번째 정수 입력 : \"))\n",
    "\n",
    "print(n1, \"과 \", n2, \" 사이에 있는 있는 소수 : \", end=' ')\n",
    "sum=0;\n",
    "\n",
    "for i in range(n1, n2+1) :\n",
    "    prime_n = True\n",
    "    for j in range(2, i) :\n",
    "        if i%j == 0 :\n",
    "            prime_n = False\n",
    "            break\n",
    "    if prime_n == True :\n",
    "        print(i, end=\" \")\n",
    "        sum=sum+i\n",
    "        \n",
    "print()\n",
    "print(n1, \"부터\", n2, \"까지 소수의 총합 : \", sum)"
   ]
  },
  {
   "cell_type": "code",
   "execution_count": 38,
   "metadata": {},
   "outputs": [
    {
     "name": "stdout",
     "output_type": "stream",
     "text": [
      "층 입력 : 7\n",
      "             1\n",
      "           2 1\n",
      "         3 2 1\n",
      "       4 3 2 1\n",
      "     5 4 3 2 1\n",
      "   6 5 4 3 2 1\n",
      " 7 6 5 4 3 2 1\n"
     ]
    }
   ],
   "source": [
    "## 3번문제\n",
    "n=eval(input(\"층 입력 : \"))\n",
    "\n",
    "for row in range(1, n+1) :\n",
    "    ## 공백\n",
    "    for i in range(row, n) :\n",
    "        print(\"  \", end=\"\")\n",
    "    ## 숫자\n",
    "    for i in range(row, 0, -1) :\n",
    "        print(format(i, \"2d\"), end=\"\")\n",
    "    print()"
   ]
  },
  {
   "cell_type": "code",
   "execution_count": 6,
   "metadata": {},
   "outputs": [
    {
     "name": "stdout",
     "output_type": "stream",
     "text": [
      "1~1000까지의 홀수들의 합계 중에서, 최초로 1000이 넘어가는 숫자 :  1056\n"
     ]
    }
   ],
   "source": [
    "## 4번문제\n",
    "n=1\n",
    "sum=0\n",
    "\n",
    "while(sum<1000) :\n",
    "    if ((n%2) == 0) : ##홀수\n",
    "        sum=sum+n\n",
    "        \n",
    "    n=n+1\n",
    "    \n",
    "print(\"1~1000까지의 홀수들의 합계 중에서, 최초로 1000이 넘어가는 숫자 : \", sum)"
   ]
  }
 ],
 "metadata": {
  "kernelspec": {
   "display_name": "Python 3",
   "language": "python",
   "name": "python3"
  },
  "language_info": {
   "codemirror_mode": {
    "name": "ipython",
    "version": 3
   },
   "file_extension": ".py",
   "mimetype": "text/x-python",
   "name": "python",
   "nbconvert_exporter": "python",
   "pygments_lexer": "ipython3",
   "version": "3.8.5"
  }
 },
 "nbformat": 4,
 "nbformat_minor": 4
}
