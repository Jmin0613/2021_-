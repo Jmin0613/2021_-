{
 "cells": [
  {
   "cell_type": "code",
   "execution_count": 2,
   "metadata": {},
   "outputs": [
    {
     "name": "stdout",
     "output_type": "stream",
     "text": [
      "3자리 입력하시오\n",
      "145\n",
      "25\n",
      "\n",
      "3자리 입력하시오.\n",
      "324\n",
      "127\n",
      "strike :  1 \tball :  0\n"
     ]
    }
   ],
   "source": [
    "## 1번문제\n",
    "strike=0\n",
    "ball=0\n",
    "\n",
    "n1=[]\n",
    "n2=[]\n",
    "print(\"3자리 입력하시오\")\n",
    "n1=input()\n",
    "n2=input()\n",
    "\n",
    "while True :\n",
    "    if (len(n1) == 3) and (len(n2) == 3) :\n",
    "        for i in range(0,3) :\n",
    "            for j in range(0,3) :\n",
    "                if n1[i]==n2[j] :\n",
    "                    if i == j :\n",
    "                        strike=strike+1\n",
    "                    else :\n",
    "                        ball=ball+1\n",
    "        break;\n",
    "    else :\n",
    "        print(\"\\n3자리 입력하시오.\")\n",
    "        n1=input()\n",
    "        n2=input()\n",
    "        \n",
    "print(\"strike : \", strike, \"\\tball : \", ball)"
   ]
  },
  {
   "cell_type": "code",
   "execution_count": null,
   "metadata": {},
   "outputs": [],
   "source": [
    "## 2번문제 (결과 예측)\n",
    "\n",
    "list_a = [0, 1, 2,'일', '이', '삼', 'sample', '테스트', [3, 4], [5, 6, 7] ]\n",
    "\n",
    "print(list_a)\n",
    "## [0, 1, 2, '일', '이', '삼', 'sample', '테스트', [3, 4], [5, 6, 7]]\n",
    "\n",
    "print(list_a[0], list_a[1], list_a[3], list_a[6], list_a[8], list_a[9])\n",
    "## 0 1 일 sample [3, 4] [5, 6, 7]\n",
    "\n",
    "print(list_a[8][0], list_a[8][1], list_a[9][0], list_a[9][1], list_a[9][2])\n",
    "## 3 4 5 6 7\n",
    "\n",
    "print(list_a[1:5])\n",
    "## [1, 2, '일', '이']\n",
    "\n",
    "a = [1, 2, 3]\n",
    "b = [4, 5, 6]\n",
    "print(a + b)\n",
    "## [1, 2, 3, 4, 5, 6]\n",
    "\n",
    "print('리스트 a의 길이 = ', len(a), '리스트 a의 길이 = ', len(b)) \n",
    "## 리스트 a의 길이 =  3 리스트 a의 길이 =  3\n",
    "\n",
    "print(a * 3)\n",
    "## [1, 2, 3, 1, 2, 3, 1, 2, 3]"
   ]
  },
  {
   "cell_type": "code",
   "execution_count": null,
   "metadata": {},
   "outputs": [],
   "source": [
    "## 3번문제 (결과 예측)\n",
    "\n",
    "test = [0, 1, 2, 3, 4, 5, 6, 7]\n",
    "\n",
    "test.append(8)\n",
    "print(test)\n",
    "## [0, 1, 2, 3, 4, 5, 6, 7, 8]\n",
    "\n",
    "test.extend([8, 9])\n",
    "print(test)\n",
    "## [0, 1, 2, 3, 4, 5, 6, 7, 8, 8, 9]\n",
    "\n",
    "test.insert(3, 3.5)\n",
    "print(test)\n",
    "## [0, 1, 2, 3.5, 3, 4, 5, 6, 7, 8, 8, 9]\n",
    "\n",
    "test.sort()\n",
    "print(test)\n",
    "## [0, 1, 2, 3, 3.5, 4, 5, 6, 7, 8, 8, 9]\n",
    "\n",
    "test.remove(3)\n",
    "print(test)\n",
    "## [0, 1, 2, 3.5, 4, 5, 6, 7, 8, 8, 9]\n",
    "\n",
    "n1=test.pop()\n",
    "print(n1, test)\n",
    "## 9 [0, 1, 2, 3.5, 4, 5, 6, 7, 8, 8]\n",
    "\n",
    "n2=test.pop(4)\n",
    "print(n2, test)\n",
    "## 4 [0, 1, 2, 3.5, 5, 6, 7, 8, 8]\n",
    "\n",
    "n = test.pop()\n",
    "test.clear()\n",
    "print(test)\n",
    "## []"
   ]
  }
 ],
 "metadata": {
  "kernelspec": {
   "display_name": "Python 3",
   "language": "python",
   "name": "python3"
  },
  "language_info": {
   "codemirror_mode": {
    "name": "ipython",
    "version": 3
   },
   "file_extension": ".py",
   "mimetype": "text/x-python",
   "name": "python",
   "nbconvert_exporter": "python",
   "pygments_lexer": "ipython3",
   "version": "3.8.5"
  }
 },
 "nbformat": 4,
 "nbformat_minor": 4
}
