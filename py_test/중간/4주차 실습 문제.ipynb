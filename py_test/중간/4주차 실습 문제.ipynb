{
 "cells": [
  {
   "cell_type": "code",
   "execution_count": 3,
   "metadata": {},
   "outputs": [
    {
     "name": "stdout",
     "output_type": "stream",
     "text": [
      "몸무게 입력(kg) : 38\n",
      "키 입력(cm) : 158\n",
      "저체중\n"
     ]
    }
   ],
   "source": [
    "## 1번문제\n",
    "\n",
    "w=int(input(\"몸무게 입력(kg) : \"))\n",
    "h=int(input(\"키 입력(cm) : \"))\n",
    "\n",
    "h=h/100\n",
    "bmi=(w/(h*h))\n",
    "\n",
    "if bmi<18.5 :\n",
    "    print(\"저체중\")\n",
    "elif bmi<25 :\n",
    "    print(\"정상\")\n",
    "elif bmi<30 :\n",
    "    print(\"비만\")\n",
    "else :\n",
    "    print(\"고도비만\")"
   ]
  },
  {
   "cell_type": "code",
   "execution_count": 5,
   "metadata": {},
   "outputs": [
    {
     "name": "stdout",
     "output_type": "stream",
     "text": [
      "단 입력 : 3\n",
      "3 * 1 = 3\n",
      "3 * 2 = 6\n",
      "3 * 3 = 9\n",
      "3 * 4 = 12\n",
      "3 * 5 = 15\n",
      "3 * 6 = 18\n",
      "3 * 7 = 21\n",
      "3 * 8 = 24\n",
      "3 * 9 = 27\n"
     ]
    }
   ],
   "source": [
    "## 2번문제\n",
    "i=int(input(\"단 입력 : \"))\n",
    "for j in range(1,10) :\n",
    "    print(\"%d * %d = %d\" %(i,j,(i*j)))"
   ]
  },
  {
   "cell_type": "code",
   "execution_count": 7,
   "metadata": {},
   "outputs": [
    {
     "name": "stdout",
     "output_type": "stream",
     "text": [
      "문자열 입력 : hello world\n",
      "dlrow olleh\n"
     ]
    }
   ],
   "source": [
    "## 3번문제\n",
    "word = input(\"문자열 입력 : \")\n",
    "print(word[::-1])"
   ]
  },
  {
   "cell_type": "code",
   "execution_count": 8,
   "metadata": {},
   "outputs": [
    {
     "name": "stdout",
     "output_type": "stream",
     "text": [
      "10진수 입력 : 12\n",
      "2진수 변환 : 1100\n",
      "10진수 입력 : 12\n",
      "2진수 출력 :  0b1100\n"
     ]
    }
   ],
   "source": [
    "## 4번문제\n",
    "\n",
    "n1 = int(input(\"10진수 입력 : \"))\n",
    "n2 =\"\"\n",
    "while n1>0 :\n",
    "    n2 = str(n1%2)+n2\n",
    "    n1=n1//2\n",
    "\n",
    "print(\"2진수 변환 : %s\" %n2)\n",
    "\n",
    "##############\n",
    "\n",
    "n1=int(input(\"10진수 입력 : \"))\n",
    "n2=bin(n1)\n",
    "print(\"2진수 출력 : \", n2)"
   ]
  },
  {
   "cell_type": "code",
   "execution_count": 4,
   "metadata": {},
   "outputs": [
    {
     "name": "stdout",
     "output_type": "stream",
     "text": [
      "컴퓨터가 난수 생성!\n",
      "컴퓨터가 생성한 난수는? 50\n",
      "정답은 50 보다 큽니다.\n",
      "\n",
      "컴퓨터가 생성한 난수는? 70\n",
      "정답은 70 보다 작습니다.\n",
      "\n",
      "컴퓨터가 생성한 난수는? 60\n",
      "정답은 60 보다 작습니다.\n",
      "\n",
      "컴퓨터가 생성한 난수는? 55\n",
      "정답!\n"
     ]
    }
   ],
   "source": [
    "## 5번문제\n",
    "import random\n",
    "\n",
    "c_num = random.randint(1,100)\n",
    "print(\"컴퓨터가 난수 생성!\")\n",
    "\n",
    "while True :\n",
    "    u_num = int(input(\"컴퓨터가 생성한 난수는? \"))\n",
    "    \n",
    "    if u_num > c_num :\n",
    "        print(\"정답은 %d 보다 작습니다.\\n\" %u_num)\n",
    "    elif u_num < c_num :\n",
    "        print(\"정답은 %d 보다 큽니다.\\n\" %u_num)\n",
    "    else :\n",
    "        print(\"정답!\")\n",
    "        break;"
   ]
  }
 ],
 "metadata": {
  "kernelspec": {
   "display_name": "Python 3",
   "language": "python",
   "name": "python3"
  },
  "language_info": {
   "codemirror_mode": {
    "name": "ipython",
    "version": 3
   },
   "file_extension": ".py",
   "mimetype": "text/x-python",
   "name": "python",
   "nbconvert_exporter": "python",
   "pygments_lexer": "ipython3",
   "version": "3.8.5"
  }
 },
 "nbformat": 4,
 "nbformat_minor": 4
}
