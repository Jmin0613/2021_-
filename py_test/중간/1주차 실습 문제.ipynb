{
 "cells": [
  {
   "cell_type": "code",
   "execution_count": 5,
   "metadata": {},
   "outputs": [
    {
     "name": "stdout",
     "output_type": "stream",
     "text": [
      "파이썬 너무 재미 있어요.^^\n",
      "파이썬\n",
      "너무 재미\n",
      "재미 있어요.^^\n"
     ]
    }
   ],
   "source": [
    "## 1번 문제\n",
    "print(\"파이썬 너무 재미 있어요.^^\")\n",
    "print(\"\"\"파이썬\n",
    "너무 재미\n",
    "재미 있어요.^^\"\"\")"
   ]
  },
  {
   "cell_type": "code",
   "execution_count": 4,
   "metadata": {},
   "outputs": [
    {
     "ename": "SyntaxError",
     "evalue": "invalid syntax (<ipython-input-4-14782ae7257a>, line 4)",
     "output_type": "error",
     "traceback": [
      "\u001b[1;36m  File \u001b[1;32m\"<ipython-input-4-14782ae7257a>\"\u001b[1;36m, line \u001b[1;32m4\u001b[0m\n\u001b[1;33m    print(안녕?파이썬) ## 오류\u001b[0m\n\u001b[1;37m            ^\u001b[0m\n\u001b[1;31mSyntaxError\u001b[0m\u001b[1;31m:\u001b[0m invalid syntax\n"
     ]
    }
   ],
   "source": [
    "## 2번 문제 (싫행결과 예측)\n",
    "print(\"11+22-33\") ## 11+22-33\n",
    "print(11+22-33) ## 0\n",
    "print(안녕?파이썬) ## 오류"
   ]
  },
  {
   "cell_type": "code",
   "execution_count": 3,
   "metadata": {},
   "outputs": [
    {
     "name": "stdout",
     "output_type": "stream",
     "text": [
      "15/4의 몫: 3.75  나머지: 3\n"
     ]
    }
   ],
   "source": [
    "## 3번 문제\n",
    "print(\"15/4의 몫:\", 15/4, \" 나머지:\", 15%4)"
   ]
  },
  {
   "cell_type": "code",
   "execution_count": 2,
   "metadata": {
    "scrolled": true
   },
   "outputs": [
    {
     "name": "stdout",
     "output_type": "stream",
     "text": [
      "정수 입력 : 2\n",
      "정수 입력 : 3\n",
      "2  +  3  =  5\n",
      "2  *  3  =  6\n",
      "2  **  3  =  8\n"
     ]
    }
   ],
   "source": [
    "## 4번 문제\n",
    "n1=int(input(\"정수 입력 : \"))\n",
    "n2=int(input(\"정수 입력 : \"))\n",
    "\n",
    "print(n1, \" + \", n2,\" = \", n1+n2)\n",
    "print(n1, \" * \", n2,\" = \", n1*n2)\n",
    "print(n1, \" ** \", n2,\" = \", n1**n2)"
   ]
  },
  {
   "cell_type": "code",
   "execution_count": 6,
   "metadata": {},
   "outputs": [
    {
     "name": "stdout",
     "output_type": "stream",
     "text": [
      "반지름 입력 : 3\n",
      "원의 둘레 :  18.84\n",
      "원의 면적 :  28.26\n"
     ]
    }
   ],
   "source": [
    "## 5번 문제\n",
    "r=int(input(\"반지름 입력 : \"))\n",
    "print(\"원의 둘레 : \", 2*3.14*r)\n",
    "print(\"원의 면적 : \", r*r*3.14)"
   ]
  }
 ],
 "metadata": {
  "kernelspec": {
   "display_name": "Python 3",
   "language": "python",
   "name": "python3"
  },
  "language_info": {
   "codemirror_mode": {
    "name": "ipython",
    "version": 3
   },
   "file_extension": ".py",
   "mimetype": "text/x-python",
   "name": "python",
   "nbconvert_exporter": "python",
   "pygments_lexer": "ipython3",
   "version": "3.8.5"
  }
 },
 "nbformat": 4,
 "nbformat_minor": 4
}
