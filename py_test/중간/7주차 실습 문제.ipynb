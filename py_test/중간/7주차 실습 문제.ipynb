{
 "cells": [
  {
   "cell_type": "code",
   "execution_count": 3,
   "metadata": {},
   "outputs": [
    {
     "name": "stdout",
     "output_type": "stream",
     "text": [
      "1,2,3,4,5\n",
      "총합 :  15 \t평균 :  3.0\n"
     ]
    }
   ],
   "source": [
    "## 1번문제\n",
    "2,3,4,5,\n",
    "n1, n2, n3, n4, n5 = eval(input())\n",
    "sum=n1+n2+n3+n4+n5\n",
    "ave=sum/5\n",
    "\n",
    "print(\"총합 : \", sum, \"\\t평균 : \", ave)"
   ]
  },
  {
   "cell_type": "code",
   "execution_count": 4,
   "metadata": {},
   "outputs": [
    {
     "name": "stdout",
     "output_type": "stream",
     "text": [
      "문자열 입력 : hello world\n",
      "['hello', 'world']\n",
      "HELLO WORLD\n",
      "dlrow olleh\n"
     ]
    }
   ],
   "source": [
    "## 2번문제\n",
    "str=[]\n",
    "str=input(\"문자열 입력 : \")\n",
    "\n",
    "str_s=str.split()\n",
    "print(str_s)\n",
    "\n",
    "str_u=str.upper()\n",
    "print(str_u)\n",
    "\n",
    "print(str[::-1])"
   ]
  },
  {
   "cell_type": "code",
   "execution_count": 2,
   "metadata": {},
   "outputs": [
    {
     "name": "stdout",
     "output_type": "stream",
     "text": [
      "[5, 7, 1, 2, 8, 3]\n",
      "복권번호 6개 입력 : 2 1 4 5 8 9\n",
      "['2', '1', '4', '5', '8', '9']\n",
      "4 개의 숫자가 일치.\n",
      "1천만원 당첨\n"
     ]
    }
   ],
   "source": [
    "## 3번문제\n",
    "import random\n",
    "\n",
    "lotto=[]\n",
    "while len(lotto) < 6:\n",
    "    imsi = random.randint(1,9)\n",
    "    while imsi in lotto :\n",
    "        imsi = random.randint(1,9)\n",
    "        \n",
    "    lotto.append(imsi)\n",
    "    \n",
    "print(lotto)\n",
    "\n",
    "num = input(\"복권번호 6개 입력 : \").split()\n",
    "print(num)\n",
    "\n",
    "count=0\n",
    "\n",
    "for i in num :\n",
    "    if int(i) in lotto :\n",
    "        count=count+1\n",
    "        \n",
    "print(count, \"개의 숫자가 일치.\")\n",
    "\n",
    "if count == 6:\n",
    "    print(\"1억원 당첨\")\n",
    "elif count == 5:\n",
    "    print(\"5천만원 당첨\")\n",
    "elif count == 4:\n",
    "    print(\"1천만원 당첨\")\n",
    "else :\n",
    "    print(\"다음 기회에...\")"
   ]
  }
 ],
 "metadata": {
  "kernelspec": {
   "display_name": "Python 3",
   "language": "python",
   "name": "python3"
  },
  "language_info": {
   "codemirror_mode": {
    "name": "ipython",
    "version": 3
   },
   "file_extension": ".py",
   "mimetype": "text/x-python",
   "name": "python",
   "nbconvert_exporter": "python",
   "pygments_lexer": "ipython3",
   "version": "3.8.5"
  }
 },
 "nbformat": 4,
 "nbformat_minor": 4
}
