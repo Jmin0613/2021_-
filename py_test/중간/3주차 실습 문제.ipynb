{
 "cells": [
  {
   "cell_type": "code",
   "execution_count": 4,
   "metadata": {},
   "outputs": [
    {
     "name": "stdout",
     "output_type": "stream",
     "text": [
      "금액을 입력하시오 : 66600\n",
      "5만원 :  1\n",
      "1만원 :  1\n",
      "5천원 :  1\n",
      "1천원 :  1\n",
      "500원 :  1\n",
      "100원 :  1\n",
      "50원 :  0\n",
      "10원 :  0\n"
     ]
    }
   ],
   "source": [
    "## 1번 문제\n",
    "\n",
    "money = int (input(\"금액을 입력하시오 : \"))\n",
    "\n",
    "c_50000 = money//50000 ##5민원이 몇장인지\n",
    "money %= 50000 ##5만원으로 바꾸고 남은게 얼마인지\n",
    "\n",
    "c_10000 = money //10000\n",
    "money %= 10000 \n",
    "\n",
    "c_5000 = money //5000\n",
    "money %= 5000 \n",
    "\n",
    "c_1000 = money //1000\n",
    "money %= 1000 \n",
    "\n",
    "c_500 = money //500\n",
    "money %= 500 \n",
    "\n",
    "c_100 = money //100\n",
    "money %= 100 \n",
    "\n",
    "c_50 = money //50\n",
    "money %= 50\n",
    "\n",
    "c_10 = money //10\n",
    "money %= 10\n",
    "\n",
    "print(\"5만원 : \", c_50000)\n",
    "print(\"1만원 : \", c_10000)\n",
    "print(\"5천원 : \", c_5000)\n",
    "print(\"1천원 : \", c_1000)\n",
    "print(\"500원 : \", c_500)\n",
    "print(\"100원 : \", c_100)\n",
    "print(\"50원 : \", c_50)\n",
    "print(\"10원 : \", c_10)"
   ]
  },
  {
   "cell_type": "code",
   "execution_count": null,
   "metadata": {},
   "outputs": [],
   "source": [
    "## 2번 문제\n",
    "year=int(input(\"년도를 입력하시오 : \"))\n",
    "\n",
    "if (((year %4) ==0) and ((year %100) != 0)) :\n",
    "    print(\"윤년이다.\")\n",
    "elif ((year % 400) == 0) :\n",
    "    print(\"윤년이다.\")\n",
    "else :\n",
    "    print(\"윤년이 아니다.\")"
   ]
  },
  {
   "cell_type": "code",
   "execution_count": 5,
   "metadata": {},
   "outputs": [
    {
     "name": "stdout",
     "output_type": "stream",
     "text": [
      "첫번째 사람이 던진 주사위 :  6\n",
      "두번째 사람이 던진 주사위 :  4\n",
      "첫번째 사람이 승리.\n"
     ]
    }
   ],
   "source": [
    "## 3번 문제\n",
    "import random\n",
    "n1=random.randint(1,6)\n",
    "n2=random.randint(1,6)\n",
    "\n",
    "print(\"첫번째 사람이 던진 주사위 : \", n1)\n",
    "print(\"두번째 사람이 던진 주사위 : \", n2)\n",
    "\n",
    "if (n1 > n2) :\n",
    "    print(\"첫번째 사람이 승리.\")\n",
    "elif (n1< n2) :\n",
    "    print(\"두번째 사람이 승리.\")\n",
    "else :\n",
    "    print(\"무승부.\")"
   ]
  }
 ],
 "metadata": {
  "kernelspec": {
   "display_name": "Python 3",
   "language": "python",
   "name": "python3"
  },
  "language_info": {
   "codemirror_mode": {
    "name": "ipython",
    "version": 3
   },
   "file_extension": ".py",
   "mimetype": "text/x-python",
   "name": "python",
   "nbconvert_exporter": "python",
   "pygments_lexer": "ipython3",
   "version": "3.8.5"
  }
 },
 "nbformat": 4,
 "nbformat_minor": 4
}
