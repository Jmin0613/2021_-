{
 "cells": [
  {
   "cell_type": "code",
   "execution_count": null,
   "metadata": {},
   "outputs": [],
   "source": [
    "mylist=[11,22,33,44,55]\n",
    "j=0\n",
    "for i in range(0,5):\n",
    "    j=j+mylist[i]\n",
    "    \n",
    "print(j)"
   ]
  },
  {
   "cell_type": "code",
   "execution_count": null,
   "metadata": {},
   "outputs": [],
   "source": [
    "for i in range(0,50,2):\n",
    "    if(i%2 == 0):\n",
    "        print(i, end=\" \")"
   ]
  },
  {
   "cell_type": "code",
   "execution_count": null,
   "metadata": {},
   "outputs": [],
   "source": [
    "for i in range(10,0,-1):\n",
    "    for j in range(0, i):\n",
    "        print(\"*\", end=\"\")\n",
    "    print()"
   ]
  },
  {
   "cell_type": "code",
   "execution_count": null,
   "metadata": {},
   "outputs": [],
   "source": [
    "sum=0\n",
    "for i in range(100):\n",
    "    sum=sum+1\n",
    "    print(i, end=\" \")\n",
    "print(sum)"
   ]
  },
  {
   "cell_type": "code",
   "execution_count": null,
   "metadata": {},
   "outputs": [],
   "source": [
    "numbers=[10,20]\n",
    "items=['tv', 'phone']\n",
    "for x in numbers:\n",
    "    for y in items:\n",
    "        print(x,y)"
   ]
  },
  {
   "cell_type": "code",
   "execution_count": null,
   "metadata": {},
   "outputs": [],
   "source": [
    "x=int(input(\"x:\"))\n",
    "y=int(input(\"y:\"))\n",
    "if x>y:\n",
    "    max=x\n",
    "    min=y\n",
    "elif x<y:\n",
    "    max=y\n",
    "    min=x\n",
    "else:\n",
    "    print(\"x와 y가 같음\")"
   ]
  },
  {
   "cell_type": "code",
   "execution_count": null,
   "metadata": {},
   "outputs": [],
   "source": [
    "import random\n",
    "op=random.randint(1,3)\n",
    "print(op)"
   ]
  },
  {
   "cell_type": "code",
   "execution_count": null,
   "metadata": {},
   "outputs": [],
   "source": [
    "x=input(\"입력 : \")\n",
    "if not (x=='서울' or x=='부산'):\n",
    "    print(\"잉\")"
   ]
  },
  {
   "cell_type": "code",
   "execution_count": null,
   "metadata": {},
   "outputs": [],
   "source": [
    "n=int(input(\"n : \"))\n",
    "\n",
    "# n=format(n,',')\n",
    "print(format(n,','))"
   ]
  },
  {
   "cell_type": "code",
   "execution_count": null,
   "metadata": {},
   "outputs": [],
   "source": [
    "import math\n",
    "x1,y1=eval(input(\"x1, y1 :\"))\n",
    "x2,y2=eval(input(\"x2, y2 :\"))\n",
    "\n",
    "n=math.sqrt((x1-x2)**2 + (y1-y2)**2)\n",
    "print(\"두점 사이 거리 : {:0.3f}\".format(n))"
   ]
  },
  {
   "cell_type": "code",
   "execution_count": null,
   "metadata": {},
   "outputs": [],
   "source": [
    "'나는'+12+'개의 사과를 먹음'"
   ]
  },
  {
   "cell_type": "code",
   "execution_count": null,
   "metadata": {},
   "outputs": [],
   "source": [
    "2.0+1.0/2"
   ]
  },
  {
   "cell_type": "code",
   "execution_count": null,
   "metadata": {},
   "outputs": [],
   "source": [
    "1.0+int(1/2)"
   ]
  },
  {
   "cell_type": "code",
   "execution_count": null,
   "metadata": {},
   "outputs": [],
   "source": [
    "x=10\n",
    "y=4\n",
    "x//y + x%y"
   ]
  },
  {
   "cell_type": "code",
   "execution_count": null,
   "metadata": {},
   "outputs": [],
   "source": [
    "'apple'*2"
   ]
  },
  {
   "cell_type": "code",
   "execution_count": null,
   "metadata": {},
   "outputs": [],
   "source": [
    "def fibo(n) :\n",
    "    result=0\n",
    "    \n",
    "    if n==0 :\n",
    "        print(result, end=\", \")\n",
    "        return 0\n",
    "    elif n==1 :\n",
    "        print(result, end=\", \")\n",
    "        return 1\n",
    "    else :\n",
    "        print(result, end=\", \")\n",
    "        return fibo(n-1)+fibo(n-2)\n",
    "    \n",
    "\n",
    "n=int(input(\"n : \"))\n",
    "for i in range(0,n) :\n",
    "    "
   ]
  },
  {
   "cell_type": "code",
   "execution_count": 2,
   "metadata": {},
   "outputs": [
    {
     "name": "stdout",
     "output_type": "stream",
     "text": [
      "n : 10\n",
      "[0, 1, 1, 2, 3, 5, 8, 13, 21, 34, 55]\n"
     ]
    }
   ],
   "source": [
    "n=int(input(\"n : \"))\n",
    "fibo=[]\n",
    "\n",
    "for i in range(0, n+1) :\n",
    "    if i<=1 :\n",
    "        fibo.append(i)\n",
    "    else :\n",
    "        j=fibo[i-2]+fibo[i-1]\n",
    "        fibo.append(j)\n",
    "print(fibo)"
   ]
  }
 ],
 "metadata": {
  "kernelspec": {
   "display_name": "Python 3",
   "language": "python",
   "name": "python3"
  },
  "language_info": {
   "codemirror_mode": {
    "name": "ipython",
    "version": 3
   },
   "file_extension": ".py",
   "mimetype": "text/x-python",
   "name": "python",
   "nbconvert_exporter": "python",
   "pygments_lexer": "ipython3",
   "version": "3.8.5"
  }
 },
 "nbformat": 4,
 "nbformat_minor": 4
}
