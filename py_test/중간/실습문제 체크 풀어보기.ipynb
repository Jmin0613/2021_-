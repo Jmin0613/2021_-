{
 "cells": [
  {
   "cell_type": "code",
   "execution_count": 4,
   "metadata": {},
   "outputs": [
    {
     "name": "stdout",
     "output_type": "stream",
     "text": [
      "10진수 입력 : 12\n",
      "2진수 변환 :  1100\n"
     ]
    }
   ],
   "source": [
    "## 4주차 4번문제\n",
    "\n",
    "n1=int(input(\"10진수 입력 : \"))\n",
    "n2=\"\"\n",
    "\n",
    "while n1>0 :\n",
    "    n2=str(n1%2)+n2\n",
    "    n1=n1//2\n",
    "    \n",
    "print(\"2진수 변환 : \", n2)"
   ]
  },
  {
   "cell_type": "code",
   "execution_count": 6,
   "metadata": {
    "scrolled": true
   },
   "outputs": [
    {
     "name": "stdout",
     "output_type": "stream",
     "text": [
      "2 이상의 정수를 입력하시오.....\n",
      "1번 정수를 입력 : 10\n",
      "2번 정수를 입력 : 100\n",
      "10 과  100  사이에 있는 소수 :  11 13 17 19 23 29 31 37 41 43 47 53 59 61 67 71 73 79 83 89 97 \n",
      "10 부터  100 까지 소수의 총합 :  1043\n"
     ]
    }
   ],
   "source": [
    "## 5주차 2번문제(while + if)\n",
    "\n",
    "while True :\n",
    "    print(\"2 이상의 정수를 입력하시오.....\")\n",
    "    n1=int(input(\"1번 정수를 입력 : \"))\n",
    "    n2=int(input(\"2번 정수를 입력 : \"))\n",
    "    \n",
    "    if (n1>=2 and n2>=2) :\n",
    "        break\n",
    "        \n",
    "#n1<n2\n",
    "if (n1 > n2):\n",
    "    n1, n2 = n2, n1\n",
    "    \n",
    "sum=0 #총합\n",
    "i=n1\n",
    "\n",
    "print(n1, \"과 \", n2, \" 사이에 있는 소수 : \", end=\" \")\n",
    "while (i<=n2) : #n1이 n2와 같아질 때까지 반복\n",
    "    j=2\n",
    "    while (j<i) :\n",
    "        if (i%j)==0 :\n",
    "            j=j+1\n",
    "            break\n",
    "        j=j+1\n",
    "    if i==j : #합하기\n",
    "        print(i, end=\" \")\n",
    "        sum=sum+i\n",
    "    i=i+1\n",
    "    \n",
    "print()\n",
    "print(n1, \"부터 \", n2, \"까지 소수의 총합 : \", sum)"
   ]
  },
  {
   "cell_type": "code",
   "execution_count": 7,
   "metadata": {},
   "outputs": [
    {
     "name": "stdout",
     "output_type": "stream",
     "text": [
      "2 이상의 정수를 입력하시오.....\n",
      "1번 정수를 입력 : 10\n",
      "2번 정수를 입력 : 100\n",
      "10 과  100 사이에 있는 소수 :  11 13 17 19 23 29 31 37 41 43 47 53 59 61 67 71 73 79 83 89 97 \n",
      "10 부터  100 까지 소수의 총합 :  1043\n"
     ]
    }
   ],
   "source": [
    "## 5주차 2번문제(for + if)\n",
    "\n",
    "print(\"2 이상의 정수를 입력하시오.....\")\n",
    "n1=int(input(\"1번 정수를 입력 : \"))\n",
    "n2=int(input(\"2번 정수를 입력 : \"))\n",
    "\n",
    "print(n1, \"과 \", n2, \"사이에 있는 소수 : \", end=\" \")\n",
    "sum=0;\n",
    "\n",
    "for i  in range(n1, n2+1) :\n",
    "    prime_n =True\n",
    "    for j in range(2,i) :\n",
    "        if i%j == 0 :\n",
    "            prime_n=False\n",
    "            break\n",
    "    if prime_n == True :\n",
    "        print(i, end=\" \")\n",
    "        sum=sum+i\n",
    "        \n",
    "print()\n",
    "print(n1, \"부터 \", n2, \"까지 소수의 총합 : \", sum)"
   ]
  },
  {
   "cell_type": "code",
   "execution_count": 8,
   "metadata": {
    "scrolled": true
   },
   "outputs": [
    {
     "name": "stdout",
     "output_type": "stream",
     "text": [
      "총 입력 : 7\n",
      "             1\n",
      "           2 1\n",
      "         3 2 1\n",
      "       4 3 2 1\n",
      "     5 4 3 2 1\n",
      "   6 5 4 3 2 1\n",
      " 7 6 5 4 3 2 1\n"
     ]
    }
   ],
   "source": [
    "## 5주차 3번문제\n",
    "n=eval(input(\"총 입력 : \"))\n",
    "\n",
    "for row in range(1, n+1) :\n",
    "    ##공백\n",
    "    for i in range(row, n) :\n",
    "        print(\"  \", end=\"\")\n",
    "    ##숫자\n",
    "    for i in range(row, 0, -1) :\n",
    "        print(format(i, \"2d\"), end=\"\")\n",
    "    print()"
   ]
  },
  {
   "cell_type": "code",
   "execution_count": 9,
   "metadata": {},
   "outputs": [
    {
     "name": "stdout",
     "output_type": "stream",
     "text": [
      "[1, 3, 5, 9, 7, 8]\n",
      "복권번호 6개 입력 : 2 5 6 7 3 1\n",
      "['2', '5', '6', '7', '3', '1']\n",
      "4 개의 숫자가 일치.\n",
      "1천만원 당첨\n"
     ]
    }
   ],
   "source": [
    "## 7주차 3번문제\n",
    "\n",
    "import random\n",
    "\n",
    "lotto=[]\n",
    "while len(lotto) < 6 :\n",
    "    imsi = random.randint(1,9)\n",
    "    while imsi in lotto :\n",
    "        imsi = random.randint(1,9)\n",
    "        \n",
    "    lotto.append(imsi)\n",
    "    \n",
    "print(lotto)\n",
    "\n",
    "num=input(\"복권번호 6개 입력 : \").split()\n",
    "print(num)\n",
    "\n",
    "count = 0\n",
    "\n",
    "for i in num :\n",
    "    if int(i) in lotto :\n",
    "        count = count+1\n",
    "        \n",
    "print(count, \"개의 숫자가 일치.\")\n",
    "\n",
    "if count == 6 :\n",
    "    print(\"1억원 당첨\")\n",
    "elif count == 5 :\n",
    "    print(\"5천만원 당첨\")\n",
    "elif count == 4 :\n",
    "    print(\"1천만원 당첨\")\n",
    "else :\n",
    "    print(\"다음기회에...\")"
   ]
  }
 ],
 "metadata": {
  "kernelspec": {
   "display_name": "Python 3",
   "language": "python",
   "name": "python3"
  },
  "language_info": {
   "codemirror_mode": {
    "name": "ipython",
    "version": 3
   },
   "file_extension": ".py",
   "mimetype": "text/x-python",
   "name": "python",
   "nbconvert_exporter": "python",
   "pygments_lexer": "ipython3",
   "version": "3.8.5"
  }
 },
 "nbformat": 4,
 "nbformat_minor": 4
}
