{
 "cells": [
  {
   "cell_type": "code",
   "execution_count": 1,
   "metadata": {},
   "outputs": [
    {
     "name": "stdout",
     "output_type": "stream",
     "text": [
      "1~1000 사이의 숫자를 입력: 223\n",
      "각 자릿수의 합:  7\n"
     ]
    }
   ],
   "source": [
    "##1번 문제\n",
    "while True :\n",
    "    num = int(input(\"1~1000 사이의 숫자를 입력: \"))\n",
    "    if(num<0 or num>1000) :\n",
    "        print(\"1~1000 사이 입력하시오.\")\n",
    "    else :\n",
    "        break\n",
    "    \n",
    "a=num//100\n",
    "b=(num-a*100)//10\n",
    "c=(num-(a*100)-(b*10))\n",
    "sum = a+b+c\n",
    "\n",
    "print(\"각 자릿수의 합: \", sum)"
   ]
  },
  {
   "cell_type": "code",
   "execution_count": 2,
   "metadata": {},
   "outputs": [
    {
     "name": "stdout",
     "output_type": "stream",
     "text": [
      "16진수 글자를 입력 : d\n",
      "True\n"
     ]
    }
   ],
   "source": [
    "##2번 문제\n",
    "a=input(\"16진수 글자를 입력 : \")\n",
    "if (a==\"A\"or a=='a' or a==\"B\" or a=='b'\n",
    "    or a==\"C\" or a=='c' or a==\"D\" or a=='d'\n",
    "    or a==\"E\" or a=='e' or a==\"F\" or a=='f'):\n",
    "    print(True)\n",
    "else :\n",
    "    print(False)"
   ]
  },
  {
   "cell_type": "code",
   "execution_count": 3,
   "metadata": {},
   "outputs": [
    {
     "name": "stdout",
     "output_type": "stream",
     "text": [
      "3개의 숫자 입력1,2,3\n",
      "세 정수의 합:  6\n",
      "세 정수의 평균:  2.0\n"
     ]
    }
   ],
   "source": [
    "##3번 문제\n",
    "\n",
    "# num1,num2, num3=map(int,input(\"정수 3개 입력 : \").split())\n",
    "num1,num2,num3=eval(input(\"3개의 숫자 입력\"))\n",
    "\n",
    "sum = (num1+num2+num3)\n",
    "ave=sum/3\n",
    "print(\"세 정수의 합: \", sum)\n",
    "print(\"세 정수의 평균: \", ave)"
   ]
  },
  {
   "cell_type": "code",
   "execution_count": 5,
   "metadata": {},
   "outputs": [
    {
     "name": "stdout",
     "output_type": "stream",
     "text": [
      "x1, y1 : 1,2\n",
      "x2, y2 : 3,4\n",
      "두점 사이 거리 :  2.8284271247461903\n"
     ]
    }
   ],
   "source": [
    "## 4번 문제\n",
    "import math\n",
    "\n",
    "x1,y1=eval(input(\"x1, y1 : \"))\n",
    "x2,y2=eval(input(\"x2, y2 : \"))\n",
    "\n",
    "n=math.sqrt((x1-x2)**2 + (y1-y2)**2)\n",
    "print(\"두점 사이 거리 : \", n)"
   ]
  },
  {
   "cell_type": "code",
   "execution_count": 11,
   "metadata": {},
   "outputs": [
    {
     "name": "stdout",
     "output_type": "stream",
     "text": [
      "2021 년  4 월  15 일\n",
      "2 시  46 분\n"
     ]
    }
   ],
   "source": [
    "##5번 문제\n",
    "import time\n",
    "\n",
    "time=time.localtime(time.time())\n",
    "print(time.tm_year, \"년 \", time.tm_mon, \"월 \", time.tm_mday, \"일\")\n",
    "print(time.tm_hour, \"시 \", time.tm_min, \"분\")"
   ]
  },
  {
   "cell_type": "code",
   "execution_count": 39,
   "metadata": {},
   "outputs": [
    {
     "name": "stdout",
     "output_type": "stream",
     "text": [
      "10\n",
      "10 20\n",
      "10 20\n",
      "20 10\n",
      "10 + 5 = 15\n",
      "10 - 5 = 5\n",
      "\n",
      " 10 +   5 =  15\n",
      " 10 -   5 =   5\n",
      "\n",
      "10.20 /  3.10 =  3.29\n",
      "10.20 %  3.10 =  0.90\n"
     ]
    }
   ],
   "source": [
    "##6번 문제(실행 결과 확인)\n",
    "a = '{}'.format(10)\n",
    "print(a)\n",
    "\n",
    "print('{} {}'.format(10,20)) \n",
    "print('{0} {1}'.format(10,20))\n",
    "print('{1} {0}'.format(10,20))\n",
    "\n",
    "print('{} + {} = {}'.format(10,5, 10+5))\n",
    "print('{} - {} = {}'.format(10,5, 10-5))\n",
    "print()\n",
    "\n",
    "print('{:3d} + {:3d} = {:3d}'.format(10,5, 10+5))\n",
    "print('{:3d} - {:3d} = {:3d}'.format(10,5, 10-5))\n",
    "print()\n",
    "\n",
    "print('{:5.2f} / {:5.2f} = {:5.2f}'.format(10.2, 3.1, 10.2/3.1))\n",
    "print('{:5.2f} % {:5.2f} = {:5.2f}'.format(10.2, 3.1, 10.2%3.1))"
   ]
  }
 ],
 "metadata": {
  "kernelspec": {
   "display_name": "Python 3",
   "language": "python",
   "name": "python3"
  },
  "language_info": {
   "codemirror_mode": {
    "name": "ipython",
    "version": 3
   },
   "file_extension": ".py",
   "mimetype": "text/x-python",
   "name": "python",
   "nbconvert_exporter": "python",
   "pygments_lexer": "ipython3",
   "version": "3.8.5"
  }
 },
 "nbformat": 4,
 "nbformat_minor": 4
}
