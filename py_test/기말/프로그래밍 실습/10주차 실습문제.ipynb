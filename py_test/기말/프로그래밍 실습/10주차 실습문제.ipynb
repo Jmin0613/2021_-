{
 "cells": [
  {
   "cell_type": "markdown",
   "metadata": {},
   "source": [
    "#### 1번 문제\n",
    "###### 두개의 집합 A={1, 2}, B={1,3} 이 있을 경우 곱집합 A X B 를 구하는 프로그램을 작성하시오.\n",
    "###### 이것을 활용하여 두개의 주사위를 던졌을 때 나오는 모든 경우의 수와 각각의 경우에 대한 합을 구하는 프로그램을 작성해보시오."
   ]
  },
  {
   "cell_type": "code",
   "execution_count": 1,
   "metadata": {},
   "outputs": [
    {
     "name": "stdout",
     "output_type": "stream",
     "text": [
      "{(2, 3), (1, 1), (1, 3), (2, 1)}\n",
      "\n",
      "{(3, 4), (4, 3), (3, 1), (5, 4), (4, 6), (5, 1), (2, 2), (1, 6), (2, 5), (1, 3), (6, 2), (6, 5), (4, 2), (4, 5), (3, 3), (5, 6), (3, 6), (5, 3), (2, 4), (1, 2), (2, 1), (1, 5), (6, 1), (6, 4), (3, 2), (4, 1), (3, 5), (5, 2), (4, 4), (5, 5), (1, 1), (1, 4), (2, 3), (2, 6), (6, 6), (6, 3)}\n",
      "{2, 3, 4, 5, 6, 7, 8, 9, 10, 11, 12}\n"
     ]
    }
   ],
   "source": [
    "A = {1,2}\n",
    "B = {1,3}\n",
    "result1=set()\n",
    "\n",
    "for i in A :\n",
    "    for j in B :\n",
    "        result1 = result1|{(i,j)} # result1= result1.union({(i,j)})\n",
    "print(result1)\n",
    "print()\n",
    "\n",
    "\n",
    "\n",
    "a={1,2,3,4,5,6}\n",
    "b={1,2,3,4,5,6}\n",
    "result2=set()\n",
    "\n",
    "for i in a :\n",
    "    for j in b :\n",
    "        result2=result2.union({(i,j)})\n",
    "print(result2)\n",
    "\n",
    "result2_sum=set()\n",
    "for i in result2 :\n",
    "    result2_sum.add(sum(i)) # 또는 result2_sum.add(i[0]+i[1])\n",
    "print(result2_sum)"
   ]
  },
  {
   "cell_type": "markdown",
   "metadata": {},
   "source": [
    "#### 2번 문제\n",
    "###### (리스트 컴프리헨션과 zip() 함수) 다음 프로그램의 결과를 예측해보시오\n",
    "###### 컴프리헨션은 값이 순차적인 리스트를 한줄로 간단히 만드는 경우에 사용(딕셔너리 컴프리헨션 도있음)"
   ]
  },
  {
   "cell_type": "code",
   "execution_count": null,
   "metadata": {},
   "outputs": [],
   "source": [
    "# <일반적인 반복문 이용하여 순차적 리스트 만드는 방식>\n",
    "num=[]\n",
    "for i in range(6) :\n",
    "    num.append(i)\n",
    "print(num)\n",
    "# [0, 1, 2, 3, 4, 5]\n",
    "\n",
    "# <리스트 컴프리헨션 만드는 방법>\n",
    "res=[i for i in range(6)]\n",
    "print(res)\n",
    "# [0, 1, 2, 3, 4, 5]\n",
    "\n",
    "s=[i*i for i in range(1,)]\n",
    "print(s)\n",
    "# [0]\n",
    "\n",
    "# <리스트 컴프리헨션 이용한 필터링 예>\n",
    "s=[i for i in range(1,100) if i%3==0]\n",
    "print(s)\n",
    "# [3, 6, 9, 12, 15, 18, 21, 24, 27, 30, 33, 36, 39, 42, 45, 48, 51\n",
    "#  54, 57, 60, 63, 66, 69, 72, 75, 78, 81, 84, 87, 90, 93, 96, 99]\n",
    "\n",
    "s=[i+5 for i in range(1,0)]\n",
    "print(s)\n",
    "# []\n",
    "\n",
    "# <리스트 컴프리헨션을 이용한 중첩 반복문 예>\n",
    "s1=[1,2,3]\n",
    "s2=[4,5,6]\n",
    "s3=[i+j for i in s1 for j in s2]\n",
    "print(s3)\n",
    "# [5, 6, 7, 6, 7, 8, 7, 8, 9]\n",
    "\n",
    "word1=\"hello\"\n",
    "word2=\"world\"\n",
    "word=[i+j for i in word1 for j in word2]\n",
    "print(word)\n",
    "# ['hw', 'ho', 'hr', 'hl', 'hd', 'ew', 'eo', 'er', 'el', 'ed', 'lw', 'lo', \n",
    "# 'lr', 'll', 'ld', 'lw', 'lo', 'lr', 'll', 'ld', 'ow', 'oo', 'or', 'ol', 'od']\n",
    "\n",
    "s1=['a','b','c']\n",
    "s2=['d','e','f']\n",
    "s3=[[i+j for i in s1] for j in s2]\n",
    "print(s3)\n",
    "# [['ad', 'bd', 'cd'], ['ae', 'be', 'ce'], ['af', 'bf', 'cf']]\n",
    "\n",
    "# <리스트 값을 병렬로 묶어서 출력하는 zip()함수>\n",
    "s1=['a','b','c']\n",
    "s2=['d','e','f']\n",
    "for a, b in zip(s1,s2) :\n",
    "    print(a,b)\n",
    "# a d\n",
    "# b e\n",
    "# c f"
   ]
  },
  {
   "cell_type": "markdown",
   "metadata": {},
   "source": [
    "#### 3번 문제\n",
    "###### 16진수 10개를 랜덤하게 생성하고, 오름차순으로 정렬하여 출력하는프로그램을 작성하시오."
   ]
  },
  {
   "cell_type": "code",
   "execution_count": 3,
   "metadata": {},
   "outputs": [
    {
     "name": "stdout",
     "output_type": "stream",
     "text": [
      "['0xa', '0x2e', '0x6', '0x6', '0x52', '0x5f', '0x44', '0x5d', '0x50', '0x36']\n",
      "['0x2e', '0x36', '0x44', '0x50', '0x52', '0x5d', '0x5f', '0x6', '0x6', '0xa']\n"
     ]
    }
   ],
   "source": [
    "import random\n",
    "data=[]\n",
    "\n",
    "for i in range(10) :\n",
    "    tmp=hex(random.randrange(1,100))\n",
    "    data.append(tmp)\n",
    "print(data)\n",
    "\n",
    "for i in range(len(data)-1) :\n",
    "    for j in range(i+1,len(data)) :\n",
    "        if (data[i]>data[j]) :\n",
    "            data[i], data[j] = data[j], data[i]\n",
    "            \n",
    "print(data)"
   ]
  },
  {
   "cell_type": "markdown",
   "metadata": {},
   "source": [
    "#### 4번 문제\n",
    "###### (문자열 변수) 다음 프로그램의 결과를 예측해보시오"
   ]
  },
  {
   "cell_type": "code",
   "execution_count": null,
   "metadata": {},
   "outputs": [],
   "source": [
    "s = '파이썬 프로그램 연습'\n",
    "print(s[0], s[1:3], s[:3], s[9:])\n",
    "# 파 이썬 파이썬 연습\n",
    "print(len(s)) # len()함수는 문자열의 길이를 구해준다.\n",
    "# 11\n",
    "\n",
    "# <대문자/소문자 변환하기>\n",
    "s1 = 'heLLo'\n",
    "s2 = s1.upper() \n",
    "s3 = s1.lower()\n",
    "s4 = s1.swapcase() \n",
    "print(s2,'\\t',s3,'\\t',s4)\n",
    "# HELLO   hello   HEllO\n",
    "\n",
    "# <문자열 찾기> (찾는 문자열의 위치를 알려준다)\n",
    "ss = '파이썬 프로그램 연습을 통하여 파이썬 프로그램 작성 실력이 향상될 수 있습니다'\n",
    "ss.count('파이썬')\n",
    "print(ss.find('프로그램'))\n",
    "# 4\n",
    "print(ss.rfind('프로그램'))\n",
    "# 21\n",
    "print(ss.find('프로그램',5))\n",
    "# 21\n",
    "print(ss.find('C++'))\n",
    "# -1\n",
    "print(ss.index('연습'))\n",
    "# 9\n",
    "print(ss.rindex('연습'))\n",
    "#9\n",
    "print(ss.index('프로그램',5))\n",
    "# 21\n",
    "print(ss.index('C++'))\n",
    "# 오류 : substring not found\n",
    "print(startswith('파이썬'))\n",
    "# True\n",
    "print(endswith('다'))\n",
    "# False\n",
    "\n",
    "# <기타 중요한 함수들>\n",
    "# 문자열 공백 삭제하기, 변경하기(strip(), rstrip(), lstrip(), replace())\n",
    "# 문자열 분리 및 결합하기(split(), splitlines(), join())\n",
    "# 문자열 정렬하기(center(), ljust(), rjust(), zfill())\n",
    "# 문자열 구성 파악하기(isdigit(), isalpha(), isalnum(), islower(), isupper(), isspace())"
   ]
  },
  {
   "cell_type": "markdown",
   "metadata": {},
   "source": [
    "#### 5번 문제\n",
    "###### 사용자가 입력한 문자열에서 숫자, 영문 대소문자, 한글, 기타 문자의 개수를 세는 프로그램을 작성하시오."
   ]
  },
  {
   "cell_type": "code",
   "execution_count": 4,
   "metadata": {},
   "outputs": [
    {
     "name": "stdout",
     "output_type": "stream",
     "text": [
      "문자열 입력 : 2021년 6월 3일은  Thursday이다.\n",
      "대문자 :  1\n",
      "소문자 :  7\n",
      "숫자 :  6\n",
      "한글 :  6\n",
      "기타 :  5\n"
     ]
    }
   ],
   "source": [
    "data = input(\"문자열 입력 : \")\n",
    "\n",
    "upper_cnt=0\n",
    "lower_cnt=0\n",
    "number_cnt=0\n",
    "korean_cnt=0\n",
    "etc=0\n",
    "\n",
    "for i in data :\n",
    "    if (ord(i) >= ord('A') and ord(i) <= ord('Z')) :\n",
    "        upper_cnt+=1\n",
    "    elif (ord(i) >= ord('a') and ord(i)<=ord('z')) :\n",
    "        lower_cnt+=1\n",
    "    elif (ord(i) >= ord('0') and ord(i)<=ord('9')) :\n",
    "        number_cnt+=1\n",
    "    elif (ord(i) >= ord('가') and ord(i)<=ord('핳')) :\n",
    "        korean_cnt+=1\n",
    "    else :\n",
    "        etc+=1\n",
    "        \n",
    "print(\"대문자 : \",upper_cnt)\n",
    "print(\"소문자 : \",lower_cnt)\n",
    "print(\"숫자 : \",number_cnt)\n",
    "print(\"한글 : \",korean_cnt)\n",
    "print(\"기타 : \",etc)"
   ]
  },
  {
   "cell_type": "markdown",
   "metadata": {},
   "source": [
    "#### 5번 문제\n",
    "###### tring 모듈에 정의된 ascii_uppercase는 알파벳 대문자의 목록이 들어있다.\n",
    "###### 이 문자열 목록과 문자열 슬라이싱 기능을 사용하여 다음과 같은 텍스트를 출력하여라"
   ]
  },
  {
   "cell_type": "code",
   "execution_count": 6,
   "metadata": {
    "scrolled": true
   },
   "outputs": [
    {
     "name": "stdout",
     "output_type": "stream",
     "text": [
      "ABCDEFGHIJKLMNOPQRSTUVWXYZ\n"
     ]
    }
   ],
   "source": [
    "import string\n",
    "st=string.ascii_uppercase\n",
    "print(st)"
   ]
  },
  {
   "cell_type": "code",
   "execution_count": 5,
   "metadata": {},
   "outputs": [
    {
     "name": "stdout",
     "output_type": "stream",
     "text": [
      "ABCDEFGHIJKLMNOPQRSTUVWXYZ\n",
      "BCDEFGHIJKLMNOPQRSTUVWXYZA\n",
      "CDEFGHIJKLMNOPQRSTUVWXYZAB\n",
      "DEFGHIJKLMNOPQRSTUVWXYZABC\n",
      "EFGHIJKLMNOPQRSTUVWXYZABCD\n",
      "FGHIJKLMNOPQRSTUVWXYZABCDE\n",
      "GHIJKLMNOPQRSTUVWXYZABCDEF\n",
      "HIJKLMNOPQRSTUVWXYZABCDEFG\n",
      "IJKLMNOPQRSTUVWXYZABCDEFGH\n",
      "JKLMNOPQRSTUVWXYZABCDEFGHI\n",
      "KLMNOPQRSTUVWXYZABCDEFGHIJ\n",
      "LMNOPQRSTUVWXYZABCDEFGHIJK\n",
      "MNOPQRSTUVWXYZABCDEFGHIJKL\n",
      "NOPQRSTUVWXYZABCDEFGHIJKLM\n",
      "OPQRSTUVWXYZABCDEFGHIJKLMN\n",
      "PQRSTUVWXYZABCDEFGHIJKLMNO\n",
      "QRSTUVWXYZABCDEFGHIJKLMNOP\n",
      "RSTUVWXYZABCDEFGHIJKLMNOPQ\n",
      "STUVWXYZABCDEFGHIJKLMNOPQR\n",
      "TUVWXYZABCDEFGHIJKLMNOPQRS\n",
      "UVWXYZABCDEFGHIJKLMNOPQRST\n",
      "VWXYZABCDEFGHIJKLMNOPQRSTU\n",
      "WXYZABCDEFGHIJKLMNOPQRSTUV\n",
      "XYZABCDEFGHIJKLMNOPQRSTUVW\n",
      "YZABCDEFGHIJKLMNOPQRSTUVWX\n",
      "ZABCDEFGHIJKLMNOPQRSTUVWXY\n"
     ]
    }
   ],
   "source": [
    "st=\"ABCDEFGHIJKLMNOPQRSTUVWXYZ\"\n",
    "\n",
    "for i in range(26) :\n",
    "    s=st[i:]+st[:i]\n",
    "    print(s)"
   ]
  },
  {
   "cell_type": "markdown",
   "metadata": {},
   "source": [
    "#### 6번 문제\n",
    "###### 어떤 문자열을 뒤집었을 때에 원래의 문자열과 같은 것을 회문(palindrome)이라고 한다. \n",
    "###### 예를 들어 'mom'은 문자열을 뒤집어도 'mom'이 되므로 회문이다.\n",
    "###### 어떤 문자열을 입력하면 이 문자열이 회문인지 아닌지 검사하는 코드를 작성하라."
   ]
  },
  {
   "cell_type": "code",
   "execution_count": 7,
   "metadata": {},
   "outputs": [
    {
     "name": "stdout",
     "output_type": "stream",
     "text": [
      "문자열 입력 : A nut for a jar of tuna\n",
      "희문입니다\n"
     ]
    }
   ],
   "source": [
    "string = input(\"문자열 입력 : \")\n",
    "string = string.upper()\n",
    "string=string.replace(' ','')\n",
    "l=len(string)\n",
    "\n",
    "result=True\n",
    "for i in range(l) :\n",
    "    if (string[i] is not string[l-1-i]) :\n",
    "        result = False\n",
    "        break\n",
    "        \n",
    "if result == True :\n",
    "    print(\"희문입니다\")\n",
    "else :\n",
    "    print(\"희문 아닙니다.\")"
   ]
  }
 ],
 "metadata": {
  "kernelspec": {
   "display_name": "Python 3",
   "language": "python",
   "name": "python3"
  },
  "language_info": {
   "codemirror_mode": {
    "name": "ipython",
    "version": 3
   },
   "file_extension": ".py",
   "mimetype": "text/x-python",
   "name": "python",
   "nbconvert_exporter": "python",
   "pygments_lexer": "ipython3",
   "version": "3.8.5"
  }
 },
 "nbformat": 4,
 "nbformat_minor": 4
}
