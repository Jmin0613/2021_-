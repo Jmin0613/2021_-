{
 "cells": [
  {
   "cell_type": "markdown",
   "metadata": {},
   "source": [
    "#### 1번 문제 화일처리 1\n",
    "\n",
    "- 화일을 열때는 open() 함수를 사용한다.\n",
    "  - 화일객체 = open('화일경로', '화일모드', 인코딩방식)\n",
    "  - 화일 경로 : 백슬래시를 사용하는 경우는 \\\\, 슬래시를 사용하는 경우는 / (예: c:\\\\temp\\\\data.txt 또는 C:/temp/dat.txt)\n",
    "  - 화일모드 : (r:읽기모드, w: 쓰기모드, a:추가모드, t:텍스트화일, b:바이너리화일)\n",
    "  - 인코딩 방식 : 영문 데이타만 있으면 생략, 한글 데이타가 포함되어 있으면 encoding='utf-8' 명시\n",
    "- 화일에서 데이타를 읽을때는 read() 함수를 사용합니다. read()함수는 크기를 명시하지 않으면 화일의 모든 데이타를 읽어옵니다\n",
    "- 화일에 데이타를 쓸때는 write()함수를 사용합니다. write()함수는 문자열만 쓸 수 있습니다.\n",
    "- 화일을 닫을때는 close()함수를 사용합니다.\n",
    "- clsoe() 함수를 사용하지 않고, 자동으로 화일을 닫기위해서 with ~ as 명령어를 사용합니다.\n",
    "- random() 함수를 이용하여 학생 10명의 키와 몸무게를 생성하여 student_bmi.txt 화일에 저장하여 보시오. 또한, 화일에 저장된 데이타를 읽어서 화면에 출력하여 보시오"
   ]
  },
  {
   "cell_type": "code",
   "execution_count": 35,
   "metadata": {},
   "outputs": [],
   "source": [
    "file = open('./sample.txt','wt',encoding='utf-8')\n",
    "file.write('화일처리 첫번째 프로그램!') # write -> 문자열만 쓸 수 있음\n",
    "file.write('화일에 첫번째 문자열 씁니다. \\n') # write -> 자동개행\n",
    "file.write('화일에 두번째 문자열 씁니다. \\n')\n",
    "file.close()"
   ]
  },
  {
   "cell_type": "code",
   "execution_count": 36,
   "metadata": {},
   "outputs": [
    {
     "name": "stdout",
     "output_type": "stream",
     "text": [
      "화일처리 첫번째 프\n",
      "로그램!화일에 첫번\n",
      "화일처리 첫번째 프로그램!화일에 첫번째 문자열 씁니다. \n",
      "화일에 두번째 문자열 씁니다. \n",
      "\n"
     ]
    }
   ],
   "source": [
    "file = open('./sample.txt','rt',encoding='utf-8')\n",
    "\n",
    "data1=file.read(10) # (?) 안쓰면 전부 다 읽음\n",
    "print(data1)\n",
    "\n",
    "data2=file.read(10)\n",
    "print(data2)\n",
    "\n",
    "file.seek(0) # seek(0) -> 지금까지 읽은거 무시, 0번부터 다시 읽음\n",
    "\n",
    "data3=file.read()\n",
    "print(data3)\n",
    "\n",
    "file.close()"
   ]
  },
  {
   "cell_type": "code",
   "execution_count": 37,
   "metadata": {
    "scrolled": true
   },
   "outputs": [
    {
     "name": "stdout",
     "output_type": "stream",
     "text": [
      "화일처리 첫번째 프로그램!화일에 첫번째 문자열 씁니다. \n",
      "화일에 두번째 문자열 씁니다. \n",
      "\n"
     ]
    }
   ],
   "source": [
    "with open('./sample.txt','rt',encoding='utf-8') as file: # 자동으로 close\n",
    "    data=file.read()\n",
    "    print(data)\n"
   ]
  },
  {
   "cell_type": "code",
   "execution_count": 38,
   "metadata": {},
   "outputs": [
    {
     "name": "stdout",
     "output_type": "stream",
     "text": [
      "학생 1, 100, 111 \n",
      "학생 2, 168, 60 \n",
      "학생 3, 128, 116 \n",
      "학생 4, 146, 96 \n",
      "학생 5, 157, 66 \n",
      "학생 6, 111, 90 \n",
      "학생 7, 157, 97 \n",
      "학생 8, 121, 78 \n",
      "학생 9, 138, 116 \n",
      "학생 10, 179, 73 \n",
      "\n"
     ]
    }
   ],
   "source": [
    "import random\n",
    "with open('./student_bmi.txt','wt',encoding='utf-8') as file :# 한글 -> utf-8\n",
    "    for i in range(10):\n",
    "        height=random.randrange(100,200)\n",
    "        weight=random.randrange(50,120)\n",
    "        file.write('학생 {}, {}, {} \\n'.format(i+1,height,weight))\n",
    "\n",
    "with open('./student_bmi.txt','rt',encoding='utf-8') as file :\n",
    "    data=file.read()\n",
    "    print(data)"
   ]
  },
  {
   "cell_type": "markdown",
   "metadata": {},
   "source": [
    "#### 2번 문제 화일처리 2(텍스트 화일 입출력)\n",
    "\n",
    "- 텍스트 화일에 저장된 내용은 한줄의 끝마다 눈에 보이지 않는 줄바꿈 문자(\\n)가 들어가 있다.\n",
    "- 화일에 저장된 내용을 한 행씩 읽는 경우 readline() 함수를 사용한다. readline() 함수는 화일의 끝을 만나면 빈문자열 ('') 를 돌려준다.\n",
    "- 화일에 저장된 내용을 한번에 다 읽기 위해서는 readlines() 함수를 사용한다. readlines() 함수는 읽어들인 모든 데이타를 리스트로 반환해준다.\n",
    "  - for 반복문을 이용하면 readline()을 이용하지 않고도 한줄씩 읽어들일 수 있다.\n",
    "- 화일에 내용을 쓰기 위해서는 writelines() 함수를 이용한다.\n",
    "  - writelines()함수는 화일에 문자열을 쓸 수 있다. 줄을 바꾸어서 저장하기 위해서는 줄바꿈문자('\\n')을 써야 한다.\n",
    "  - writelines()함수는 리스트를 이용하여 여러개의 문자열을 한번에 기록 할 수 있다."
   ]
  },
  {
   "cell_type": "code",
   "execution_count": 39,
   "metadata": {
    "scrolled": true
   },
   "outputs": [
    {
     "name": "stdout",
     "output_type": "stream",
     "text": [
      "학생 1, 100, 111 \n",
      "학생 2, 168, 60 \n",
      "학생 3, 128, 116 \n",
      "학생 4, 146, 96 \n",
      "학생 5, 157, 66 \n",
      "학생 6, 111, 90 \n",
      "학생 7, 157, 97 \n",
      "학생 8, 121, 78 \n",
      "학생 9, 138, 116 \n",
      "학생 10, 179, 73 \n"
     ]
    }
   ],
   "source": [
    "in_file = open('./student_bmi.txt','rt',encoding='utf-8')\n",
    "while True :\n",
    "    data = in_file.readline()\n",
    "    if data == '' :\n",
    "        break\n",
    "    print(data,end=\"\")\n",
    "in_file.close()"
   ]
  },
  {
   "cell_type": "code",
   "execution_count": 40,
   "metadata": {},
   "outputs": [
    {
     "name": "stdout",
     "output_type": "stream",
     "text": [
      "['학생 1, 100, 111 \\n', '학생 2, 168, 60 \\n', '학생 3, 128, 116 \\n', '학생 4, 146, 96 \\n', '학생 5, 157, 66 \\n', '학생 6, 111, 90 \\n', '학생 7, 157, 97 \\n', '학생 8, 121, 78 \\n', '학생 9, 138, 116 \\n', '학생 10, 179, 73 \\n']\n",
      "학생 1, 100, 111 \n",
      "학생 2, 168, 60 \n",
      "학생 3, 128, 116 \n",
      "학생 4, 146, 96 \n",
      "학생 5, 157, 66 \n",
      "학생 6, 111, 90 \n",
      "학생 7, 157, 97 \n",
      "학생 8, 121, 78 \n",
      "학생 9, 138, 116 \n",
      "학생 10, 179, 73 \n"
     ]
    }
   ],
   "source": [
    "in_file = open('./student_bmi.txt','rt',encoding='utf-8')\n",
    "datas = in_file.readlines() # readlines -> 몽땅 다 읽음 -> 반복 불필요\n",
    "print(datas) # 데이터 작으면 한번에 읽음\n",
    "\n",
    "for data in datas : # 데이터 크면 한줄씩 읽음\n",
    "    print(data,end=\"\")\n",
    "\n",
    "in_file.close()"
   ]
  },
  {
   "cell_type": "code",
   "execution_count": 41,
   "metadata": {},
   "outputs": [
    {
     "name": "stdout",
     "output_type": "stream",
     "text": [
      "학생 1, 100, 111 \n",
      "학생 2, 168, 60 \n",
      "학생 3, 128, 116 \n",
      "학생 4, 146, 96 \n",
      "학생 5, 157, 66 \n",
      "학생 6, 111, 90 \n",
      "학생 7, 157, 97 \n",
      "학생 8, 121, 78 \n",
      "학생 9, 138, 116 \n",
      "학생 10, 179, 73 \n"
     ]
    }
   ],
   "source": [
    "in_file = open('./student_bmi.txt','rt',encoding='utf-8')\n",
    "for data in in_file : # 화일에서 한줄씩 읽어서 data에 저장해둠\n",
    "    print(data,end=\"\")\n",
    "    \n",
    "in_file.close()"
   ]
  },
  {
   "cell_type": "code",
   "execution_count": 42,
   "metadata": {},
   "outputs": [
    {
     "name": "stdout",
     "output_type": "stream",
     "text": [
      "그런 화일 없음\n"
     ]
    }
   ],
   "source": [
    "# 화일 없는 경우\n",
    "import os # 폴더 관리 명령어 들어간 패키지\n",
    "if os.path.exists('./student_bm.txt') :\n",
    "    in_file = open('./student_bm.txt','rt',encoding='utf-8')\n",
    "else :\n",
    "    print(\"그런 화일 없음\")\n",
    "    \n",
    "in_file.close()"
   ]
  },
  {
   "cell_type": "code",
   "execution_count": 43,
   "metadata": {},
   "outputs": [],
   "source": [
    "out_file = open('./tmp.txt','w',encoding='utf-8')\n",
    "out_file.writelines('hello ')\n",
    "out_file.writelines('world \\n') # 개행x\n",
    "out_file.writelines('화일처리 파이썬 프로그램 예제\\n')\n",
    "out_file.writelines('문자열이 잘 기록되어 있나요 ? \\n')\n",
    "\n",
    "lst=['test string 1 \\n','test string 2 \\n','test string 3 \\n']\n",
    "out_file.writelines(lst)\n",
    "\n",
    "out_file.close()"
   ]
  },
  {
   "cell_type": "code",
   "execution_count": 44,
   "metadata": {},
   "outputs": [
    {
     "name": "stdout",
     "output_type": "stream",
     "text": [
      "hello world \n",
      "화일처리 파이썬 프로그램 예제\n",
      "문자열이 잘 기록되어 있나요 ? \n",
      "test string 1 \n",
      "test string 2 \n",
      "test string 3 \n"
     ]
    }
   ],
   "source": [
    "with open('./tmp.txt','rt',encoding='utf-8') as in_file :\n",
    "    for data in in_file :\n",
    "        print(data,end=\"\")"
   ]
  },
  {
   "cell_type": "markdown",
   "metadata": {},
   "source": [
    "#### 3번 문제\n",
    "###### 1번에서 만든 stduent_bmi.txt 화일의 내용을 읽어 아래와 같이 출력할 수 있는 프로그램을 작성하시오. 또한 계산한 bmi 값과 판정결과 값을 화일에 기록할 수 있는 프로그램을 만들어 보시오.\n",
    "\n",
    "이름 : 학생 1\n",
    "키 : 165\n",
    "몸무게 : 75\n",
    "BMI : 15\n",
    "판정결과 : 저체중"
   ]
  },
  {
   "cell_type": "code",
   "execution_count": 45,
   "metadata": {},
   "outputs": [
    {
     "name": "stdout",
     "output_type": "stream",
     "text": [
      "['학생 1,100,111,111,고도비만', '학생 2,168,60,21,정상', '학생 3,128,116,70,고도비만', '학생 4,146,96,45,고도비만', '학생 5,157,66,26,과체중', '학생 6,111,90,73,고도비만', '학생 7,157,97,39,비만', '학생 8,121,78,53,고도비만', '학생 9,138,116,60,고도비만', '학생 10,179,73,22,정상']\n"
     ]
    }
   ],
   "source": [
    "in_file = open ('./student_bmi.txt','rt',encoding='utf-8')\n",
    "\n",
    "data = in_file.readline()\n",
    "student_data=[]\n",
    "\n",
    "while data != '' :\n",
    "    name,height,weight = data.strip().split(', ')\n",
    "    bmi= int(int(weight)/((int(height)/100)**2))\n",
    "    \n",
    "    result=''\n",
    "    if bmi>=40 :\n",
    "        result='고도비만'\n",
    "    elif bmi>=30 :\n",
    "        result='비만'\n",
    "    elif bmi>=25 :\n",
    "        result='과체중'\n",
    "    elif bmi>=20 :\n",
    "        result='정상'\n",
    "    else :\n",
    "        result='저체중'\n",
    "        \n",
    "    imsi='{},{},{},{},{}'.format(name,height,weight,str(bmi),result)\n",
    "    student_data.append(imsi)\n",
    "    data=in_file.readline()\n",
    "        \n",
    "in_file.close()\n",
    "print(student_data)"
   ]
  },
  {
   "cell_type": "code",
   "execution_count": 46,
   "metadata": {},
   "outputs": [
    {
     "name": "stdout",
     "output_type": "stream",
     "text": [
      "학생 1,100,111,111,고도비만학생 2,168,60,21,정상학생 3,128,116,70,고도비만학생 4,146,96,45,고도비만학생 5,157,66,26,과체중학생 6,111,90,73,고도비만학생 7,157,97,39,비만학생 8,121,78,53,고도비만학생 9,138,116,60,고도비만학생 10,179,73,22,정상"
     ]
    }
   ],
   "source": [
    "out_file = open('./student_bmi_result.txt','wt',encoding='utf-8')\n",
    "out_file.writelines(student_data)\n",
    "out_file.close()\n",
    "\n",
    "in_file = open('./student_bmi_result.txt','rt',encoding='utf-8')\n",
    "for data in in_file :\n",
    "    print(data, end='')\n",
    "in_file.close()"
   ]
  }
 ],
 "metadata": {
  "kernelspec": {
   "display_name": "Python 3",
   "language": "python",
   "name": "python3"
  }
 },
 "nbformat": 4,
 "nbformat_minor": 4
}
