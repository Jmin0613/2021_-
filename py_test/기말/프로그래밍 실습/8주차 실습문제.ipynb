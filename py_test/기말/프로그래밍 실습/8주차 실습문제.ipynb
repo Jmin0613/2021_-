{
 "cells": [
  {
   "cell_type": "markdown",
   "metadata": {},
   "source": [
    "#### 1번 문제\n",
    "###### ['abcd', 'efgfd', 'kg', 'dspassdf', 'dfsresa', 'dsfsfdasfds'] 와 같은 문자열을 가진 리스트가 존재한다.\n",
    "###### 이 리스트에서 가장 길이가 짧은 문자열과 가장 긴 문자열을 출력하는 프로그램을 작성하시오. (리스트에 저장된 모든 문자열의 길이는 다르다)"
   ]
  },
  {
   "cell_type": "code",
   "execution_count": 10,
   "metadata": {},
   "outputs": [
    {
     "name": "stdout",
     "output_type": "stream",
     "text": [
      "가장 짧은 문자열 : kg\n",
      "가장 긴 문자열 : dsfsfdasfds\n"
     ]
    }
   ],
   "source": [
    "lst=['abcd', 'efgfd', 'kg', 'dspassdf', 'dfsresa', 'dsfsfdasfds']\n",
    "\n",
    "min_len=len(lst[0])\n",
    "max_len=len(lst[0])\n",
    "for i in range(len(lst)-1):\n",
    "    if min_len > len(lst[i+1]):\n",
    "        min_len=i+1\n",
    "    if max_len < len(lst[i+1]):\n",
    "        max_len=i+1\n",
    "print(\"가장 짧은 문자열 :\",lst[min_len])\n",
    "print(\"가장 긴 문자열 :\",lst[(max_len)])"
   ]
  },
  {
   "cell_type": "markdown",
   "metadata": {},
   "source": [
    "#### 2번 문제\n",
    "###### 10명의 학생이 사지선다형 quiz 를 보았습니다.\n",
    "###### 리스트를 이용하여 채점하는 프로그램을 작성하시오."
   ]
  },
  {
   "cell_type": "code",
   "execution_count": 11,
   "metadata": {},
   "outputs": [
    {
     "name": "stdout",
     "output_type": "stream",
     "text": [
      "1 번 학생은 2 개 맞춤\n",
      "2 번 학생은 3 개 맞춤\n",
      "3 번 학생은 3 개 맞춤\n",
      "4 번 학생은 3 개 맞춤\n",
      "5 번 학생은 1 개 맞춤\n",
      "6 번 학생은 3 개 맞춤\n",
      "7 번 학생은 2 개 맞춤\n",
      "8 번 학생은 3 개 맞춤\n",
      "9 번 학생은 2 개 맞춤\n"
     ]
    }
   ],
   "source": [
    "student=[\n",
    "    [1, 4, 2, 3, 2, 1, 3, 4, 2, 4],\n",
    "    [2, 3, 1, 2, 4, 3, 2, 1, 3, 4],\n",
    "    [1, 2, 3, 4, 2, 2, 3, 4, 1, 1],\n",
    "    [4, 1, 3, 2, 3, 1, 2, 4, 1, 4],\n",
    "    [4, 4, 2, 3, 3, 2, 3, 2, 1, 3],\n",
    "    [3, 1, 2, 4, 1, 2, 1, 2, 4, 4],\n",
    "    [2, 1, 2, 1, 4, 3, 1, 4, 1, 1],\n",
    "    [3, 1, 3, 1, 4, 1, 2, 3, 1, 4],\n",
    "    [2, 3, 2, 1, 2, 4, 1, 4, 3, 2]\n",
    "]\n",
    "\n",
    "answer=[1, 3, 2, 4, 1, 4, 2, 3, 1, 4]\n",
    "\n",
    "for i in range(len(student)):\n",
    "    cnt=0\n",
    "    for j in range(len(student[i])):\n",
    "        if answer[i] == student[i][j] :\n",
    "            cnt+=1\n",
    "            \n",
    "    print(i+1,\"번 학생은\",cnt,\"개 맞춤\")   "
   ]
  },
  {
   "cell_type": "markdown",
   "metadata": {},
   "source": [
    "#### 3번 문제\n",
    "###### 숫자 1보다 크고 10보다 작은 값 n을 입력으로 받아서 다음과 같이 출력할 수 있는 프로그램을 작성해보시오."
   ]
  },
  {
   "cell_type": "code",
   "execution_count": 12,
   "metadata": {},
   "outputs": [
    {
     "name": "stdout",
     "output_type": "stream",
     "text": [
      "n을 입력하시오(1<n<10): 5\n",
      "  1   2   3   4   5 \n",
      "\n",
      "  6   7   8   9  10 \n",
      "\n",
      " 11  12  13  14  15 \n",
      "\n",
      " 16  17  18  19  20 \n",
      "\n",
      " 21  22  23  24  25 \n",
      "\n"
     ]
    }
   ],
   "source": [
    "n=int(input(\"n을 입력하시오(1<n<10): \"))\n",
    "\n",
    "for i in range(1,n*n+1) :\n",
    "    print(\"{:3d}\".format(i),end=\" \")\n",
    "    if i%n==0 :\n",
    "        print(\"\\n\")"
   ]
  },
  {
   "cell_type": "markdown",
   "metadata": {},
   "source": [
    "#### 4번 문제\n",
    "###### (튜플 변수 ) 다음 프로그램의 결과를 예측해보시오\n",
    "###### 튜플 변수의 값은 절대 수정 불가(따라서 리스트에서 사용했던append, extend와 같은 함수를 사용하면 안된다)"
   ]
  },
  {
   "cell_type": "code",
   "execution_count": null,
   "metadata": {
    "scrolled": false
   },
   "outputs": [],
   "source": [
    "tuple_test1 = (10, 20, 30) # 하나의 튜플 변수에 여러개의 값을 저장할 수 있다.\n",
    "tuple_test2 = (40, 50, 70)\n",
    "\n",
    "print(tuple_test1)\n",
    "# (10,20,30)\n",
    "\n",
    "print(tuple_test1[0], tuple_test1[1], tuple_test1[2])\n",
    "# 10 20 30\n",
    "\n",
    "print(tuple_test1[0:2])\n",
    "# (10, 20)\n",
    "\n",
    "tuple_test1[0] = 20\n",
    "# 에러(튜플변수에 값을 수정해서는 안된다.\n",
    "\n",
    "tuple_test3 = tuple_test1+tuple_test2\n",
    "print(tuple_test3)\n",
    "# (10, 20, 30, 40, 50, 70)\n",
    "\n",
    "print(len(tuple_test3))\n",
    "# 6\n",
    "\n",
    "print(tuple_test1*3)\n",
    "# (10, 20, 30, 10, 20, 30, 10, 20, 30)\n",
    "\n",
    "a1 = (10, 20, 30) # 튜플 변수에 여러개 값을 저장하는 경우에는 괄호를 생략해도 된다.\n",
    "a2 = 10, 20, 30\n",
    "print(a1, a2)\n",
    "# (10, 20, 30) (10, 20, 30)\n",
    "\n",
    "a3, a4, a5 = (10, 20, 30) # 여러개의 변수에 튜플 형식으로 저장되어 있는 값을 따로 따로 저할 수 있다.\n",
    "print(a3, a4, a5)\n",
    "# 10 20 30\n",
    "\n",
    "a1 = 10 # 값이 하나일 경우에는 튜플이 아니다\n",
    "a2 = 10, # 튜플 변수에 하나의 값을 저장하는 경우에는 반드시 콤마를 적어야 한다.\n",
    "print(a1, a2)\n",
    "# 10 (10,)"
   ]
  },
  {
   "cell_type": "markdown",
   "metadata": {},
   "source": [
    "#### 5번 문제\n",
    "###### 튜플 변수를 이용하여 두 수를 교환하는프로그램을 작성하시오.\n",
    "###### divmod 함수와 enumerate 함수는 결과로 튜플을 돌려주는 함수이다.  사용법을 예를 들어 보시오."
   ]
  },
  {
   "cell_type": "code",
   "execution_count": 7,
   "metadata": {},
   "outputs": [
    {
     "name": "stdout",
     "output_type": "stream",
     "text": [
      "교환전 x= 10  y= 20\n",
      "교환후 x= 20  y= 10\n",
      "\n",
      "divimod 사용 :  7 를  3 로 나누었을 때, 몫= 2  나머지= 1\n",
      "\n",
      "enumerate사용 :\n",
      "0 : a\n",
      "1 : b\n",
      "2 : c\n",
      "3 : d\n",
      "4 : e\n"
     ]
    }
   ],
   "source": [
    "x,y=(10,20) # 또는 x,y=10,20 -> 2개이상 쓰인 튜플변수는 괄호 생략 가능\n",
    "print(\"교환전 x=\",x,\" y=\",y)\n",
    "x,y = y,x\n",
    "print(\"교환후 x=\",x,\" y=\",y)\n",
    "print()\n",
    "\n",
    "a,b=(7,3)\n",
    "p,q=divmod(a,b)\n",
    "print(\"divimod 사용 : \",a,\"를 \",b,\"로 나누었을 때, 몫=\",p,\" 나머지=\",q)\n",
    "print()\n",
    "\n",
    "lst=['a','b','c','d','e']\n",
    "print(\"enumerate사용 :\")\n",
    "for i,v in enumerate(lst):\n",
    "    print(i,\":\",v)"
   ]
  },
  {
   "cell_type": "markdown",
   "metadata": {},
   "source": [
    "#### 6번 문제\n",
    "###### (딕셔너리 변수 : 딕셔너리 변수는 키와 값의 쌍으로 구성된다) 다음 프로그램의 결과를 예측해보시오\n",
    "###### 리스트가 인덱스를 기반으로 값을 저장하는 것이라면 딕셔너리는 키를 기반으로 값을 저장한다"
   ]
  },
  {
   "cell_type": "code",
   "execution_count": null,
   "metadata": {},
   "outputs": [],
   "source": [
    "dict_1 = {1:'a', 2:'b', 3:'c'}\n",
    "print(dict_1)\n",
    "# {1: 'a', 2: 'b', 3: 'c'}\n",
    "\n",
    "print(dict_1[1], dict_1[2], dict_1[3])\n",
    "# a b c\n",
    "\n",
    "dict_2 = {'학과':'의료IT공학과', '학번': 20150041, '이름':'홍길동', '취미':['탁구', '영화보기','프로그래밍']}\n",
    "print(dict_2)\n",
    "# {'학과': '의료IT공학과', '학번': 20150041, '이름': '홍길동', '취미': ['탁구', '영화보기', '프로그래밍']}\n",
    "\n",
    "print(dict_2['학과'], dict_2['학번'], dict_2['이름'], dict_2['취미'])\n",
    "# 의료IT공학과 20150041 홍길동 ['탁구', '영화보기', '프로그래밍']\n",
    "\n",
    "dict_2['전화번호']='010-123-4567' # 새로운 키와 값을 추가할 수 있다.\n",
    "dict_2['학번']='20150039' # 기존의 키와 값을 변경할 수 있다.\n",
    "print(dict_2)\n",
    "# {'학과': '의료IT공학과', '학번': '20150039', '이름': '홍길동', \n",
    "#   취미': ['탁구', '영화보기', '프로그래밍'], '전화번호': '010-123-4567'}\n",
    "\n",
    "del(dict_2['전화번호']) # 기존의 키와 값을 삭제할 수 있다.\n",
    "print(dict_2)\n",
    "# {'학과': '의료IT공학과', '학번': '20150039', '이름': '홍길동', '취미': ['탁구', '영화보기', '프로그래밍']}\n",
    "\n",
    "print(dict_2['취미'][0], dict_2['취미'][1], dict_2['취미'][2]) # 키값에 대응하는 값이 여러개 있을 경우는 인덱싱을 이용한다\n",
    "# 탁구 영화보기 프로그래밍\n",
    "\n",
    "key = input('dict_2 변수에서 있는지 확인하고 싶은 키 입력 :')\n",
    "# dict_2 변수에서 있는지 확인하고 싶은 키 입력 :이름\n",
    "\n",
    "if key in dict_2 :\n",
    "    print(dict_2[key])\n",
    "else :\n",
    "    print('입력한 키에 해당하는 값이 없습니다.')\n",
    "# 홍길동"
   ]
  }
 ],
 "metadata": {
  "kernelspec": {
   "display_name": "Python 3",
   "language": "python",
   "name": "python3"
  },
  "language_info": {
   "codemirror_mode": {
    "name": "ipython",
    "version": 3
   },
   "file_extension": ".py",
   "mimetype": "text/x-python",
   "name": "python",
   "nbconvert_exporter": "python",
   "pygments_lexer": "ipython3",
   "version": "3.8.5"
  }
 },
 "nbformat": 4,
 "nbformat_minor": 4
}
