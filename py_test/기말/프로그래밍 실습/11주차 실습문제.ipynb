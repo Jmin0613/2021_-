{
 "cells": [
  {
   "cell_type": "markdown",
   "metadata": {},
   "source": [
    "#### 1번 문제\n",
    "######  아래의 개념들에 대해서 예를 들어 설명해보시오.\n",
    "- 값에 의한 호출 방식\n",
    "- 참조에 의한 호출 방식\n",
    "- 전역변수와 지역변수"
   ]
  },
  {
   "cell_type": "code",
   "execution_count": 10,
   "metadata": {},
   "outputs": [
    {
     "name": "stdout",
     "output_type": "stream",
     "text": [
      "함수 밖: a= 100 b= 200\n",
      "함수 f1: x= 100 y= 200\n",
      "함수 f1: x= 10 y= 20\n",
      "함수 밖: a= 100 b= 200\n"
     ]
    }
   ],
   "source": [
    "# 값에 의한 호출 방식\n",
    "def f1(x,y) :\n",
    "    print(\"함수 f1: x=\",x,\"y=\",y)\n",
    "    x=10; y=20\n",
    "    print(\"함수 f1: x=\",x,\"y=\",y)\n",
    "    \n",
    "a=100; b=200\n",
    "print(\"함수 밖: a=\",a,\"b=\",b)\n",
    "f1(a,b)\n",
    "print(\"함수 밖: a=\",a,\"b=\",b)"
   ]
  },
  {
   "cell_type": "code",
   "execution_count": 2,
   "metadata": {},
   "outputs": [
    {
     "name": "stdout",
     "output_type": "stream",
     "text": [
      "함수 전: lst= [2, 3, 4]\n",
      "함수 f2: t= [2, 3, 4]\n",
      "함수 밖: lst= [3, 4, 5]\n"
     ]
    }
   ],
   "source": [
    "# 참조에 의한 호출 방식\n",
    "def f2(t) : #매개변수로써 리스트/튜플/딕셔너리/세트 전달\n",
    "    print(\"함수 f2: t=\",t)\n",
    "    t.append(5)\n",
    "    t.remove(2)\n",
    "    \n",
    "lst=[2,3,4]\n",
    "print(\"함수 전: lst=\",lst)\n",
    "f2(lst)\n",
    "print(\"함수 밖: lst=\",lst)"
   ]
  },
  {
   "cell_type": "code",
   "execution_count": 3,
   "metadata": {},
   "outputs": [
    {
     "name": "stdout",
     "output_type": "stream",
     "text": [
      "20\n",
      "함수 밖: s= i love python\n",
      "함수 밖: t= 20\n"
     ]
    }
   ],
   "source": [
    "# 전역변수와 지역변수\n",
    "def f3(s,t) :\n",
    "    s=\"i love c#\" #지역변수\n",
    "    t=30 #지역변수\n",
    "    k=20 #지역변수\n",
    "    print(k)\n",
    "    \n",
    "t=20 #전역변수\n",
    "s=\"i love python\" #전역변수\n",
    "f3(s,t)\n",
    "\n",
    "print(\"함수 밖: s=\",s)\n",
    "print(\"함수 밖: t=\",t)\n",
    "\n",
    "# 3줄 s와 9줄 s는 다름"
   ]
  },
  {
   "cell_type": "markdown",
   "metadata": {},
   "source": [
    "#### 2번 문제\n",
    "######  (함수 인수를 사용하는 방식) 아래의 개념들에 대해서 예를 들어 설명해보시오.\n",
    "- 키워드 인수 전달 방식\n",
    "- 디폴트 인수 전달 방식\n",
    "- 가변 인수 전달 방식\n",
    "- 키워드 가변 인수 전달 방식"
   ]
  },
  {
   "cell_type": "code",
   "execution_count": 4,
   "metadata": {},
   "outputs": [
    {
     "name": "stdout",
     "output_type": "stream",
     "text": [
      "3 + 5 = 8\n",
      "20 + 5 = 25\n",
      "20 + 5 = 25\n"
     ]
    }
   ],
   "source": [
    "# 키워드 인수 전달 방식\n",
    "def add(a,b) :\n",
    "    print(a,\"+\",b,\"=\",a+b)\n",
    "    \n",
    "add(3,5)\n",
    "add(a=20,b=5) # 매개변수 전달 순서 상관안함\n",
    "add(b=5,a=20)"
   ]
  },
  {
   "cell_type": "code",
   "execution_count": 5,
   "metadata": {},
   "outputs": [
    {
     "name": "stdout",
     "output_type": "stream",
     "text": [
      "10 + 20 = 30\n",
      "30 + 5 = 35\n",
      "40 + 50 = 90\n"
     ]
    }
   ],
   "source": [
    "# 디폴트 인수 전달 방식\n",
    "def add(a=10, b=5) :\n",
    "    print(a,\"+\",b,\"=\",a+b)\n",
    "    \n",
    "add(10,20)\n",
    "add(30)\n",
    "add(40,50)"
   ]
  },
  {
   "cell_type": "code",
   "execution_count": 6,
   "metadata": {},
   "outputs": [
    {
     "name": "stdout",
     "output_type": "stream",
     "text": [
      "3\n",
      "15\n",
      "55\n"
     ]
    }
   ],
   "source": [
    "# 가변 인수전달 방식 -> 매개변수 수가 일정x일때\n",
    "def add(*t) :\n",
    "    sum=0\n",
    "    for i in t :\n",
    "        sum+=i\n",
    "    return sum\n",
    "    \n",
    "print(add(1,2)) # 튜플\n",
    "print(add(1,2,3,4,5))\n",
    "print(add(1,2,3,4,5,6,7,8,9,10))"
   ]
  },
  {
   "cell_type": "code",
   "execution_count": 7,
   "metadata": {},
   "outputs": [
    {
     "name": "stdout",
     "output_type": "stream",
     "text": [
      "{'x': 3, 'y': 4, 'z': 5}\n",
      "3 4 5\n",
      "dict_keys(['x', 'y', 'z'])\n",
      "dict_values([3, 4, 5])\n",
      "dict_items([('x', 3), ('y', 4), ('z', 5)])\n",
      "x 3\n",
      "y 4\n",
      "z 5\n",
      "\n",
      "{'x': 3, 'y': 4, 'z': 5, 'u': 7}\n",
      "3 4 5\n",
      "dict_keys(['x', 'y', 'z', 'u'])\n",
      "dict_values([3, 4, 5, 7])\n",
      "dict_items([('x', 3), ('y', 4), ('z', 5), ('u', 7)])\n",
      "x 3\n",
      "y 4\n",
      "z 5\n",
      "u 7\n"
     ]
    }
   ],
   "source": [
    "# 키워드 가변 인수전달 방식\n",
    "def kwtest(**a) :\n",
    "    print(a) #딕셔너리\n",
    "    print(a['x'],a['y'],a['z'])\n",
    "    print(a.keys())\n",
    "    print(a.values())\n",
    "    print(a.items())\n",
    "    \n",
    "    for k,v in a.items() :\n",
    "        print(k,v)\n",
    "    \n",
    "kwtest(x=3,y=4,z=5)\n",
    "print()\n",
    "kwtest(x=3,y=4,z=5,u=7)"
   ]
  },
  {
   "cell_type": "markdown",
   "metadata": {},
   "source": [
    "##### 3번 문제\n",
    "###### 재귀함수를 이용하여 피보나시 수열을 구하시오."
   ]
  },
  {
   "cell_type": "code",
   "execution_count": 8,
   "metadata": {},
   "outputs": [
    {
     "name": "stdout",
     "output_type": "stream",
     "text": [
      "피보나치 수열 항의 개수 : 10\n",
      "0 1 1 2 3 5 8 13 21 34 \n"
     ]
    }
   ],
   "source": [
    "# 일반 재귀\n",
    "def fibo(n) :\n",
    "    if n>=2 :\n",
    "        before = 0 ; after = 1\n",
    "        for i in range(n-1) :\n",
    "            before, after = after, before+after\n",
    "        return after\n",
    "    else :\n",
    "        return n\n",
    "    \n",
    "num = int(input(\"피보나치 수열 항의 개수 : \"))\n",
    "\n",
    "for i in range(0,num) :\n",
    "    print(fibo(i),end=\" \")\n",
    "print()"
   ]
  },
  {
   "cell_type": "code",
   "execution_count": 9,
   "metadata": {},
   "outputs": [
    {
     "name": "stdout",
     "output_type": "stream",
     "text": [
      "피보나치 수열 항의 개수 : 10\n",
      "0 1 1 2 3 5 8 13 21 34 \n"
     ]
    }
   ],
   "source": [
    "# 재귀 피보\n",
    "def fibo(n) :\n",
    "    if n>=2 :\n",
    "        return fibo(n-1)+fibo(n-2)\n",
    "    else :\n",
    "        return n\n",
    "    \n",
    "num = int(input(\"피보나치 수열 항의 개수 : \"))\n",
    "\n",
    "for i in range(0,num) :\n",
    "    print(fibo(i),end=\" \")\n",
    "print()"
   ]
  }
 ],
 "metadata": {
  "kernelspec": {
   "display_name": "Python 3",
   "language": "python",
   "name": "python3"
  },
  "language_info": {
   "codemirror_mode": {
    "name": "ipython",
    "version": 3
   },
   "file_extension": ".py",
   "mimetype": "text/x-python",
   "name": "python",
   "nbconvert_exporter": "python",
   "pygments_lexer": "ipython3",
   "version": "3.8.5"
  }
 },
 "nbformat": 4,
 "nbformat_minor": 4
}
