{
 "cells": [
  {
   "cell_type": "markdown",
   "metadata": {},
   "source": [
    "####  1번 문제"
   ]
  },
  {
   "cell_type": "markdown",
   "metadata": {},
   "source": [
    "패스워드 검사기) 보통의 웹사이트는 패스워드 생성 규칙을 가지고 있다. 사용자가 패스워드로 어떤 문자열을 입력했을 때, 입력한 문자열이 합당한 패스워드인지 검사할 수 있도록 하고 싶다. 패스워드 생성 규칙은 아래와 같다. 사용자로부터 패스워드를 입력받고 패스워드가 규칙에 합당하면 “올바른 패스워드입니다”를 출력하고, 그렇지 않으면 “올바르지 않은 패스워드입니다”를 출력할 수 있는 프로그램을 작성하시오. \n",
    "\n",
    "[패스워드 생성 규칙]\n",
    "  - 패스워드는 최소한 8개의 문자를 가져야 한다. \n",
    "  - 패스워드는 문자와 숫자로 구성되어야 한다. \n",
    "  - 패스워드는 쇠호한 두 개의 숫자를 가지고 있어야 한다. "
   ]
  },
  {
   "cell_type": "code",
   "execution_count": 27,
   "metadata": {},
   "outputs": [
    {
     "name": "stdout",
     "output_type": "stream",
     "text": [
      "(영문+숫자) 비밀번호를 입력하시오 : wnwkaodlfjsflsd123\n",
      "올바른 패스워드입니다.\n"
     ]
    }
   ],
   "source": [
    "import re\n",
    "# 비밀본호(문자열) 입력\n",
    "password=input(\"(영문+숫자) 비밀번호를 입력하시오 : \")\n",
    "passAll=list(password) #비밀번호 각각 쪼개기\n",
    "TotalCnt=0\n",
    "\n",
    "#규칙1 \n",
    "numbers=re.findall(\"\\d\", password) ## 숫자만 추출\n",
    "\n",
    "if len(numbers) >=2 :\n",
    "    TotalCnt=TotalCnt+1\n",
    "    \n",
    "#규칙2 \n",
    "if (len(passAll)-len(numbers)) >=8 :\n",
    "    TotalCnt=TotalCnt+1\n",
    "    \n",
    "#규칙3 (숫자와 문자 모두 조건을 만족한경우, TotalCnt가 2가 되어 결과를 출력)\n",
    "if TotalCnt == 2 :\n",
    "    print(\"올바른 패스워드입니다.\")\n",
    "else :\n",
    "    print(\"올바르지 않은 패스워드입니다.\")"
   ]
  },
  {
   "cell_type": "markdown",
   "metadata": {},
   "source": [
    "#### 2번 문제"
   ]
  },
  {
   "cell_type": "markdown",
   "metadata": {},
   "source": [
    "(숫자의 빈도수 구하기) 1과 100사이의 정수를 공백으로 구분하여 여러개 입력한 후, 각 정수의 빈도수를 세는 프로그램을 작성하시오."
   ]
  },
  {
   "cell_type": "code",
   "execution_count": 2,
   "metadata": {
    "scrolled": true
   },
   "outputs": [
    {
     "name": "stdout",
     "output_type": "stream",
     "text": [
      "1부터 10사이의 정수를 공백으로 구분하여 여러개 입력하시오: 1 7 5 4 3 2 3 3 5 8 9 10 8 9\n",
      "1  : 반복 회수  1 번\n",
      "7  : 반복 회수  1 번\n",
      "5  : 반복 회수  2 번\n",
      "4  : 반복 회수  1 번\n",
      "3  : 반복 회수  3 번\n",
      "2  : 반복 회수  1 번\n",
      "8  : 반복 회수  2 번\n",
      "9  : 반복 회수  2 번\n",
      "10  : 반복 회수  1 번\n"
     ]
    }
   ],
   "source": [
    "# 정수들 입력받기\n",
    "# 정수들 각각 쪼개기\n",
    "#keys를 이용하여 카운트\n",
    "\n",
    "nums=input(\"1부터 10사이의 정수를 공백으로 구분하여 여러개 입력하시오: \")\n",
    "\n",
    "numAll=nums.split(' ') #공백으로 쪼개기\n",
    "numDic={}\n",
    "\n",
    "for i in numAll :\n",
    "    nCount=numAll.count(i) #i가 numAll에 있는지 카운트\n",
    "    numDic[i]=nCount #카운트 삽입\n",
    "    \n",
    "for j in numDic :\n",
    "    print(j,\" : 반복 회수 \", numDic[j],\"번\")"
   ]
  },
  {
   "cell_type": "markdown",
   "metadata": {},
   "source": [
    "#### 3번 문제"
   ]
  },
  {
   "cell_type": "markdown",
   "metadata": {},
   "source": [
    "(사원별 주당 근무시간 계산하기) 아래의 표에 모든 사원의 주당 근무시간이 기록되어 있다고 가정하자. 각각의 행에 사원의 7일 동안의 근무시간이 7개의 열로 저장되어 있다. 예를 들어 아래의 표는 8명의 사원에 대한 근무시간이 기록된 표이다. 사원의 총근무시간을 구하여 총근무시간의 내림차순으로 출력할 수 있는 프로그램을 작성하시오."
   ]
  },
  {
   "cell_type": "code",
   "execution_count": 3,
   "metadata": {},
   "outputs": [
    {
     "name": "stdout",
     "output_type": "stream",
     "text": [
      "사원들 총근무시간 내림차순 출력 : [41, 37, 36, 32, 31, 28, 28, 24]\n"
     ]
    }
   ],
   "source": [
    "# 1. workers 2차원 리스트만들기\n",
    "worker=[[2,3,4,5,6,8,8], [7,3,4,3,3,4,4], [3,3,4,3,3,4,4], [9,3,4,7,3,4,1],\n",
    "       [3,5,4,3,6,3,8], [3,4,4,6,3,4,4], [3,7,4,8,3,8,4], [6,3,5,9,2,7,9]]\n",
    "\n",
    "# 2. 각 행별로 총 근무시간 합하기\n",
    "work_h=[]\n",
    "for i in range(len(worker)) :\n",
    "    sum=0\n",
    "    for j in range(len(worker[0])) :\n",
    "        sum=sum+worker[i][j]\n",
    "    work_h.append(sum)\n",
    "\n",
    "# 3. 총근무시간을 내림차순으로 출력하기\n",
    "work_h.sort(reverse=True)\n",
    "print(\"사원들 총근무시간 내림차순 출력 : \",end='')\n",
    "print(work_h)"
   ]
  }
 ],
 "metadata": {
  "kernelspec": {
   "display_name": "Python 3",
   "language": "python",
   "name": "python3"
  },
  "language_info": {
   "codemirror_mode": {
    "name": "ipython",
    "version": 3
   },
   "file_extension": ".py",
   "mimetype": "text/x-python",
   "name": "python",
   "nbconvert_exporter": "python",
   "pygments_lexer": "ipython3",
   "version": "3.8.5"
  }
 },
 "nbformat": 4,
 "nbformat_minor": 4
}
