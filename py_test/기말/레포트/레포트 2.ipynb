{
 "cells": [
  {
   "cell_type": "markdown",
   "metadata": {},
   "source": [
    "### 1번문제"
   ]
  },
  {
   "cell_type": "markdown",
   "metadata": {},
   "source": [
    "(점수분석하기) 임의의 성적 점수(0~100)를 아래와 같이 여러개 읽어들여 평균 점수를 구한 후, 입력 데이터에서 평균보다 크거나 같은 점수가 몇 개 있는지 또한 평균보다 작은 점수가 몇 개 있는지를 출력할 수 있는 프로그램을 작성하시오. 입력할 성적 점수는 한행에 한칸씩 띄어서 여러개 입력할 수 있도록 한다."
   ]
  },
  {
   "cell_type": "code",
   "execution_count": 11,
   "metadata": {
    "scrolled": true
   },
   "outputs": [
    {
     "name": "stdout",
     "output_type": "stream",
     "text": [
      "1부터 10사이의 정수를 공백으로 구분하여 여러개 입력하시오: 45 67 89 34 92 67 88 52 64\n",
      "평균점수 : 66.4\n",
      "평균점수 이상 :  5\n",
      "평균점수 이상 :  4\n"
     ]
    }
   ],
   "source": [
    "import re\n",
    "\n",
    "# 1. 성적 점수 여러개 받음\n",
    "score=input(\"1부터 10사이의 정수를 공백으로 구분하여 여러개 입력하시오: \")\n",
    "\n",
    "# 2. 공백으로 점수 각각 자르기\n",
    "scoreAll=score.split(' ') #공백으로 쪼개기\n",
    "\n",
    "# 3. 평균구하기 ave\n",
    "sum=0\n",
    "for i in range(0, len(scoreAll)) :\n",
    "    sum=sum+int(scoreAll[i])\n",
    "\n",
    "ave=sum/len(scoreAll)\n",
    "print(\"평균점수 : %.1f\" %ave)\n",
    "\n",
    "# 4. 평균 이상, 이하 갯수 구하기\\\n",
    "countUp=0\n",
    "countDown=0\n",
    "for i in range(0,len(scoreAll)) :\n",
    "    if (int(scoreAll[i]) >= ave) :\n",
    "        countUp=countUp+1\n",
    "    if (int(scoreAll[i]) <= ave) :\n",
    "        countDown=countDown+1\n",
    "\n",
    "print(\"평균점수 이상 : \", countUp)\n",
    "print(\"평균점수 이상 : \", countDown)"
   ]
  },
  {
   "cell_type": "code",
   "execution_count": null,
   "metadata": {},
   "outputs": [],
   "source": [
    "# <답안>\n",
    "s = input(\"성적 점수(0~100)를 여러개 입력하세요 : \") \n",
    "items = s.split() \n",
    "scores = [ eval(x) for x in items ] \n",
    "\n",
    "numOfAbove = 0\n",
    "average = sum(scores) / len(scores)\n",
    "\n",
    "for score in scores:\n",
    "    if score >= average:\n",
    "        numOfAbove += 1\n",
    "\n",
    "print(\"평균점수 : \", round(average,1))\n",
    "print(\"평균점수 이상 : \", numOfAbove)\n",
    "print(\"평균점수 미만 : \", len(scores) - numOfAbove)"
   ]
  },
  {
   "cell_type": "markdown",
   "metadata": {},
   "source": [
    "### 2번문제"
   ]
  },
  {
   "cell_type": "markdown",
   "metadata": {},
   "source": [
    "(행렬의 주대각선 합하기) 정수로 이루어진 4 x 4 행렬의 주대각선에 포함된 모든 숫자의 합을 구하는 프로그램을 작성하시오. 주대각선이란 정방행렬의 왼쪽 위 모서리에서 오른쪽 아래 모서리를 가로지르는 대각선을 말한다. (즉 행렬에서 행번호와 열 번호가 같은 원소들을 연결하는 대각선을 말한다.) "
   ]
  },
  {
   "cell_type": "code",
   "execution_count": 5,
   "metadata": {
    "scrolled": true
   },
   "outputs": [
    {
     "name": "stdout",
     "output_type": "stream",
     "text": [
      "1행의 원소 4개를 정수로 연속하여 입력하세오 : 1 4 -2 1\n",
      "2행의 원소 4개를 정수로 연속하여 입력하세오 : 5 6 2 10\n",
      "3행의 원소 4개를 정수로 연속하여 입력하세오 : 3 4 1 7\n",
      "4행의 원소 4개를 정수로 연속하여 입력하세오 : 0 -1 -2 -3\n",
      "입력한 행렬의 주대각선의 합은  5\n"
     ]
    }
   ],
   "source": [
    "# 각 행렬 입력받기\n",
    "prc = [[0]*4 for i in range(4)]\n",
    "\n",
    "for i in range(0,4) :\n",
    "    num=input(\"%d행의 원소 4개를 정수로 연속하여 입력하세오 : \" %(i+1))\n",
    "    numAll=num.split(' ') #공백으로 쪼개기\n",
    "    for j in range(0,4) :\n",
    "        prc[i][j]=int(numAll[j])\n",
    "    numAll.clear()\n",
    "    \n",
    "    \n",
    "# 각 행렬 주대각선 합하기\n",
    "sum=0\n",
    "for i in range(0,4) :\n",
    "    sum=sum+prc[i][i]\n",
    "    \n",
    "print(\"입력한 행렬의 주대각선의 합은 \", sum)"
   ]
  },
  {
   "cell_type": "code",
   "execution_count": null,
   "metadata": {},
   "outputs": [],
   "source": [
    "# <답안>\n",
    "def sumMajorDiagonal(m):\n",
    "    sum = 0\n",
    "    for i in range(len(m)):\n",
    "        sum += m[i][i]\n",
    "    return sum\n",
    "        \n",
    "matrix = []\n",
    "\n",
    "for i in range(4):\n",
    "    s = input(f\"{i+1} 행의 원소 4개를 정수로 연속하여 입력하세요 : \") \n",
    "    items = s.split() \n",
    "    list = [ eval(x) for x in items ] \n",
    "    matrix.append(list)\n",
    "\n",
    "print(\"입력한 행렬의 주대각선의 합은\", sumMajorDiagonal(matrix))\n"
   ]
  },
  {
   "cell_type": "markdown",
   "metadata": {},
   "source": [
    "### 3번문제"
   ]
  },
  {
   "cell_type": "markdown",
   "metadata": {},
   "source": [
    "(가장 작은 원소의 인덱스 찾기) 임의의 정수를 아래와 같이 여러개 읽어들인 후 가장 작은 정수가 있는 곳의 인덱스를 출력할 수 있는 프로그램을 작성하시오. 만일 가장 작은 정수가 2개 이상 있으면 그 중에 가장 작은 인덱스를 출력할수 있도록 하시오."
   ]
  },
  {
   "cell_type": "code",
   "execution_count": 6,
   "metadata": {
    "scrolled": true
   },
   "outputs": [
    {
     "name": "stdout",
     "output_type": "stream",
     "text": [
      "정수를 여러개 한줄에 빈칸으로 구분하여 입력하시오 : 8 6 3 10 9 21 4 7 5\n",
      "가장 작은 정수가 있는 곳의 인덱스는  2\n"
     ]
    }
   ],
   "source": [
    "# 1. 임의의 정수 여러개 입력받기\n",
    "num=input(\"정수를 여러개 한줄에 빈칸으로 구분하여 입력하시오 : \")\n",
    "numAll=num.split(' ') #공백으로 쪼개기\n",
    "\n",
    "# 2. 가장 작은 정수 찾기\n",
    "# 만일 가장 작은 정수가 2개 이상이면 그 중 가장 작은 인덱스를 출력 -> numAll < min (not <=)\n",
    "min=int(numAll[0])\n",
    "idx=0\n",
    "\n",
    "for i in range(1,len(numAll)) :\n",
    "    if int(numAll[i])<min : #임시로 입력한 min보다 작은 경우\n",
    "        min=int(numAll[i]) #작은 정수 입력(가장 작은 원소의 인덱스 찾기) 임의의 정수를 아래와 같이 여러개 읽어들인 후 가장 작은 정수가 있는 곳의 인덱스를 출력할 수 있는 프로그램을 작성하시오. 만일 가장 작은 정수가 2개 이상 있으면 그 중에 가장 작은 인덱스를 출력할수 있도록 하시오.\n",
    "        idx=i\n",
    "        \n",
    "# 3. 그 정수가 저장된 인덱스 출력\n",
    "print(\"가장 작은 정수가 있는 곳의 인덱스는 \", idx)"
   ]
  },
  {
   "cell_type": "code",
   "execution_count": null,
   "metadata": {},
   "outputs": [],
   "source": [
    "# <답안>\n",
    "def main():    \n",
    "    s = input(\"정수를 여러개 한줄에 빈칸으로 구분하여 입력하시오 : \") \n",
    "    items = s.split() \n",
    "    numbers = [ eval(x) for x in items ] \n",
    "    print(\"가장 작은 정수가 있는 곳의 인덱스는 \", indexOfSmallestElement(numbers))\n",
    "   \n",
    "def indexOfSmallestElement(list):\n",
    "    min = list[0]\n",
    "    minIndex = 0\n",
    "\n",
    "    for i in range(1, len(list)):\n",
    "        if min > list[i]:\n",
    "            min = list[i]\n",
    "            minIndex = i\n",
    "\n",
    "    return minIndex\n",
    "\n",
    "main()\n"
   ]
  },
  {
   "cell_type": "markdown",
   "metadata": {},
   "source": [
    "### 4번문제"
   ]
  },
  {
   "cell_type": "markdown",
   "metadata": {},
   "source": [
    "(가장 가까운 짝 찾기) 사용자로부터 점의 위치(x,y)를 입력받은 후 가장 가까운 두점의 좌표를 출력하는 프로그램을 작성해보시오. 동일한 최소거리를 갖는 가장 가까운 짝은 여러개 존재할 수 있다. 가장 가까운 짝을 모두 출력할 수 있도록 프로그램을 작성하시오. "
   ]
  },
  {
   "cell_type": "markdown",
   "metadata": {},
   "source": [
    "###### 가장 가까운 짝 찾기\n",
    "- 1. 점의 갯수 입력받기\n",
    "- 2. 점의 위치(x,y)입력받기\n",
    "- 3. 각 점 사이의 거리를 구하기\n",
    "- 4. 가장 작은 최소거리를 같는 두 점 출력\n",
    "- 5. 가장 작은 최소거리가 같은 점들이 여러개 -> 모두 출력"
   ]
  },
  {
   "cell_type": "code",
   "execution_count": 4,
   "metadata": {},
   "outputs": [
    {
     "name": "stdout",
     "output_type": "stream",
     "text": [
      "점의 개수를 입력하세요 : 2\n",
      "콤마로 분리하여 점의 좌표값을 입력하세요 :  1,2\n",
      "콤마로 분리하여 점의 좌표값을 입력하세요 :  3,4\n"
     ]
    }
   ],
   "source": [
    "import math\n",
    "\n",
    "# 3. 각 점 사이의 거리를 구하기(함수)\n",
    "def length(x1,y1,x2,y2) :\n",
    "    return math.sqrt((x1**2 - x2**2)+(y1**2 - y2**2))\n",
    "\n",
    "\n",
    "# 1. 점의 갯수 입력받기\n",
    "n=int(input(\"점의 개수를 입력하세요 : \"))\n",
    "\n",
    "# 2. 점의 위치(x,y)입력받기\n",
    "arr = [[0]*2 for i in range(4)]\n",
    "\n",
    "for i in range(0,n) :\n",
    "    print(\"콤마로 분리하여 점의 좌표값을 입력하세요 : \", end=\" \")\n",
    "    arr[i]=map, (int, input().split(','))\n",
    "    \n",
    "# 3. 각 점 사이의 거리를 구하기\n",
    "min=0\n",
    "arr_min=[]\n",
    "cnt=0\n",
    "for i in range(0, n) :\n",
    "    for j in range(i+1, n+1) :\n",
    "        if (min = length(arr[i], arr[j], min)) :\n",
    "            arr_min.append(i)\n",
    "            arr_min.append(j)\n",
    "        if (min > length(arr[i], arr[j], min)) :\n",
    "            arr_min.clear()\n",
    "            arr_min.append(i)\n",
    "            arr_min.append(j)\n",
    "            cnt=cnt+1\n",
    "\n",
    "# 4. 가장 작은 최소거리를 가진 두 점 출력\n",
    "for"
   ]
  },
  {
   "cell_type": "code",
   "execution_count": 12,
   "metadata": {},
   "outputs": [
    {
     "name": "stdout",
     "output_type": "stream",
     "text": [
      "점의 개수를 입력하세요: 5\n",
      "5 개 점의 위치를 입력하세요:\n",
      "콤마로 분리하여 점의 좌표값을 입력하세요: 1, 1\n",
      "콤마로 분리하여 점의 좌표값을 입력하세요: 2, 3\n",
      "콤마로 분리하여 점의 좌표값을 입력하세요: 4, 1\n",
      "콤마로 분리하여 점의 좌표값을 입력하세요: 0, 7\n",
      "콤마로 분리하여 점의 좌표값을 입력하세요: 2, 7\n",
      "가장 가까운 두 점은 (0, 7)과/와 (2, 7) 입니다.\n"
     ]
    }
   ],
   "source": [
    "# <답안>\n",
    "def distance(x1, y1, x2, y2):\n",
    "    return ((x2 - x1) * (x2 - x1) + (y2 - y1) * (y2 - y1)) ** 0.5\n",
    "\n",
    "def nearestPoints(points):\n",
    "    # p1 and p2 are the indices in the points list\n",
    "    p1, p2 = 0, 1  # Initial two points\n",
    "\n",
    "    shortestDistance = distance(points[p1][0], points[p1][1], \n",
    "        points[p2][0], points[p2][1]) # Initialize shortestDistance\n",
    "    \n",
    "    # Compute distance for every two points\n",
    "    for i in range(len(points)):\n",
    "        for j in range(i + 1, len(points)):\n",
    "            d = distance(points[i][0], points[i][1], \n",
    "                         points[j][0], points[j][1])  # Find distance\n",
    "\n",
    "            if shortestDistance > d:\n",
    "                p1, p2 = i, j # Update p1, p2\n",
    "                shortestDistance = d # New shortestDistance \n",
    "\n",
    "    return p1, p2\n",
    "\n",
    "def main():\n",
    "    numberOfPoints = eval(input(\"점의 개수를 입력하세요: \"))\n",
    "\n",
    "    # 점을 저장하기 위한 리스트를 생성한다.\n",
    "    points = []\n",
    "    print(numberOfPoints, \"개 점의 위치를 입력하세요:\")\n",
    "    for i in range(numberOfPoints):\n",
    "        point = 2 * [0]\n",
    "        point[0], point[1] = eval(input(\"콤마로 분리하여 점의 좌표값을 입력하세요: \"))\n",
    "        points.append(point)\n",
    "\n",
    "    # p1과 p2는 points 리스트의 인덱스이다.\n",
    "    p1, p2 = nearestPoints(points)\n",
    "\n",
    "    # 결과를 출력한다.\n",
    "    print(\"가장 가까운 두 점은 (\" +\n",
    "        str(points[p1][0]) + \", \" + str(points[p1][1]) + \")과/와 (\" +\n",
    "        str(points[p2][0]) + \", \" + str(points[p2][1]) + \")\", \"입니다.\")\n",
    "\n",
    "main() # main 함수를 호출한다."
   ]
  }
 ],
 "metadata": {
  "kernelspec": {
   "display_name": "Python 3",
   "language": "python",
   "name": "python3"
  },
  "language_info": {
   "codemirror_mode": {
    "name": "ipython",
    "version": 3
   },
   "file_extension": ".py",
   "mimetype": "text/x-python",
   "name": "python",
   "nbconvert_exporter": "python",
   "pygments_lexer": "ipython3",
   "version": "3.8.5"
  }
 },
 "nbformat": 4,
 "nbformat_minor": 4
}
