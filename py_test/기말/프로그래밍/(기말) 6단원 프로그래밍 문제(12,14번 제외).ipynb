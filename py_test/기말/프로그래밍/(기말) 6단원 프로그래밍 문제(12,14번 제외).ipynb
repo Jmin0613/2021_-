{
 "cells": [
  {
   "cell_type": "code",
   "execution_count": 2,
   "metadata": {},
   "outputs": [
    {
     "name": "stdout",
     "output_type": "stream",
     "text": [
      "입력할 값의 개수 : 3\n",
      "1\n",
      "2\n",
      "3\n",
      "값의 합계 :  6\n"
     ]
    }
   ],
   "source": [
    "# 1번\n",
    "lst=[]\n",
    "cnt=int(input(\"입력할 값의 개수 : \"))\n",
    "for i in range(0,cnt) :\n",
    "    a=int(input(\"\"))\n",
    "    lst.append(a)\n",
    "    \n",
    "print(\"값의 합계 : \",sum(lst))"
   ]
  },
  {
   "cell_type": "code",
   "execution_count": 1,
   "metadata": {},
   "outputs": [
    {
     "name": "stdout",
     "output_type": "stream",
     "text": [
      "[11, 36, 40, 91, 39, 32, 55, 78, 36, 81]\n"
     ]
    }
   ],
   "source": [
    "# 2번\n",
    "import random\n",
    "\n",
    "lst=[]\n",
    "for i in range(0,10) :\n",
    "    lst.append(random.randint(1,100))\n",
    "print(lst)"
   ]
  },
  {
   "cell_type": "code",
   "execution_count": 3,
   "metadata": {},
   "outputs": [
    {
     "name": "stdout",
     "output_type": "stream",
     "text": [
      "20 ********************\n",
      "\n",
      "1 *\n",
      "\n",
      "12 ************\n",
      "\n",
      "9 *********\n",
      "\n",
      "18 ******************\n",
      "\n"
     ]
    }
   ],
   "source": [
    "# 3번\n",
    "lst=[20,1,12,9,18]\n",
    "for i in range(0,5) :\n",
    "    print(lst[i], end=\" \")\n",
    "    for j in range(lst[i]) :\n",
    "        print(\"*\",end=\"\")\n",
    "    print(\"\\n\")"
   ]
  },
  {
   "cell_type": "code",
   "execution_count": 6,
   "metadata": {},
   "outputs": [
    {
     "name": "stdout",
     "output_type": "stream",
     "text": [
      "실행전  [1, 2, 3, 4, 5, 6, 7, 8, 9, 10]\n",
      "실행후  [1, 2, -3, -4, -5, -6, -7, -8, 9, 10]\n"
     ]
    }
   ],
   "source": [
    "# 4번\n",
    "lst=[1,2,3,4,5,6,7,8,9,10]\n",
    "print(\"실행전 \", lst)\n",
    "for i in range(2,8) :\n",
    "    lst[i]=lst[i]*(-1)\n",
    "print(\"실행후 \",lst)"
   ]
  },
  {
   "cell_type": "code",
   "execution_count": 30,
   "metadata": {},
   "outputs": [
    {
     "name": "stdout",
     "output_type": "stream",
     "text": [
      "['aba', 'xyz', 'abc', '121']\n",
      "문자열의 개수 =  2\n"
     ]
    }
   ],
   "source": [
    "# 5번\n",
    "lst=['aba','xyz','abc','121']\n",
    "cnt=0\n",
    "\n",
    "print(lst)\n",
    "for i in range(0,len(lst)) :\n",
    "    word=lst[i]\n",
    "    if word[0]==word[-1] :\n",
    "        cnt=cnt+1\n",
    "\n",
    "print(\"문자열의 개수 = \", cnt)"
   ]
  },
  {
   "cell_type": "code",
   "execution_count": 33,
   "metadata": {},
   "outputs": [
    {
     "name": "stdout",
     "output_type": "stream",
     "text": [
      "True\n"
     ]
    }
   ],
   "source": [
    "# 6번\n",
    "list1=[1,2,3,4,5,6]\n",
    "list2=[6,7,8,9,10]\n",
    "\n",
    "for i in range(0,len(list1)) :\n",
    "    for j in range(0,len(list2)) :\n",
    "        if list1[i]==list2[j] :\n",
    "            print(\"True\")"
   ]
  },
  {
   "cell_type": "code",
   "execution_count": 83,
   "metadata": {},
   "outputs": [
    {
     "name": "stdout",
     "output_type": "stream",
     "text": [
      "a4\n"
     ]
    }
   ],
   "source": [
    "# 7번\n",
    "import random\n",
    "\n",
    "list1=['a0','a1','a2','a3','a4','a5','a6','a7','a8','a9']\n",
    "print(random.choice(list1))"
   ]
  },
  {
   "cell_type": "code",
   "execution_count": 81,
   "metadata": {},
   "outputs": [
    {
     "name": "stdout",
     "output_type": "stream",
     "text": [
      "결과 =  [1, 3, 4, 5]\n"
     ]
    }
   ],
   "source": [
    "# 8번 그냥 for문\n",
    "a=[1,2,3,4,5]\n",
    "b=[1,3,3,4,5,6,7]\n",
    "c=[]\n",
    "\n",
    "for i in range(0,len(a)) :\n",
    "    for j in range(0,len(b)) :\n",
    "        if a[i]==b[j] :\n",
    "            c.append(a[i])\n",
    "c=set(c)\n",
    "c=list(c)\n",
    "print(\"결과 = \",c)"
   ]
  },
  {
   "cell_type": "code",
   "execution_count": 80,
   "metadata": {
    "scrolled": true
   },
   "outputs": [
    {
     "name": "stdout",
     "output_type": "stream",
     "text": [
      "결과 =  [1, 3, 4, 5]\n"
     ]
    }
   ],
   "source": [
    "# 8번 리스트 함축 for문\n",
    "a=[1,2,3,4,5]\n",
    "b=[1,3,3,4,5,6,7]\n",
    "c=[]\n",
    "\n",
    "for i in range(0,len(a)) :\n",
    "    [c.append(b[j]) for j in range(0,len(b)) if a[i]==b[j]]\n",
    "    \n",
    "c=set(c)\n",
    "c=list(c)    \n",
    "print(\"결과 = \",c)"
   ]
  },
  {
   "cell_type": "code",
   "execution_count": 100,
   "metadata": {
    "scrolled": true
   },
   "outputs": [
    {
     "name": "stdout",
     "output_type": "stream",
     "text": [
      "[[['#', '#', '#', '#'], ['#', '#', '#', '#'], ['#', '#', '#', '#']], [['#', '#', '#', '#'], ['#', '#', '#', '#'], ['#', '#', '#', '#']], [['#', '#', '#', '#'], ['#', '#', '#', '#'], ['#', '#', '#', '#']], [['#', '#', '#', '#'], ['#', '#', '#', '#'], ['#', '#', '#', '#']], [['#', '#', '#', '#'], ['#', '#', '#', '#'], ['#', '#', '#', '#']]]\n"
     ]
    }
   ],
   "source": [
    "# 12번\n",
    "x=5\n",
    "y=3\n",
    "z=4\n",
    "\n",
    "lst=[[([0]*z) for j in range(y)] for i in range(x)]\n",
    "\n",
    "for i in range(x):\n",
    "    for j in range(y) :\n",
    "        for k in range(z) :\n",
    "            lst[i][j][k]=\"#\"\n",
    "            \n",
    "print(lst)"
   ]
  },
  {
   "cell_type": "code",
   "execution_count": 116,
   "metadata": {},
   "outputs": [
    {
     "name": "stdout",
     "output_type": "stream",
     "text": [
      "------------------------------\n",
      "    1 2 3 4 5 6 7 8 9 10\n",
      "------------------------------\n",
      "    0 0 0 0 0 0 0 0 0 0 \n",
      "    0 0 0 0 0 0 0 0 0 0 \n",
      "    0 0 0 0 0 0 0 0 0 0 \n",
      "    0 0 0 0 0 0 0 0 0 0 \n",
      "    0 0 0 0 0 0 0 0 0 0 \n",
      "    0 0 0 0 0 0 0 0 0 0 \n",
      "    0 0 0 0 0 0 0 0 0 0 \n",
      "    0 0 0 0 0 0 0 0 0 0 \n",
      "    0 0 0 0 0 0 0 0 0 0 \n",
      "    0 0 0 0 0 0 0 0 0 0 \n",
      "원하시는 좌석의 행번호를 입력하세요(종료는 -1): -1\n",
      "원하시는 좌석의 열번호를 입력하세요(종료는 -1): 2\n",
      "종료\n"
     ]
    }
   ],
   "source": [
    "# 13번(내가 푼것)\n",
    "def ticketing(a,b):\n",
    "    lst=[]\n",
    "    if a==-1 or b==-1 :\n",
    "        print(\"종료\")\n",
    "    else :\n",
    "        print(\"예약되었습니다.\")\n",
    "    \n",
    "        for i in range(10):\n",
    "            lst+=[[0]*10]\n",
    "        lst[a][b]=-1\n",
    "        print(\"현재 예약석\")\n",
    "        for i in range(10):\n",
    "            print(lst[i])\n",
    "            print()\n",
    "        \n",
    "def choiceseat():\n",
    "    a=int(input(\"원하시는 좌석의 행번호를 입력하세요(종료는 -1): \"))\n",
    "    b=int(input(\"원하시는 좌석의 열번호를 입력하세요(종료는 -1): \"))\n",
    "    ticketing(a,b)\n",
    "\n",
    "\n",
    "\n",
    "print(\"------------------------------\")\n",
    "print(\"    1 2 3 4 5 6 7 8 9 10\")\n",
    "print(\"------------------------------\")\n",
    "\n",
    "for i in range(0,10):\n",
    "    print(\"    0 0 0 0 0 0 0 0 0 0 \")\n",
    "choiceseat()"
   ]
  },
  {
   "cell_type": "code",
   "execution_count": 1,
   "metadata": {},
   "outputs": [
    {
     "name": "stdout",
     "output_type": "stream",
     "text": [
      "======================================\n",
      "0 1 2 3 4 5 6 7 8 9 10\n",
      "======================================\n",
      "[0, 0, 0, 0, 0, 0, 0, 0, 0, 0]\n",
      "[0, 0, 0, 0, 0, 0, 0, 0, 0, 0]\n",
      "[0, 0, 0, 0, 0, 0, 0, 0, 0, 0]\n",
      "[0, 0, 0, 0, 0, 0, 0, 0, 0, 0]\n",
      "[0, 0, 0, 0, 0, 0, 0, 0, 0, 0]\n",
      "[0, 0, 0, 0, 0, 0, 0, 0, 0, 0]\n",
      "[0, 0, 0, 0, 0, 0, 0, 0, 0, 0]\n",
      "[0, 0, 0, 0, 0, 0, 0, 0, 0, 0]\n",
      "[0, 0, 0, 0, 0, 0, 0, 0, 0, 0]\n",
      "\n",
      "원하시는 좌석의 행번호를 입력하세요(종료는 –1)2\n",
      "원하시는 좌석의 열번호를 입력하세요(종료는 –1)3\n",
      "예약합니다.\n",
      "======================================\n",
      "0 1 2 3 4 5 6 7 8 9 10\n",
      "======================================\n",
      "[0, 0, 0, 0, 0, 0, 0, 0, 0, 0]\n",
      "[0, 0, 0, 0, 0, 0, 0, 0, 0, 0]\n",
      "[0, 0, 0, 1, 0, 0, 0, 0, 0, 0]\n",
      "[0, 0, 0, 0, 0, 0, 0, 0, 0, 0]\n",
      "[0, 0, 0, 0, 0, 0, 0, 0, 0, 0]\n",
      "[0, 0, 0, 0, 0, 0, 0, 0, 0, 0]\n",
      "[0, 0, 0, 0, 0, 0, 0, 0, 0, 0]\n",
      "[0, 0, 0, 0, 0, 0, 0, 0, 0, 0]\n",
      "[0, 0, 0, 0, 0, 0, 0, 0, 0, 0]\n",
      "\n"
     ]
    }
   ],
   "source": [
    "# 13번(해답지 답안)\n",
    "seats = []\n",
    "seats.append([0,0,0,0,0,0,0,0,0,0])\n",
    "seats.append([0,0,0,0,0,0,0,0,0,0])\n",
    "seats.append([0,0,0,0,0,0,0,0,0,0])\n",
    "seats.append([0,0,0,0,0,0,0,0,0,0])\n",
    "seats.append([0,0,0,0,0,0,0,0,0,0])\n",
    "seats.append([0,0,0,0,0,0,0,0,0,0])\n",
    "seats.append([0,0,0,0,0,0,0,0,0,0])\n",
    "seats.append([0,0,0,0,0,0,0,0,0,0])\n",
    "seats.append([0,0,0,0,0,0,0,0,0,0])\n",
    "\n",
    "def displayBookings():\n",
    "    print(\"======================================\")\n",
    "    print(\"0 1 2 3 4 5 6 7 8 9 10\")\n",
    "    print(\"======================================\")\n",
    "    for row in seats:\n",
    "        print(row)\n",
    "    print(\"\")\n",
    "    \n",
    "def reserv():\n",
    "    row = int(input(\"원하시는 좌석의 행번호를 입력하세요(종료는 –1)\"))\n",
    "    column = int(input(\"원하시는 좌석의 열번호를 입력하세요(종료는 –1)\"))\n",
    "    \n",
    "    if seats[row][column]==1:\n",
    "        print(\"이미 예약된 자리입니다.\")\n",
    "        \n",
    "    else:\n",
    "        print(\"예약합니다.\")\n",
    "        seats[row][column]=1\n",
    "\n",
    "displayBookings()\n",
    "reserv()  \n",
    "displayBookings()"
   ]
  },
  {
   "cell_type": "code",
   "execution_count": 125,
   "metadata": {},
   "outputs": [
    {
     "name": "stdout",
     "output_type": "stream",
     "text": [
      ". . . . . . . . . . \n",
      ". . . . . . . . . . \n",
      ". . . . . . . . . . \n",
      ". . . . . . . . . . \n",
      ". . . . . . . . . . \n",
      ". . . . . . . . . . \n",
      ". . . . . . . . . . \n",
      ". . . . . . . . . . \n",
      ". . . . . . . . . . \n",
      ". . . . . . . . . . \n"
     ]
    }
   ],
   "source": [
    "# 14번\n",
    "import random\n",
    "\n",
    "lst=[['.' for i in range(10)] for _ in range(10)]\n",
    "for i in range(10):\n",
    "    for j in range(10):\n",
    "        print(lst[i][j],end=\" \")\n",
    "    print()\n",
    "    \n",
    "a=random.randint(0,9)\n",
    "b=random.randint(0,9)\n",
    "\n",
    "## 전체의 30%를 지뢰 -> 난수가 0.3보다 적은 경우에 현재 칸에 지뢰를 놓음\n",
    "## 뭔 말임?\n",
    "## 어캐 적용하라고"
   ]
  },
  {
   "cell_type": "code",
   "execution_count": 24,
   "metadata": {},
   "outputs": [
    {
     "name": "stdout",
     "output_type": "stream",
     "text": [
      "['T', 'T', 'H', 'H', 'T', 'T', 'H', 'H', 'T', 'H']\n",
      "최대 연속 길이 =  2\n"
     ]
    }
   ],
   "source": [
    "# 15번(내 답안)\n",
    "import random\n",
    "\n",
    "lst=[]\n",
    "for i in range(10):\n",
    "    re=random.randint(0,1)\n",
    "    if re==0 :\n",
    "        lst.append(\"H\")\n",
    "    else :\n",
    "        lst.append(\"T\")\n",
    "\n",
    "cnt=0\n",
    "max=0\n",
    "for i in range(9):\n",
    "    if lst[i] == lst[i+1] :\n",
    "        cnt=cnt+1\n",
    "        if cnt > max :\n",
    "            max=cnt\n",
    "    else :\n",
    "        cnt=1\n",
    "        \n",
    "print(lst)\n",
    "print(\"최대 연속 길이 = \",max)"
   ]
  },
  {
   "cell_type": "code",
   "execution_count": 20,
   "metadata": {},
   "outputs": [
    {
     "name": "stdout",
     "output_type": "stream",
     "text": [
      "[0, 0, 0, 1, 1, 1, 0, 1, 1, 0]\n",
      "최대 연속 길이= 3\n"
     ]
    }
   ],
   "source": [
    "# 15번 (해답지 답안)\n",
    "import random\n",
    "\n",
    "def longestrun(myList):\n",
    "    size = 1\n",
    "    max_size = 0\n",
    "    for i in range(len(myList)-1):\n",
    "        if myList[i+1] == myList[i]:\n",
    "            size += 1\n",
    "        else: \n",
    "            size = 1\n",
    "        if max_size<size:\n",
    "            max_size = size\n",
    "    return max_size \n",
    "\n",
    "s = [ random.randint(0, 1) for _ in range(10) ]\n",
    "print(s)\n",
    "print(\"최대 연속 길이=\", longestrun(s))"
   ]
  },
  {
   "cell_type": "code",
   "execution_count": 131,
   "metadata": {},
   "outputs": [
    {
     "name": "stdout",
     "output_type": "stream",
     "text": [
      "[2, 3, 5, 7, 11, 13, 17, 19, 23, 29, 31, 37, 41, 43, 47, 53, 59, 61, 67, 71, 73, 79, 83, 89, 97]\n"
     ]
    }
   ],
   "source": [
    "# 16번\n",
    "# 2-100까지 리스트만들음\n",
    "# 사라질것들 False로 지정 -> 숫자를 삭제하는 것\n",
    "# False가 아닌것들을 lstRe에 저장\n",
    "\n",
    "lst=[]\n",
    "lstRe=[]\n",
    "\n",
    "for i in range(99) :\n",
    "    lst.append(i+2)\n",
    "\n",
    "cntD=0\n",
    "for i in range(2,99) :\n",
    "    cnt=0\n",
    "    for j in range(len(lst)):\n",
    "        if lst[j]%i==0 :\n",
    "            if lst[j]/i !=1 :\n",
    "                lst[j]=False\n",
    "                cntD+=1\n",
    "            cnt+=1\n",
    "\n",
    "for i in range(0,99) :\n",
    "    if type(lst[i])!=bool :\n",
    "        lstRe.append(lst[i])\n",
    "        \n",
    "print(lstRe)"
   ]
  },
  {
   "cell_type": "code",
   "execution_count": 4,
   "metadata": {},
   "outputs": [
    {
     "name": "stdout",
     "output_type": "stream",
     "text": [
      "[2, 3, 5, 7, 11, 13, 17, 19, 23, 29, 31, 37, 41, 43, 47, 53, 59, 61, 67, 71, 73, 79, 83, 89, 97]\n"
     ]
    }
   ],
   "source": [
    "# 16번\n",
    "# 2-100까지 리스트만들음\n",
    "# 사라질것들 False로 지정 -> 숫자를 삭제하는 것\n",
    "# False가 아닌것들을 lstRe에 저장\n",
    "\n",
    "lst=[]\n",
    "lstRe=[]\n",
    "\n",
    "for i in range(99) :\n",
    "    lst.append(i+2)\n",
    "\n",
    "cntD=0\n",
    "for i in range(2,99) :\n",
    "\n",
    "    for j in range(len(lst)):\n",
    "        if lst[j]%i==0 :\n",
    "            if lst[j]/i !=1 :\n",
    "                lst[j]=False\n",
    "                cntD+=1\n",
    "\n",
    "\n",
    "for i in range(0,99) :\n",
    "    if type(lst[i])!=bool :\n",
    "        lstRe.append(lst[i])\n",
    "        \n",
    "print(lstRe)"
   ]
  }
 ],
 "metadata": {
  "kernelspec": {
   "display_name": "Python 3",
   "language": "python",
   "name": "python3"
  },
  "language_info": {
   "codemirror_mode": {
    "name": "ipython",
    "version": 3
   },
   "file_extension": ".py",
   "mimetype": "text/x-python",
   "name": "python",
   "nbconvert_exporter": "python",
   "pygments_lexer": "ipython3",
   "version": "3.8.5"
  }
 },
 "nbformat": 4,
 "nbformat_minor": 4
}
