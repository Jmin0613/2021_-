{
 "cells": [
  {
   "cell_type": "code",
   "execution_count": 10,
   "metadata": {},
   "outputs": [
    {
     "name": "stdout",
     "output_type": "stream",
     "text": [
      "주어진 리스트 : 80,20,20,30,60,30\n",
      "정리된 리스트 :  [80, 20, 30, 60]\n"
     ]
    }
   ],
   "source": [
    "# 1번\n",
    "lst=[]\n",
    "p=input(\"주어진 리스트 : \")\n",
    "lst=p.split(\",\")\n",
    "\n",
    "for i in range(len(lst)) :\n",
    "    lst[i]=int(lst[i])\n",
    "\n",
    "lst2=set(lst)\n",
    "lst=list(lst2)\n",
    "\n",
    "print(\"정리된 리스트 : \",lst)"
   ]
  },
  {
   "cell_type": "code",
   "execution_count": 11,
   "metadata": {},
   "outputs": [
    {
     "name": "stdout",
     "output_type": "stream",
     "text": [
      "{1: 1, 2: 4, 3: 9, 4: 16, 5: 25, 6: 36, 7: 49, 8: 64, 9: 81, 10: 100}\n",
      "{1: 1, 2: 4, 3: 9, 4: 16, 5: 25, 6: 36, 7: 49, 8: 64, 9: 81, 10: 100}\n"
     ]
    }
   ],
   "source": [
    "# 2번\n",
    "# 함축 사용\n",
    "values=[1,2,3,4,5,6,7,8,9,10]\n",
    "dic1={x : x**2 for x in values}\n",
    "print(dic1)\n",
    "\n",
    "#공백 사용\n",
    "# 공백 딕셔너리 생성 방법 : 딕셔너리 = {}, 딕셔너리 = dict()\n",
    "dic2={} # 또는 dic2=dict()\n",
    "for i in range(1,11):\n",
    "    dic2[i]=i*i\n",
    "print(dic2)"
   ]
  },
  {
   "cell_type": "code",
   "execution_count": 12,
   "metadata": {},
   "outputs": [
    {
     "name": "stdout",
     "output_type": "stream",
     "text": [
      "Apple  ->  1\n",
      "Banana  ->  2\n",
      "Grape  ->  3\n",
      "\n",
      "Apple  ->  1\n",
      "Banana  ->  2\n",
      "Grape  ->  3\n"
     ]
    }
   ],
   "source": [
    "# 3번\n",
    "dic = {\"Apple\":1, \"Banana\":2, \"Grape\":3}\n",
    "\n",
    "# 키+값\n",
    "for key in dic :\n",
    "    print(key,\" -> \",dic[key])\n",
    "print()\n",
    "\n",
    "# 딕셔너리 메소드 items() 사용\n",
    "for key, value in dic.items() :\n",
    "    print(key,\" -> \",value)"
   ]
  },
  {
   "cell_type": "code",
   "execution_count": 13,
   "metadata": {},
   "outputs": [
    {
     "name": "stdout",
     "output_type": "stream",
     "text": [
      "키를 입력하시오: 5\n",
      "키  5 는 딕셔너리에 있음\n"
     ]
    }
   ],
   "source": [
    "# 4번\n",
    "dic={1:10,2:20,3:30,4:40,5:50,6:60}\n",
    "k=int(input((\"키를 입력하시오: \")))\n",
    "if k in dic :\n",
    "    print(\"키 \",k,\"는 딕셔너리에 있음\")\n",
    "else :\n",
    "    print(\"키 \",k,\"는 딕셔너리에 없음\")"
   ]
  },
  {
   "cell_type": "code",
   "execution_count": 14,
   "metadata": {},
   "outputs": [
    {
     "name": "stdout",
     "output_type": "stream",
     "text": [
      "총합계 : 2420\n"
     ]
    }
   ],
   "source": [
    "# 5번\n",
    "dic={\"옷\":100,\"컴퓨터\":2000,\"모니터\":320}\n",
    "sum=0\n",
    "for key in dic :\n",
    "    sum+=dic[key]\n",
    "    \n",
    "print(\"총합계 :\",sum)"
   ]
  },
  {
   "cell_type": "code",
   "execution_count": 15,
   "metadata": {},
   "outputs": [
    {
     "name": "stdout",
     "output_type": "stream",
     "text": [
      "{'red': '#FF0000', 'green': '#008000', 'blue': '#0000FF'}\n"
     ]
    }
   ],
   "source": [
    "# 6번\n",
    "colors=[\"red\",\"green\",\"blue\"]\n",
    "values=[\"#FF0000\",\"#008000\",\"#0000FF\"]\n",
    "\n",
    "dic=dict(zip(colors,values))\n",
    "\n",
    "print(dic)"
   ]
  },
  {
   "cell_type": "code",
   "execution_count": 16,
   "metadata": {},
   "outputs": [
    {
     "name": "stdout",
     "output_type": "stream",
     "text": [
      "날짜를 입력하시오 : 2021/06/03\n",
      "일정을 입력하시오 : 파이썬 문제 풀기\n",
      "날짜를 입력하시오 : 2021/06/03\n",
      "일정을 입력하시오 : 일반수학 과제\n",
      "{'2021/06/03': ['파이썬 문제 풀기', '일반수학 과제']}\n"
     ]
    }
   ],
   "source": [
    "# 7번\n",
    "dic={}\n",
    "\n",
    "for i in range(2):\n",
    "    date=input(\"날짜를 입력하시오 : \")\n",
    "    job=input(\"일정을 입력하시오 : \")\n",
    "\n",
    "    if date in dic :\n",
    "        dic[date].append(job)\n",
    "    else :\n",
    "        dic[date]=[]\n",
    "        dic[date].append(job)\n",
    "    \n",
    "print(dic)"
   ]
  },
  {
   "cell_type": "code",
   "execution_count": 17,
   "metadata": {},
   "outputs": [
    {
     "name": "stdout",
     "output_type": "stream",
     "text": [
      "달의 번호 : 1\n",
      "달의 번호 :  1월\n"
     ]
    }
   ],
   "source": [
    "# 8번\n",
    "dic={1:\"1월\",2:\"2월\",3:\"3월\",4:\"4월\",5:\"5월\",6:\"6월\",\n",
    "    7:\"7월\",8:\"8월\",9:\"9월\",10:\"10월\",11:\"11월\",12:\"12월\"}\n",
    "n=int(input(\"달의 번호 : \"))\n",
    "\n",
    "if n in dic:\n",
    "    print(\"달의 번호 : \",dic[n])"
   ]
  },
  {
   "cell_type": "code",
   "execution_count": 18,
   "metadata": {},
   "outputs": [
    {
     "name": "stdout",
     "output_type": "stream",
     "text": [
      "첫 번째 문자열: Hello! World!\n",
      "두 번째 문자열: Hi! Welcome!\n",
      "모두 포함된 글자 :  {'l', 'W', 'H', 'e', 'o', '!', ' '}\n"
     ]
    }
   ],
   "source": [
    "# 9번\n",
    "s1 = input(\"첫 번째 문자열: \")\n",
    "s2 = input(\"두 번째 문자열: \")\n",
    "\n",
    "set1=set(s1)\n",
    "set2=set(s2)\n",
    "\n",
    "print(\"모두 포함된 글자 : \", set1&set2)"
   ]
  },
  {
   "cell_type": "code",
   "execution_count": 19,
   "metadata": {},
   "outputs": [
    {
     "name": "stdout",
     "output_type": "stream",
     "text": [
      "{80, 10, 20, 70}\n"
     ]
    }
   ],
   "source": [
    "# 10번\n",
    "set1={10,20,30,40,50,60}\n",
    "set2={30,40,50,60,70,80}\n",
    "\n",
    "set3=(set1&set2)\n",
    "set3=(set1-set3)|(set2-set3)\n",
    "print(set3)"
   ]
  },
  {
   "cell_type": "code",
   "execution_count": 24,
   "metadata": {},
   "outputs": [
    {
     "name": "stdout",
     "output_type": "stream",
     "text": [
      "다음은 어떤 단어에 대한 설명일까요? \n",
      "\"최근에 가장 떠오르는 프로그래밍 언어\"\n",
      "(1)파이썬 (2)변수 (3)함수 (4)리스트 \n",
      "파이썬\n",
      "정답입니다. !\n",
      "다음은 어떤 단어에 대한 설명일까요? \n",
      "\"데이터를 저장하는 메모리 공간\"\n",
      "(1)파이썬 (2)변수 (3)함수 (4)리스트 \n",
      "변수\n",
      "정답입니다. !\n",
      "다음은 어떤 단어에 대한 설명일까요? \n",
      "\"작업을 수행하는 문장들의 집합에 이름을 붙인것\"\n",
      "(1)파이썬 (2)변수 (3)함수 (4)리스트 \n",
      "함수\n",
      "정답입니다. !\n",
      "다음은 어떤 단어에 대한 설명일까요? \n",
      "\"서로 관련이 없는 항목들의 모임\"\n",
      "(1)파이썬 (2)변수 (3)함수 (4)리스트 \n",
      "리스트\n",
      "정답입니다. !\n"
     ]
    }
   ],
   "source": [
    "problems ={\"파이썬\": \"최근에 가장 떠오르는 프로그래밍 언어\",\n",
    "           \"변수\": \"데이터를 저장하는 메모리 공간\",\n",
    "           \"함수\": \"작업을 수행하는 문장들의 집합에 이름을 붙인것\",\n",
    "           \"리스트\": \"서로 관련이 없는 항목들의 모임\",\n",
    "          }\n",
    "\n",
    "def show_words(problems):\n",
    "    display_message = \"\"\n",
    "    i=1\n",
    "    for word in problems.keys():\n",
    "        display_message += \"(\"+str(i)+\")\"\n",
    "        display_message += word + \" \"\n",
    "        i+=1\n",
    "    print( display_message)\n",
    "\n",
    "for meaning in problems.values():\n",
    "    print(\"다음은 어떤 단어에 대한 설명일까요? \")\n",
    "    print(\"\\\"\"+meaning+\"\\\"\")\n",
    "    correct = False\n",
    "    while not correct:\n",
    "        show_words(problems)\n",
    "        guessed_word = input(\"\")    \n",
    "        if problems[guessed_word] == meaning:\n",
    "            print(\"정답입니다. !\")\n",
    "            correct = True\n",
    "        else:\n",
    "            print(\"정답이 아닙니다.\")"
   ]
  },
  {
   "cell_type": "code",
   "execution_count": 20,
   "metadata": {},
   "outputs": [
    {
     "name": "stdout",
     "output_type": "stream",
     "text": [
      "문자열 입력 : I read a java book\n",
      "금칙어 입력 : java red\n",
      "I read a #### book\n"
     ]
    }
   ],
   "source": [
    "# 12번\n",
    "s1=input(\"문자열 입력 : \")\n",
    "s2=input(\"금칙어 입력 : \")\n",
    "s2=s2.split()\n",
    "for i in range(len(s2)) :\n",
    "    s1=s1.replace(s2[i],\"####\")\n",
    "\n",
    "print(s1)"
   ]
  },
  {
   "cell_type": "code",
   "execution_count": 9,
   "metadata": {},
   "outputs": [
    {
     "name": "stdout",
     "output_type": "stream",
     "text": [
      "{'LETTERS': 10, 'DIGITS': 3}\n"
     ]
    }
   ],
   "source": [
    "# 13번\n",
    "def count_all(txt):\n",
    "    return {\n",
    "        \"LETTERS\": sum(1 for x in txt if x.isalpha()),\n",
    "        \"DIGITS\": sum(1 for x in txt if x.isnumeric()),\n",
    "    }\n",
    "print(count_all(\"Hello World123\"))"
   ]
  },
  {
   "cell_type": "code",
   "execution_count": 21,
   "metadata": {},
   "outputs": [
    {
     "name": "stdout",
     "output_type": "stream",
     "text": [
      "06/03/2021\n",
      "20210603\n"
     ]
    }
   ],
   "source": [
    "# 14번\n",
    "def count_date(date) :\n",
    "    date=date.split(\"/\")\n",
    "    print(date[2],end=\"\")\n",
    "    print(date[0],end=\"\")\n",
    "    print(date[1])\n",
    "\n",
    "date=input(\"\")\n",
    "count_date(date)"
   ]
  },
  {
   "cell_type": "code",
   "execution_count": 22,
   "metadata": {},
   "outputs": [
    {
     "name": "stdout",
     "output_type": "stream",
     "text": [
      "Hi! I'm Park , and I'm from Korea .\n",
      "Hi! I'm Sam , and I'm from USA .\n",
      "Hi! I'm Sakura , and I'm from Japan .\n"
     ]
    }
   ],
   "source": [
    "# 15번\n",
    "student={\"Park\":\"Korea\",\"Sam\":\"USA\",\"Sakura\":\"Japan\"}\n",
    "\n",
    "def greeting(name) :\n",
    "    if name in student:\n",
    "        print(\"Hi! I'm\", name, \", and I'm from\",student[name],\".\")\n",
    "    else:\n",
    "        print(\"Hi! I'm a guest.\")\n",
    "\n",
    "greeting(\"Park\")\n",
    "greeting(\"Sam\")\n",
    "greeting(\"Sakura\")"
   ]
  },
  {
   "cell_type": "code",
   "execution_count": 23,
   "metadata": {},
   "outputs": [
    {
     "name": "stdout",
     "output_type": "stream",
     "text": [
      "7ZoiK54h\n"
     ]
    }
   ],
   "source": [
    "import random\n",
    "\n",
    "while True:\n",
    "    cnt1=0\n",
    "    cnt2=0\n",
    "    cnt3=0\n",
    "    s=\"abcdefghijklmnopqrstuvwxyz0123456789ABCDEFGHIJKLMNOPQRSTUVWXYZ\"\n",
    "    passlen=8\n",
    "    p=\"\".join(random.sample(s,passlen))\n",
    "\n",
    "    if (p != p.upper()) :\n",
    "        cnt1=1\n",
    "    if (p != p.lower()) :\n",
    "        cnt2=1\n",
    "            \n",
    "    for x in p :\n",
    "        if x.isnumeric():\n",
    "            cnt3=1\n",
    "            \n",
    "    if cnt1+cnt2+cnt3 == 3 :\n",
    "        break;\n",
    "        \n",
    "print(p)"
   ]
  }
 ],
 "metadata": {
  "kernelspec": {
   "display_name": "Python 3",
   "language": "python",
   "name": "python3"
  },
  "language_info": {
   "codemirror_mode": {
    "name": "ipython",
    "version": 3
   },
   "file_extension": ".py",
   "mimetype": "text/x-python",
   "name": "python",
   "nbconvert_exporter": "python",
   "pygments_lexer": "ipython3",
   "version": "3.8.5"
  }
 },
 "nbformat": 4,
 "nbformat_minor": 4
}
