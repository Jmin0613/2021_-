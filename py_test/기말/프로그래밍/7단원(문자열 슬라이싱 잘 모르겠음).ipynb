{
 "cells": [
  {
   "cell_type": "markdown",
   "metadata": {},
   "source": [
    "##### 파이썬 가장 기초적인 자료구조 시퀀스\n",
    "##### 내장 시퀀스 : str, bytes, bytearray, list, tuple, range"
   ]
  },
  {
   "cell_type": "markdown",
   "metadata": {},
   "source": [
    "## 튜플의 장점\n",
    "#### 1. 변경 불가능 -> 리스트보단 반복 연산 빠름\n",
    "#### 2. 변경 불가능 -> 딕셔너리의 키가 될 수 있음 (리스트는 변경가능해서 키 못됨)\n",
    "#### 3. 다른 개발자의 데이터 변경 금지"
   ]
  },
  {
   "cell_type": "code",
   "execution_count": 15,
   "metadata": {},
   "outputs": [
    {
     "name": "stdout",
     "output_type": "stream",
     "text": [
      "('apple', 'banana', 'grape')\n",
      "apple grape\n",
      "('apple', 'banana', 'grape')\n",
      "apple <class 'str'>\n",
      "('apple',)\n"
     ]
    }
   ],
   "source": [
    "# 튜플(리스트와 동일하지만 값 변경 불가능)\n",
    "fruit=() #공백 튜플\n",
    "\n",
    "fruit1=(\"apple\",\"banana\",\"grape\")\n",
    "print(fruit1)\n",
    "print(fruit1[0],fruit2[2])\n",
    "\n",
    "fruit2=\"apple\",\"banana\", \"grape\"\n",
    "print(fruit2)\n",
    "\n",
    "fruit3=(\"apple\") #요소 1개인데 쉼표안함 -> 튜플x, 수식이 됨\n",
    "print(fruit3, type(fruit3))\n",
    "\n",
    "fruit4=(\"apple\",) #요소가 1개면 쉼표를 해야한다\n",
    "print(fruit4)"
   ]
  },
  {
   "cell_type": "code",
   "execution_count": 18,
   "metadata": {},
   "outputs": [
    {
     "name": "stdout",
     "output_type": "stream",
     "text": [
      "(1, 2, 3, 4)\n",
      "[1, 2, 3, 4]\n"
     ]
    }
   ],
   "source": [
    "# 튜플 <-> 리스트\n",
    "myList1=[1,2,3,4]\n",
    "myTuple1=tuple(myList1)\n",
    "print(myTuple1)\n",
    "\n",
    "myTuple2=[1,2,3,4]\n",
    "myList=list(myTuple)\n",
    "print(myList)"
   ]
  },
  {
   "cell_type": "code",
   "execution_count": 20,
   "metadata": {},
   "outputs": [
    {
     "name": "stdout",
     "output_type": "stream",
     "text": [
      "('apple', 'banana', 'grape', 'pear', 'kiwi')\n",
      "('kim', [3.1, 3.6, 4.0, 4.3])\n"
     ]
    }
   ],
   "source": [
    "# 튜플 연산\n",
    "fruit=(\"apple\",\"banana\",\"grape\")\n",
    "fruit+=(\"pear\",\"kiwi\")\n",
    "print(fruit)\n",
    "\n",
    "# 튜플 안 리스트는 변경 가능 (리스트 in 튜플)\n",
    "student=(\"kim\",[3.1,3.6,4.0,0.0])\n",
    "student[1][3]=4.3\n",
    "print(student)"
   ]
  },
  {
   "cell_type": "code",
   "execution_count": 25,
   "metadata": {},
   "outputs": [
    {
     "name": "stdout",
     "output_type": "stream",
     "text": [
      "0 apple\n",
      "1 banana\n",
      "2 grape\n",
      "[(0, 'apple'), (1, 'banana'), (2, 'grape')]\n"
     ]
    }
   ],
   "source": [
    "# enumerate() -> 인덱스값과 요소값에 안전하게 접근\n",
    "fruit=[\"apple\",\"banana\",\"grape\"]\n",
    "for index, value in enumerate(fruit) :\n",
    "    print(index, value) \n",
    "\n",
    "# enumerate가 반환하는 결과가 무엇인지 확인\n",
    "lst=[\"apple\",\"banana\",\"grape\"]\n",
    "result=list(enumerate(lst))\n",
    "print(result)"
   ]
  },
  {
   "cell_type": "markdown",
   "metadata": {},
   "source": [
    "## 세트\n",
    "#### 리스트와 다르게 세트의 요소는 특정 순서로 저장되지 않음 -> 위치별로 엑세스 불가능\n",
    "#### 순서 유지x -> 리스트보다 연산 빠름\n",
    "#### 순서없는 항목들의 집합을 원함 -> 세트\n",
    "#### 중복x"
   ]
  },
  {
   "cell_type": "code",
   "execution_count": 30,
   "metadata": {},
   "outputs": [
    {
     "name": "stdout",
     "output_type": "stream",
     "text": [
      "{1, 2, 3}\n",
      "{'c', 'A', 'b'}\n"
     ]
    }
   ],
   "source": [
    "values=set() #공백 세트 생성, {}는 공백딕셔너리 생성\n",
    "numbers={1,2,3}\n",
    "print(numbers)\n",
    "\n",
    "letters=set(\"Abc\") #각 문자들이 하나의 요소가 됨\n",
    "print(letters)"
   ]
  },
  {
   "cell_type": "code",
   "execution_count": 31,
   "metadata": {},
   "outputs": [
    {
     "name": "stdout",
     "output_type": "stream",
     "text": [
      "집합 안에 apple 존재\n"
     ]
    }
   ],
   "source": [
    "# 세트 연산\n",
    "# 메소드 : all(), any(), enumerate(), len(), max(), min(), sorted(), sum()\n",
    "# all() -> 모든 요소가 True면 True반환\n",
    "# any() -> 하나라도 True면 True반환\n",
    "\n",
    "# 어떤 항목이 있는지 검사 -> in 연산자\n",
    "fruit={\"apple\",\"banana\",\"grape\"}\n",
    "if \"apple\" in fruit :\n",
    "    print(\"집합 안에 apple 존재\")"
   ]
  },
  {
   "cell_type": "code",
   "execution_count": 42,
   "metadata": {},
   "outputs": [
    {
     "name": "stdout",
     "output_type": "stream",
     "text": [
      "{'banana', 'grape', 'kiwi', 'apple'}\n",
      "{'grape', 'kiwi', 'apple'}\n",
      "set()\n",
      "{'kiwi', 'orange', 'mango'}\n"
     ]
    }
   ],
   "source": [
    "# 세트 요소 추가/삭제\n",
    "fruit={\"apple\",\"banana\",\"grape\"}\n",
    "fruit.add(\"kiwi\")\n",
    "print(fruit)\n",
    "\n",
    "fruit.remove(\"banana\")\n",
    "print(fruit)\n",
    "\n",
    "fruit.clear()\n",
    "print(fruit)\n",
    "\n",
    "fruit.update([\"orange\",\"mango\",\"kiwi\"]) #여러개 항목 추가 : update\n",
    "print(fruit)"
   ]
  },
  {
   "cell_type": "code",
   "execution_count": 46,
   "metadata": {},
   "outputs": [
    {
     "name": "stdout",
     "output_type": "stream",
     "text": [
      "A는 B의 부분집합임\n",
      "A와 B는 같지 않음\n"
     ]
    }
   ],
   "source": [
    "A={\"apple\",\"banana\",\"grape\"}\n",
    "B={\"apple\",\"banana\",\"grape\",\"kiwi\"}\n",
    "\n",
    "if A < B : #또는 A.issubset(B)\n",
    "    print(\"A는 B의 부분집합임\")\n",
    "    \n",
    "if A == B :\n",
    "    print(\"A와 B는 같음\")\n",
    "else :\n",
    "    print(\"A와 B는 같지 않음\")"
   ]
  },
  {
   "cell_type": "code",
   "execution_count": 50,
   "metadata": {},
   "outputs": [
    {
     "name": "stdout",
     "output_type": "stream",
     "text": [
      "{'banana', 'kiwi', 'grape', 'apple'}\n",
      "{'banana', 'apple'}\n",
      "{'grape'}\n"
     ]
    }
   ],
   "source": [
    "# 교집합, 합집밥, 차집밥 연산\n",
    "A={\"apple\",\"banana\",\"grape\"}\n",
    "B={\"apple\",\"banana\",\"kiwi\"}\n",
    "\n",
    "#합집밥\n",
    "C1= A | B # 또는 C1 = A.union(B)\n",
    "#교집합\n",
    "C2= A & B # 또는 C2 = A.intersection(B)\n",
    "#차집합\n",
    "C3= A - B # 또는 C3 = A.difference(B)\n",
    "\n",
    "print(C1)\n",
    "print(C2)\n",
    "print(C3)"
   ]
  },
  {
   "cell_type": "code",
   "execution_count": 58,
   "metadata": {
    "scrolled": true
   },
   "outputs": [
    {
     "name": "stdout",
     "output_type": "stream",
     "text": [
      "5\n"
     ]
    }
   ],
   "source": [
    "# 리스트 <-> 세트\n",
    "lst=[1,2,3,4,5,1,2,4]\n",
    "a=len(set(lst))\n",
    "print(a)"
   ]
  },
  {
   "cell_type": "markdown",
   "metadata": {},
   "source": [
    "### 세트 연산 정리\n",
    "###### set() -> 공백 세트 생성\n",
    "###### set(seq) -> 시퀀스에서 요소 꺼내서 세트 만듦\n",
    "###### s1={e1,e2,e3, ....} -> 초기값있는 세트는 중괄호로 만듦\n",
    "###### len(s1) -> 세트에 있는 요소 수\n",
    "###### e in s1 -> 세트 안에 e가 있는지 여부\n",
    "###### add(e) -> 세트에 e 추가\n",
    "###### remove(e), delete(e) -> 세트에서 e 삭제\n",
    "###### clear() -> 모든 요소 삭제"
   ]
  },
  {
   "cell_type": "code",
   "execution_count": 61,
   "metadata": {},
   "outputs": [
    {
     "name": "stdout",
     "output_type": "stream",
     "text": [
      "첫번째 문자열 : Hello World!\n",
      "두번째 문자열 : How are you?\n",
      "\n",
      "공통적인 글자 :    e H o r "
     ]
    }
   ],
   "source": [
    "# 중복된 글자 추출\n",
    "s1=input(\"첫번째 문자열 : \")\n",
    "s2=input(\"두번째 문자열 : \")\n",
    "\n",
    "lst=list(set(s1)&set(s2))\n",
    "\n",
    "print(\"\\n공통적인 글자 : \",end=\" \")\n",
    "for i in lst:\n",
    "    print(i, end=\" \")"
   ]
  },
  {
   "cell_type": "code",
   "execution_count": 62,
   "metadata": {},
   "outputs": [
    {
     "name": "stdout",
     "output_type": "stream",
     "text": [
      "입력 텍스트 : I have a dream that one day every valley shall be exalted and every hill and mountain shall be made low\n",
      "사용된 단어의 개수=  17\n",
      "{'a', 'have', 'every', 'made', 'low', 'hill', 'be', 'shall', 'exalted', 'mountain', 'one', 'that', 'day', 'valley', 'and', 'I', 'dream'}\n"
     ]
    }
   ],
   "source": [
    "# 중보되지 않은 단어 개수 추출\n",
    "txt=input(\"입력 텍스트 : \")\n",
    "words=txt.split(\" \")\n",
    "unique=set(words)\n",
    "\n",
    "print(\"사용된 단어의 개수= \",len(unique))\n",
    "print(unique)"
   ]
  },
  {
   "cell_type": "markdown",
   "metadata": {},
   "source": [
    "## 딕셔너리\n",
    "#### 키(key) + 값(value)\n",
    "#### 딕셔너리 이름 = {키1:값1, 키2:값2, 키3:값3, ...}"
   ]
  },
  {
   "cell_type": "code",
   "execution_count": 88,
   "metadata": {},
   "outputs": [
    {
     "name": "stdout",
     "output_type": "stream",
     "text": [
      "{'korea': 'seoul', 'usa': 'washington', 'uk': 'london'}\n",
      "seoul\n",
      "해당 키가 없음\n",
      "{'korea': 'seoul', 'usa': 'washington', 'uk': 'london', 'france': 'paris'}\n",
      "{'korea': 'seoul', 'usa': 'washington', 'france': 'paris'}\n",
      "{'usa': 'washington', 'france': 'paris'}\n",
      "딕셔너리 항목 비어있음\n"
     ]
    }
   ],
   "source": [
    "capitals={} #공백 딕셔너리\n",
    "capitals={\"korea\":\"seoul\",\"usa\":\"washington\",\"uk\":\"london\"}\n",
    "print(capitals)\n",
    "\n",
    "# 딕셔너리 중요 연산 : 키를 이용해 연관된 값 찾기\n",
    "print(capitals[\"korea\"]) # 리스트 -> 인덱스, 딕셔너리 -> 키\n",
    "print(capitals.get(\"france\", \"해당 키가 없음\"))\n",
    "\n",
    "# 항목 추가\n",
    "capitals[\"france\"]=\"paris\"\n",
    "print(capitals)\n",
    "\n",
    "# 항목 삭제, pop()을 사용\n",
    "city=capitals.pop(\"uk\") #만약 주어진 키를 가진 항목 없으면 예외 발생\n",
    "print(capitals)\n",
    "\n",
    "if \"korea\" in capitals : #예외방지\n",
    "    capitals.pop(\"korea\")\n",
    "print(capitals)\n",
    "\n",
    "# 항목 비우기 clear()\n",
    "capitals.clear()\n",
    "if len(capitals)==0 :\n",
    "    print(\"딕셔너리 항목 비어있음\")\n",
    "else :\n",
    "    len(\"딕셔너리 항목 있음\")"
   ]
  },
  {
   "cell_type": "code",
   "execution_count": 91,
   "metadata": {},
   "outputs": [
    {
     "name": "stdout",
     "output_type": "stream",
     "text": [
      "korea usa uk \n",
      "\n",
      "\n",
      "korea : seoul\n",
      "usa : washington\n",
      "uk : london\n",
      "\n",
      "korea : seoul\n",
      "usa : washington\n",
      "uk : london\n",
      "\n"
     ]
    }
   ],
   "source": [
    "# 항목 방문\n",
    "capitals={\"korea\":\"seoul\",\"usa\":\"washington\",\"uk\":\"london\"}\n",
    "\n",
    "# for루프 사용\n",
    "for key in capitals :\n",
    "    print(key, end=\" \")\n",
    "print(\"\\n\\n\")\n",
    "\n",
    "# 키+값\n",
    "for key in capitals :\n",
    "    print(key,\":\",capitals[key])\n",
    "print()\n",
    "\n",
    "# 딕셔너리 메소드 items() 사용\n",
    "for key, value in capitals.items() :\n",
    "    print(key,\":\",value)\n",
    "print()"
   ]
  },
  {
   "cell_type": "code",
   "execution_count": 95,
   "metadata": {},
   "outputs": [
    {
     "name": "stdout",
     "output_type": "stream",
     "text": [
      "{2: 4, 4: 16, 6: 36}\n",
      "{1: '1', 2: '2', 3: '3', 4: '4', 5: '5'}\n",
      "{'apple': 5, 'orange': 6, 'banana': 6}\n"
     ]
    }
   ],
   "source": [
    "# 딕셔너리 함축\n",
    "values=[1,2,3,4,5,6]\n",
    "\n",
    "dic1={x : x**2 for x in values if x%2==0}\n",
    "print(dic1)\n",
    "\n",
    "dic2={i:str(i) for i in [1,2,3,4,5]}\n",
    "print(dic2)\n",
    "\n",
    "fruits=[\"apple\",\"orange\",\"banana\"]\n",
    "dic3={f:len(f) for f in fruits}\n",
    "print(dic3)"
   ]
  },
  {
   "cell_type": "code",
   "execution_count": 98,
   "metadata": {},
   "outputs": [
    {
     "name": "stdout",
     "output_type": "stream",
     "text": [
      "{1: 'one', 2: 'two', 3: 'three'}\n"
     ]
    }
   ],
   "source": [
    "# 딕셔너리 항목 뒤집기 : 키 <-> 값\n",
    "dic1={\"one\":1,\"two\":2,\"three\":3} # 값이 고유해야함, 중복x\n",
    "dic2={n:w for w, n in dic1.items()}\n",
    "print(dic2)"
   ]
  },
  {
   "cell_type": "markdown",
   "metadata": {},
   "source": [
    "### 딕셔너리 메소드\n",
    "###### d=dict() -> 공백 딕셔너리 생성\n",
    "###### d={k1:v1, k2:v2, k3:v3, .... } -> 초기값으로 생성\n",
    "###### len(d) -> 딕셔너리 저장된 항목 개수 반환\n",
    "###### k in d -> k가 딕셔너리d 안에 있는지 여부\n",
    "###### k not in d -> k가 딕셔너리d 안에 없으면 True\n",
    "###### d[key]=value -> 딕셔너리에 키, 값 저장\n",
    "###### v=d[key] -> 딕셔너리에서 key에 해당하는 값 반환\n",
    "###### d.get(key, default) -> 주어진 키 가지고 값 찾음, 없으면 default값 반환\n",
    "###### d.pop(key) -> 항목 삭제\n",
    "###### d.values() -> 딕셔너리 안 모든 값의 시퀀스 반환\n",
    "###### d.keys() -> 딕셔너리 안 모든 키의 시퀀스 반환\n",
    "###### d.items() -> 딕셔너리 안 모든 (키, 값)을 반환"
   ]
  },
  {
   "cell_type": "code",
   "execution_count": 102,
   "metadata": {},
   "outputs": [
    {
     "name": "stdout",
     "output_type": "stream",
     "text": [
      "단어를 입력: one\n",
      "하나\n"
     ]
    }
   ],
   "source": [
    "# 영한사전\n",
    "english_dict={}\n",
    "\n",
    "english_dict[\"one\"]=\"하나\"\n",
    "english_dict[\"two\"]=\"둘\"\n",
    "english_dict[\"three\"]=\"셋\"\n",
    "\n",
    "word=input(\"단어를 입력: \")\n",
    "print(english_dict[word])"
   ]
  },
  {
   "cell_type": "code",
   "execution_count": 106,
   "metadata": {},
   "outputs": [
    {
     "name": "stdout",
     "output_type": "stream",
     "text": [
      "kim 의 평균성적= 92.33333333333333\n",
      "lee 의 평균성적= 63.666666666666664\n",
      "choi 의 평균성적= 50.0\n"
     ]
    }
   ],
   "source": [
    "# 성적 처리\n",
    "score_dic={\n",
    "    \"kim\":[99,83,95],\n",
    "    \"lee\":[68,45,78],\n",
    "    \"choi\":[25,56,69]\n",
    "}\n",
    "\n",
    "for name, scores in score_dic.items() :\n",
    "    print(name,\"의 평균성적=\",sum(scores)/len(scores))"
   ]
  },
  {
   "cell_type": "markdown",
   "metadata": {},
   "source": [
    "## 문자열"
   ]
  },
  {
   "cell_type": "code",
   "execution_count": 113,
   "metadata": {},
   "outputs": [
    {
     "name": "stdout",
     "output_type": "stream",
     "text": [
      "a\n",
      "97\n",
      "5\n",
      "(1+2j)\n"
     ]
    }
   ],
   "source": [
    "# 문자열 내장 함수\n",
    "\n",
    "# chr() -> 정수를 문자로 변환\n",
    "print(chr(97))\n",
    "# ord() -> 문자를 정수로 변환\n",
    "print(ord(\"a\"))\n",
    "# len() -> 문자열 길이 반환\n",
    "print(len(\"hello\"))\n",
    "# str() -> 객체의 문자열 표현 반환\n",
    "print(str(1+2j))"
   ]
  },
  {
   "cell_type": "code",
   "execution_count": 13,
   "metadata": {
    "scrolled": true
   },
   "outputs": [
    {
     "name": "stdout",
     "output_type": "stream",
     "text": [
      "m\n",
      "n\n",
      "pyth\n",
      "monty pytho\n",
      "monty pyth\n",
      "onty pytho\n",
      "monty python\n",
      "on\n"
     ]
    }
   ],
   "source": [
    "# 인덱싱\n",
    "s1=\"monty python\"\n",
    "print(s1[0])\n",
    "print(s1[-1])"
   ]
  },
  {
   "cell_type": "code",
   "execution_count": 18,
   "metadata": {
    "scrolled": false
   },
   "outputs": [
    {
     "name": "stdout",
     "output_type": "stream",
     "text": [
      "pyth\n",
      "monty pytho\n",
      "monty pyth\n",
      "onty pytho\n",
      "monty python\n",
      "on\n",
      "mo\n",
      "y python\n",
      "nty pythonmo\n",
      "monty python\n"
     ]
    }
   ],
   "source": [
    "# 슬라이싱 : 문자열의 일부를 잘라서 서브 문자열 만듦\n",
    "s1=\"monty python\"\n",
    "\n",
    "print(s1[6:10])\n",
    "print(s1[:-1]) #끝 문자 하나 삭제, 시작 인덱스 생략 -> 문자열 처음이라 가정\n",
    "print(s1[:-2])\n",
    "print(s1[1:-1])\n",
    "print(s1)\n",
    "print(s1[-2:]) #끝에서 2문자를 선택, 마지막까지 저장 -> 종료 인덱스 생략\n",
    "print(s1[:2])\n",
    "print(s1[4:])\n",
    "print(s1[2:]+s1[:2])\n",
    "print(s1[:2]+s1[2:])"
   ]
  },
  {
   "cell_type": "code",
   "execution_count": 20,
   "metadata": {
    "scrolled": true
   },
   "outputs": [
    {
     "name": "stdout",
     "output_type": "stream",
     "text": [
      "문자열 입력 : helleH\n",
      "회문 아닙니다\n"
     ]
    }
   ],
   "source": [
    "# 회문검사\n",
    "s=input(\"문자열 입력 : \")\n",
    "s1=s[::-1]\n",
    "if(s==s1):\n",
    "    print(\"회문입니다\")\n",
    "else :\n",
    "    print(\"회문 아닙니다\")"
   ]
  },
  {
   "cell_type": "markdown",
   "metadata": {},
   "source": [
    "### 문자열 메소드"
   ]
  },
  {
   "cell_type": "markdown",
   "metadata": {},
   "source": [
    "#### <대소문자 변환>\n",
    "###### 첫 문자만 대문자 -> .capitalize()\n",
    "###### 모든 문자 소문자 -> .lower\n",
    "###### 모든 문자 대문자 -> .upper"
   ]
  },
  {
   "cell_type": "code",
   "execution_count": 27,
   "metadata": {},
   "outputs": [
    {
     "name": "stdout",
     "output_type": "stream",
     "text": [
      "I am a student\n",
      "breakfast at tiffany\n",
      "BREAKFAST AT TIFFANY\n"
     ]
    }
   ],
   "source": [
    "s1=\"i am a student\"\n",
    "print(s1.capitalize())\n",
    "\n",
    "s2=\"Breakfast At Tiffany\"\n",
    "print(s2.lower())\n",
    "print(s2.upper())"
   ]
  },
  {
   "cell_type": "markdown",
   "metadata": {},
   "source": [
    "#### <찾기 및 바꾸기>\n",
    "###### 문자열 안의 부분 문자열 찾기 위해 startswith(), endswith(), find(), rfind(), count() 사용"
   ]
  },
  {
   "cell_type": "code",
   "execution_count": 28,
   "metadata": {},
   "outputs": [
    {
     "name": "stdout",
     "output_type": "stream",
     "text": [
      "파이썬 소스 파일 이름 입력 : hello.py\n",
      "올바른 파일 이름임\n"
     ]
    }
   ],
   "source": [
    "# endswith()\n",
    "s=input(\"파이썬 소스 파일 이름 입력 : \")\n",
    "if s.endswith(\".py\"):\n",
    "    print(\"올바른 파일 이름임\")\n",
    "else :\n",
    "    print(\"올바른 파일 이름 아님\")"
   ]
  },
  {
   "cell_type": "code",
   "execution_count": 33,
   "metadata": {},
   "outputs": [
    {
     "name": "stdout",
     "output_type": "stream",
     "text": [
      "12\n"
     ]
    }
   ],
   "source": [
    "# find() -> 찾은 부분문자열의 인덱스 반환(못찾으면 -2)\n",
    "s=\"www.naver.co.kr\"\n",
    "print(s.find(\".kr\"))"
   ]
  },
  {
   "cell_type": "code",
   "execution_count": 30,
   "metadata": {},
   "outputs": [
    {
     "name": "stdout",
     "output_type": "stream",
     "text": [
      "www.naver.com\n"
     ]
    }
   ],
   "source": [
    "# replace() -> 부분문자열 다른 부분문자열로 변환\n",
    "s=\"www.naver.com\"\n",
    "s.replace(\"com\",\"co.kr\")\n",
    "print(s)"
   ]
  },
  {
   "cell_type": "code",
   "execution_count": 38,
   "metadata": {},
   "outputs": [
    {
     "name": "stdout",
     "output_type": "stream",
     "text": [
      "22\n"
     ]
    }
   ],
   "source": [
    "# rfind(<sub>[),<start>[, <end]]> -> 끝에서 시작하여 지정된 부분문자열을 대상 문자열 안에서 검색\n",
    "s=\"Let it be, let it be, let it be\"\n",
    "print(s.rfind(\"let\"))"
   ]
  },
  {
   "cell_type": "code",
   "execution_count": 40,
   "metadata": {},
   "outputs": [
    {
     "name": "stdout",
     "output_type": "stream",
     "text": [
      "2\n",
      "1\n"
     ]
    }
   ],
   "source": [
    "# count() -> 부분문자열 등장한 횟수 반환\n",
    "s=\"www.naver.com\"\n",
    "print(s.count(\".\"))\n",
    "# 선택적으로 시작인수, 종료인수 지원\n",
    "print(s.count(\".\",0,5)) # 인덱스 0~4로 제한"
   ]
  },
  {
   "cell_type": "markdown",
   "metadata": {},
   "source": [
    "###### 문자 분류"
   ]
  },
  {
   "cell_type": "code",
   "execution_count": 45,
   "metadata": {},
   "outputs": [
    {
     "name": "stdout",
     "output_type": "stream",
     "text": [
      "True\n",
      "True\n"
     ]
    }
   ],
   "source": [
    "# .isalpha -> 안의 문자열이 모두 알파벳이면 True반환\n",
    "print(\"ABCabc\".isalpha())\n",
    "# .isdigit -> 안의 문자열이 모두 숫자면 True 반환\n",
    "print(\"123\".isdigit())"
   ]
  },
  {
   "cell_type": "markdown",
   "metadata": {},
   "source": [
    "###### 공백 문자 제거"
   ]
  },
  {
   "cell_type": "code",
   "execution_count": 55,
   "metadata": {},
   "outputs": [
    {
     "name": "stdout",
     "output_type": "stream",
     "text": [
      "hello, world!\n",
      "this is example\n",
      "this is example####\n",
      "####this is example\n"
     ]
    }
   ],
   "source": [
    "# .strip() -> 첫부분+끝부분 공백 제거\n",
    "s1=\" hello, world! \"\n",
    "print(s1.strip())\n",
    "\n",
    "# 앞뒤에서 특정 문자 제거 -> strip에 인수 전달\n",
    "s2=\"####this is example####\"\n",
    "print(s2.strip(\"#\"))\n",
    "\n",
    "# lstrip() -> 왼쪽 끝 / rstrip() -> 오른쪽 끝, 원하지 않는 문자 삭제\n",
    "print(s2.lstrip(\"#\"))\n",
    "print(s2.rstrip(\"#\"))"
   ]
  },
  {
   "cell_type": "markdown",
   "metadata": {},
   "source": [
    "###### 문자열 분해 -> split(), list()"
   ]
  },
  {
   "cell_type": "code",
   "execution_count": 68,
   "metadata": {},
   "outputs": [
    {
     "name": "stdout",
     "output_type": "stream",
     "text": [
      "['welcome', 'to', 'python']\n",
      "['hello', ' world']\n",
      "['hello', 'world']\n",
      "['h', 'e', 'l', 'l', 'o', ',', ' ', 'w', 'o', 'r', 'l', 'd', '!']\n"
     ]
    }
   ],
   "source": [
    "s1=\"welcome to python\"\n",
    "print(s1.split())\n",
    "\n",
    "s2=\"hello, world\"\n",
    "print(s2.split(\",\"))\n",
    "print(s2.split(\", \"))\n",
    "\n",
    "print(list(\"hello, world!\"))"
   ]
  },
  {
   "cell_type": "markdown",
   "metadata": {},
   "source": [
    "###### 문자열 결합 -> join()"
   ]
  },
  {
   "cell_type": "code",
   "execution_count": 67,
   "metadata": {},
   "outputs": [
    {
     "name": "stdout",
     "output_type": "stream",
     "text": [
      "apple,banana,grape\n",
      "010-1234-5678\n"
     ]
    }
   ],
   "source": [
    "s=\",\".join([\"apple\",\"banana\",\"grape\"])\n",
    "print(s)\n",
    "\n",
    "n=\"-\".join(\"010.1234.5678\".split(\".\"))\n",
    "print(n)"
   ]
  },
  {
   "cell_type": "code",
   "execution_count": 71,
   "metadata": {},
   "outputs": [
    {
     "name": "stdout",
     "output_type": "stream",
     "text": [
      "['h', 'e', 'l', 'l', 'o', ' ', 'w', 'o', 'r', 'l', 'd', '!']\n",
      "hello world!\n"
     ]
    }
   ],
   "source": [
    "s=\"hello world!\"\n",
    "clist=list(s)\n",
    "print(clist)\n",
    "print(\"\".join(clist))"
   ]
  },
  {
   "cell_type": "code",
   "execution_count": 73,
   "metadata": {},
   "outputs": [
    {
     "name": "stdout",
     "output_type": "stream",
     "text": [
      "문자열 입력 : hello world this is example\n",
      "HWTIE\n"
     ]
    }
   ],
   "source": [
    "# 머리 글자어 만들기\n",
    "phrase=input(\"문자열 입력 : \")\n",
    "\n",
    "acronym=\"\"\n",
    "\n",
    "#대문자로 만든 후에 단어들로 분리\n",
    "for word in phrase.upper().split() :\n",
    "    acronym+=word[0]\n",
    "    \n",
    "print(acronym)"
   ]
  },
  {
   "cell_type": "code",
   "execution_count": 74,
   "metadata": {},
   "outputs": [
    {
     "name": "stdout",
     "output_type": "stream",
     "text": [
      "이메일 주소 입력 : jumin1356@gamail.com\n",
      "jumin1356@gamail.com\n",
      "아이디 : jumin1356\n",
      "도메인 : gamail.com\n"
     ]
    }
   ],
   "source": [
    "# 이메일 주소 분석\n",
    "address=input(\"이메일 주소 입력 : \")\n",
    "(id, domain) = address.split(\"@\")\n",
    "\n",
    "print(address)\n",
    "print(\"아이디 :\",id)\n",
    "print(\"도메인 :\",domain)"
   ]
  },
  {
   "cell_type": "code",
   "execution_count": 76,
   "metadata": {},
   "outputs": [
    {
     "name": "stdout",
     "output_type": "stream",
     "text": [
      "문자열 입력 : A picture is worth a thousand words.\n",
      "{'alphas': 29, 'digits': 0, 'spaces': 6}\n"
     ]
    }
   ],
   "source": [
    "# 문자열 분석\n",
    "sentence=input(\"문자열 입력 : \")\n",
    "\n",
    "table={\"alphas\":0,\"digits\":0,\"spaces\":0}\n",
    "\n",
    "for i in sentence :\n",
    "    if i.isalpha():\n",
    "        table[\"alphas\"]+=1\n",
    "    if i.isdigit():\n",
    "        table[\"digits\"]+=1\n",
    "    if i.isspace():\n",
    "        table[\"spaces\"]+=1\n",
    "\n",
    "print(table)"
   ]
  },
  {
   "cell_type": "code",
   "execution_count": 80,
   "metadata": {},
   "outputs": [
    {
     "name": "stdout",
     "output_type": "stream",
     "text": [
      "4692\n"
     ]
    }
   ],
   "source": [
    "# otp\n",
    "import random\n",
    "\n",
    "s=\"0123456789\"\n",
    "passlen=4\n",
    "\n",
    "# sample()은 주어진 개수만큼의 글자를 문자열 s에서 임의로 선택\n",
    "p=\"\".join(random.sample(s,passlen)) # join이 이들을 결합\n",
    "print(p)"
   ]
  }
 ],
 "metadata": {
  "kernelspec": {
   "display_name": "Python 3",
   "language": "python",
   "name": "python3"
  },
  "language_info": {
   "codemirror_mode": {
    "name": "ipython",
    "version": 3
   },
   "file_extension": ".py",
   "mimetype": "text/x-python",
   "name": "python",
   "nbconvert_exporter": "python",
   "pygments_lexer": "ipython3",
   "version": "3.8.5"
  }
 },
 "nbformat": 4,
 "nbformat_minor": 4
}
