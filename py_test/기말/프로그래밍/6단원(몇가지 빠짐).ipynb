{
 "cells": [
  {
   "cell_type": "code",
   "execution_count": 1,
   "metadata": {},
   "outputs": [
    {
     "name": "stdout",
     "output_type": "stream",
     "text": [
      "['아이언맨', '토르']\n"
     ]
    }
   ],
   "source": [
    "## append()\n",
    "heroes=[]\n",
    "heroes.append(\"아이언맨\")\n",
    "heroes.append(\"토르\")\n",
    "print(heroes)"
   ]
  },
  {
   "cell_type": "code",
   "execution_count": 3,
   "metadata": {},
   "outputs": [
    {
     "name": "stdout",
     "output_type": "stream",
     "text": [
      "['아이언맨', '토르', ' 스파이더맨', '헐크', '스칼렛 위치', '헐크']\n"
     ]
    }
   ],
   "source": [
    "## insert(,) 지정된 위치에 요소 삽입\n",
    "heroes=[\"아이언맨\",\"토르\",\"헐크\",\"스칼렛 위치\",\"헐크\"]\n",
    "heroes.insert(2,\" 스파이더맨\")\n",
    "print(heroes)"
   ]
  },
  {
   "cell_type": "code",
   "execution_count": 25,
   "metadata": {},
   "outputs": [
    {
     "name": "stdout",
     "output_type": "stream",
     "text": [
      "2\n"
     ]
    }
   ],
   "source": [
    "## index() 리스트 탐색\n",
    "heroes=[\"아이언맨\",\"토르\",\"헐크\",\"스칼렛 위치\",\"헐크\",\"헐크\"]\n",
    "n=heroes.index(\"헐크\")\n",
    "print(n)"
   ]
  },
  {
   "cell_type": "code",
   "execution_count": 13,
   "metadata": {
    "scrolled": true
   },
   "outputs": [
    {
     "name": "stdout",
     "output_type": "stream",
     "text": [
      "['아이언맨', '토르', '헐크', '스칼렛 위치', '헐크']\n",
      "스칼렛 위치\n",
      "['아이언맨', '토르', '헐크', '헐크'] \n",
      "\n",
      "['아이언맨', '헐크', '헐크']\n"
     ]
    }
   ],
   "source": [
    "## 요소삭제\n",
    "## 1.pop() 항목 삭제 후 반한\n",
    "heroes=[\"아이언맨\",\"토르\",\"헐크\",\"스칼렛 위치\",\"헐크\"]\n",
    "print(heroes)\n",
    "h=heroes.pop(3)\n",
    "print(h)\n",
    "print(heroes,\"\\n\")\n",
    "\n",
    "## 2.remove() 식제만 하면 반환x\n",
    "if \"토르\" in heroes :\n",
    "    heroes.remove(\"토르\")    \n",
    "print(heroes)"
   ]
  },
  {
   "cell_type": "code",
   "execution_count": 16,
   "metadata": {},
   "outputs": [
    {
     "name": "stdout",
     "output_type": "stream",
     "text": [
      "1\n",
      "10\n"
     ]
    }
   ],
   "source": [
    "## 최대값, 최소값\n",
    "values = [1,2,3,4,5,6,7,8,9,10]\n",
    "print(min(values))\n",
    "print(max(values))"
   ]
  },
  {
   "cell_type": "code",
   "execution_count": 23,
   "metadata": {},
   "outputs": [
    {
     "name": "stdout",
     "output_type": "stream",
     "text": [
      "[1, 2, 3, 4, 5]\n",
      "['아이언맨', '토르', '헐크'] \n",
      "\n",
      "[1, 2, 3, 4, 5, 6, 7, 8, 9, 10]\n",
      "[10, 3, 7, 1, 9, 4, 2, 8, 5, 6]\n"
     ]
    }
   ],
   "source": [
    "## 정령1 sort()\n",
    "a=[3,2,1,5,4]\n",
    "a.sort()\n",
    "print(a)\n",
    "\n",
    "heroes=[\"아이언맨\",\"헐크\",\"토르\"]\n",
    "heroes.sort()\n",
    "print(heroes,\"\\n\")\n",
    "\n",
    "## 정렬2 : sorted() 새로운 리스트 반환\n",
    "numbers=[10,3,7,1,9,4,2,8,5,6]\n",
    "ascending_numbers=sorted(numbers)\n",
    "print(ascending_numbers)\n",
    "print(numbers)"
   ]
  },
  {
   "cell_type": "markdown",
   "metadata": {},
   "source": [
    "## 리스트가 가지고 있는 메소드\n",
    "#### append() -> 요소를 리스트 끝에 추가\n",
    "####  extend() -> 리스트의 모든 요소를 다른 리스트에 추가\n",
    "####  insert() -> 지정된 위치에 항목 상입\n",
    "####  remove() -> 리스트에서 항목 삭제\n",
    "####  pop() -> 지정된 위치 삭제 후 반환\n",
    "####  clear() -> 리스트 모든 항목 삭제\n",
    "####  index() -> 일치되는 항목의 리스트 반환\n",
    "####  count() -> 인수로 전달된 항목의 개수 반환\n",
    "####  sort() -> 오름차순 정렬\n",
    "#### reverse() -> 항목 순서 반대\n",
    "####  copy -> 리스트 복사본 반환"
   ]
  },
  {
   "cell_type": "code",
   "execution_count": 32,
   "metadata": {},
   "outputs": [
    {
     "name": "stdout",
     "output_type": "stream",
     "text": [
      "랜덤하게 선택한 항목 = 6\n",
      "램덤하게 선택한 항목 = 타이타닉\n"
     ]
    }
   ],
   "source": [
    "## 리스트 요소 랜덤 선택\n",
    "import random\n",
    "\n",
    "numberList=[1,2,3,4,5,6,7,8,9,10]\n",
    "print(\"랜덤하게 선택한 항목 =\",random.choice(numberList))\n",
    "\n",
    "movie_list=[\"타이타닉\",\"제8요일\",\"말죽거리잔혹사\",\"햄릿\"]\n",
    "item=random.choice(movie_list)\n",
    "print(\"램덤하게 선택한 항목 =\",item)"
   ]
  },
  {
   "cell_type": "code",
   "execution_count": 36,
   "metadata": {},
   "outputs": [
    {
     "name": "stdout",
     "output_type": "stream",
     "text": [
      "[28, 31, 33, 35, 27, 26, 25]\n",
      "[28, 31, 33, 39, 27, 26, 25]\n",
      "\n",
      "[28, 31, 33, 39, 27, 26, 25]\n",
      "[28, 31, 33, 33, 27, 26, 25]\n"
     ]
    }
   ],
   "source": [
    "temps=[28,31,33,35,27,26,25]\n",
    "\n",
    "## 리스트 얕은 복사\n",
    "values1 = temps\n",
    "print(temps)\n",
    "values1[3]=39\n",
    "print(temps)\n",
    "print()\n",
    "\n",
    "## 리스트 깊은 복사\n",
    "values2=list(temps)\n",
    "values2[3]=33\n",
    "print(temps)\n",
    "print(values2)"
   ]
  },
  {
   "cell_type": "code",
   "execution_count": 38,
   "metadata": {},
   "outputs": [
    {
     "name": "stdout",
     "output_type": "stream",
     "text": [
      "[30, 40, 50, 60, 70]\n",
      "[10, 20, 30]\n",
      "[40, 50, 60, 70, 80, 90]\n",
      "[10, 20, 30, 40, 50, 60, 70, 80, 90]\n",
      "[10, 20, 30, 40, 50, 60, 70, 80, 90]\n"
     ]
    }
   ],
   "source": [
    "## 슬라이싱 -> 한번에 여러개 항목 추출\n",
    "numbers=[10,20,30,40,50,60,70,80,90]\n",
    "print(numbers[2:7])\n",
    "print(numbers[:3])\n",
    "print(numbers[3:])\n",
    "print(numbers[:])\n",
    "print(numbers)"
   ]
  },
  {
   "cell_type": "code",
   "execution_count": 47,
   "metadata": {},
   "outputs": [
    {
     "name": "stdout",
     "output_type": "stream",
     "text": [
      "[90, 80, 70, 60, 50, 40, 30, 20, 10]\n",
      "['white', 'blue', 'red']\n",
      "['white', 'red', 50, 70, 90]\n",
      "[]\n",
      "\n",
      "[3, 4, 5]\n",
      "[]\n"
     ]
    }
   ],
   "source": [
    "## (고급 슬라이싱) 슬라이싱할때 단계(step) 지정 가능\n",
    "## 리스트[start : stop : step]\n",
    "numbers=[10,20,30,40,50,60,70,80,90]\n",
    "print(numbers[::-1]) # 역순\n",
    "numbers[0:3]=[\"white\", \"blue\", \"red\"]\n",
    "print(numbers[0:3])\n",
    "print(numbers[::2])\n",
    "numbers[:]=[]\n",
    "print(numbers)\n",
    "print()\n",
    "\n",
    "lst=[1,2,3,4,5]\n",
    "del lst[0:2]\n",
    "print(lst)\n",
    "del lst[:]\n",
    "print(lst)"
   ]
  },
  {
   "cell_type": "markdown",
   "metadata": {},
   "source": [
    "### 값으로 호출  call-by-value\n",
    "불변 객체는 값이 저장되면 새로 생성됨\n",
    "\n",
    "### 참조로 호출 call-by-reference\n",
    "원본 리스트도 변경됨"
   ]
  },
  {
   "cell_type": "code",
   "execution_count": 50,
   "metadata": {},
   "outputs": [
    {
     "name": "stdout",
     "output_type": "stream",
     "text": [
      "in func1, x= 42  id= 1862776320\n",
      "in main, y= 10  id= 1862775296\n"
     ]
    }
   ],
   "source": [
    "def func1(x) : \n",
    "    x=42 # 새로운 객체가 되어 x에 참조값이 저장됨\n",
    "    print(\"in func1, x=\",x,\" id=\",id(x))\n",
    "    \n",
    "y=10\n",
    "func1(y)\n",
    "print(\"in main, y=\",y,\" id=\",id(y))"
   ]
  },
  {
   "cell_type": "code",
   "execution_count": 51,
   "metadata": {},
   "outputs": [
    {
     "name": "stdout",
     "output_type": "stream",
     "text": [
      "[99, 1, 1, 2, 3, 5, 8]\n"
     ]
    }
   ],
   "source": [
    "def func2(list) :\n",
    "    list[0]=99\n",
    "    \n",
    "values = [0,1,1,2,3,5,8]\n",
    "func2(values)\n",
    "print(values)"
   ]
  },
  {
   "cell_type": "code",
   "execution_count": 52,
   "metadata": {},
   "outputs": [
    {
     "name": "stdout",
     "output_type": "stream",
     "text": [
      "인상전 [200, 250, 300, 280, 500]\n",
      "인상후 [260.0, 325.0, 390.0, 364.0, 650.0]\n"
     ]
    }
   ],
   "source": [
    "salaries=[200,250,300,280,500]\n",
    "\n",
    "def modify(values,factor) :\n",
    "    for i in range(len(values)) :\n",
    "        values[i]=values[i]*factor\n",
    "        \n",
    "print(\"인상전\",salaries)\n",
    "modify(salaries,1.3)\n",
    "print(\"인상후\",salaries)"
   ]
  },
  {
   "cell_type": "code",
   "execution_count": 55,
   "metadata": {},
   "outputs": [
    {
     "name": "stdout",
     "output_type": "stream",
     "text": [
      "[0, 1, 4, 9, 16, 25, 36, 49, 64, 81]\n",
      "[0, 6, 12, 18, 24, 30, 36, 42, 48, 54, 60, 66, 72, 78, 84, 90, 96]\n"
     ]
    }
   ],
   "source": [
    "## 리스트 함축\n",
    "## [수식 for (변수 in  리스트) if (조건)]\n",
    "squares=[x*x for x in range(10)]\n",
    "print(squares)\n",
    "\n",
    "numbers=[x for x in range(100) if x%2==0 and x%3==0]\n",
    "print(numbers)"
   ]
  },
  {
   "cell_type": "code",
   "execution_count": 57,
   "metadata": {},
   "outputs": [
    {
     "name": "stdout",
     "output_type": "stream",
     "text": [
      "[[1, 2, 3, 4, 5], [6, 7, 8, 9, 10], [11, 12, 13, 14, 15]]\n"
     ]
    }
   ],
   "source": [
    "## 2차원 리스트\n",
    "s=[\n",
    "    [1,2,3,4,5],\n",
    "    [6,7,8,9,10],\n",
    "    [11,12,13,14,15]\n",
    "]\n",
    "\n",
    "print(s)"
   ]
  },
  {
   "cell_type": "code",
   "execution_count": 61,
   "metadata": {},
   "outputs": [
    {
     "name": "stdout",
     "output_type": "stream",
     "text": [
      "s1= [[0, 0, 0, 0, 0], [0, 0, 0, 0, 0], [0, 0, 0, 0, 0]]\n",
      "s2= [0, 0, 0, 0, 0, 0, 0, 0, 0, 0, 0, 0, 0, 0, 0]\n"
     ]
    }
   ],
   "source": [
    "rows=3\n",
    "cols=5\n",
    "\n",
    "s1=[]\n",
    "s2=[]\n",
    "for row in range(rows) :\n",
    "    s1+=[[0]*cols]    \n",
    "print(\"s1=\",s1)\n",
    "\n",
    "for row in range(rows) :\n",
    "    s2+=[0]*cols\n",
    "print(\"s2=\",s2)"
   ]
  },
  {
   "cell_type": "code",
   "execution_count": 63,
   "metadata": {},
   "outputs": [
    {
     "name": "stdout",
     "output_type": "stream",
     "text": [
      "1,2,3,4,5,\n",
      "6,7,8,9,10,\n",
      "11,12,13,14,15,\n"
     ]
    }
   ],
   "source": [
    "s=[\n",
    "    [1,2,3,4,5],\n",
    "    [6,7,8,9,10],\n",
    "    [11,12,13,14,15]\n",
    "]\n",
    "\n",
    "# 행과 열의 개수를 구한다\n",
    "row =len(s)\n",
    "cols=len(s[0])\n",
    "\n",
    "for r in range(rows) :\n",
    "    for c in range(cols) :\n",
    "        print(s[r][c],end=\",\")\n",
    "    print()"
   ]
  },
  {
   "cell_type": "code",
   "execution_count": 71,
   "metadata": {},
   "outputs": [
    {
     "data": {
      "text/plain": [
       "21"
      ]
     },
     "execution_count": 71,
     "metadata": {},
     "output_type": "execute_result"
    }
   ],
   "source": [
    "# 2차원 리스트를 함수로 넘기기\n",
    "def sum(numbers) :\n",
    "    total=0\n",
    "    for i in range(len(numbers)) :\n",
    "        for j in range(len(numbers[0])) :\n",
    "            total=total+numbers[i][j]\n",
    "    return total\n",
    "\n",
    "arr=[\n",
    "    [1,2,3],\n",
    "    [4,5,6]\n",
    "]\n",
    "sum(arr)"
   ]
  }
 ],
 "metadata": {
  "kernelspec": {
   "display_name": "Python 3",
   "language": "python",
   "name": "python3"
  },
  "language_info": {
   "codemirror_mode": {
    "name": "ipython",
    "version": 3
   },
   "file_extension": ".py",
   "mimetype": "text/x-python",
   "name": "python",
   "nbconvert_exporter": "python",
   "pygments_lexer": "ipython3",
   "version": "3.8.5"
  }
 },
 "nbformat": 4,
 "nbformat_minor": 4
}
