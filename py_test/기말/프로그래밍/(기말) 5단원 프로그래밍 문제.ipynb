{
 "cells": [
  {
   "cell_type": "code",
   "execution_count": 3,
   "metadata": {},
   "outputs": [
    {
     "name": "stdout",
     "output_type": "stream",
     "text": [
      "get_peri()= 31.400000000000002\n",
      "get_peri(4.0)= 25.12\n"
     ]
    }
   ],
   "source": [
    "# 1번\n",
    "def get_peri(radius=5.0) :\n",
    "    return radius*2*3.14\n",
    "\n",
    "print(\"get_peri()=\",get_peri())\n",
    "print(\"get_peri(4.0)=\",get_peri(4.0))"
   ]
  },
  {
   "cell_type": "code",
   "execution_count": 6,
   "metadata": {},
   "outputs": [
    {
     "name": "stdout",
     "output_type": "stream",
     "text": [
      "첫번째 정수 : 10\n",
      "두번째 정수 : 20\n",
      "10 + 20 = 30\n",
      "10 - 20 = -10\n",
      "10 * 20 = 200\n",
      "10 / 20 = 0.5\n"
     ]
    }
   ],
   "source": [
    "# 2번\n",
    "def add(a,b) :\n",
    "    print(a,\"+\",b,\"=\",a+b)\n",
    "def minu(a,b) :\n",
    "    print(a,\"-\",b,\"=\",a-b)\n",
    "def multi(a,b) :\n",
    "    print(a,\"*\",b,\"=\",a*b)\n",
    "def divi(a,b) :\n",
    "    print(a,\"/\",b,\"=\",a/b)\n",
    "    \n",
    "a=int(input(\"첫번째 정수 : \"))\n",
    "b=int(input(\"두번째 정수 : \"))\n",
    "add(a,b)\n",
    "minu(a,b)\n",
    "multi(a,b)\n",
    "divi(a,b)"
   ]
  },
  {
   "cell_type": "code",
   "execution_count": 7,
   "metadata": {},
   "outputs": [
    {
     "name": "stdout",
     "output_type": "stream",
     "text": [
      "첫번째 정수 : 10\n",
      "두번째 정수 : 20\n",
      "30 -10 200 0.5 이 반환됨\n"
     ]
    }
   ],
   "source": [
    "# 3번\n",
    "def calc(a,b) :\n",
    "    def add(a,b):\n",
    "        return a+b\n",
    "    def minu(a,b):\n",
    "        return a-b\n",
    "    def multi(a,b):\n",
    "        return a*b\n",
    "    def divi(a,b):\n",
    "        return a/b\n",
    "    print(add(a,b),minu(a,b),multi(a,b),divi(a,b),end=\" \")\n",
    "    \n",
    "a=int(input(\"첫번째 정수 : \"))\n",
    "b=int(input(\"두번째 정수 : \"))\n",
    "calc(a,b)\n",
    "print(\"이 반환됨\")"
   ]
  },
  {
   "cell_type": "code",
   "execution_count": 10,
   "metadata": {},
   "outputs": [
    {
     "name": "stdout",
     "output_type": "stream",
     "text": [
      "정수: 78\n",
      "성적은 C입니다.\n"
     ]
    }
   ],
   "source": [
    "# 4번\n",
    "def grade(score) :\n",
    "    if score>=90 :\n",
    "        return print(\"성적은 A입니다.\")\n",
    "    elif score>=80 :\n",
    "        return print(\"성적은 B입니다.\")\n",
    "    elif score>=70 :\n",
    "        return print(\"성적은 C입니다.\")\n",
    "    elif score>=60 :\n",
    "        return print(\"성적은 D입니다.\")\n",
    "    else :\n",
    "        return print(\"성적은 F입니다.\")\n",
    "    \n",
    "n=int(input(\"정수: \"))\n",
    "grade(n)"
   ]
  },
  {
   "cell_type": "code",
   "execution_count": 1,
   "metadata": {},
   "outputs": [
    {
     "name": "stdout",
     "output_type": "stream",
     "text": [
      "입력 : ad23dDdddddd\n",
      "사용할 수 있습니다.\n"
     ]
    }
   ],
   "source": [
    "# 5번 (해답지 답안 변경)\n",
    "def checkpassword(pw):\n",
    "    cnt=0\n",
    "    digit, lower, upper = 0, 0, 0\n",
    "    for i in pw:\n",
    "        if i.isupper():\n",
    "            upper = 1\n",
    "            cnt+=1\n",
    "        elif i.islower():\n",
    "            cnt+=1\n",
    "            lower = 1\n",
    "        elif i.isdigit():\n",
    "            digit = 1\n",
    "            cnt+=1\n",
    "    if upper and lower and digit and cnt>=8: print(\"사용할 수 있습니다.\")\n",
    "    else: print(\"사용할 수 없습니다.\")\n",
    "\n",
    "pw=input(\"입력 : \")\n",
    "checkpassword(pw)"
   ]
  },
  {
   "cell_type": "code",
   "execution_count": 14,
   "metadata": {},
   "outputs": [
    {
     "name": "stdout",
     "output_type": "stream",
     "text": [
      "첫번째 정수 : 10\n",
      "두번째 정수 : 20\n",
      "정수  10 * 20 의 곱은?\n"
     ]
    }
   ],
   "source": [
    "# 6번\n",
    "import random\n",
    "\n",
    "def math_p(a,b) :\n",
    "    n=random.randint(0,3)\n",
    "    if n==0 :\n",
    "        print(\"정수 \",a,\"+\",b,\"의 합은?\")\n",
    "    elif n==1 :\n",
    "        print(\"정수 \",a,\"-\",b,\"의 차는?\")\n",
    "    elif n==2 :\n",
    "        print(\"정수 \",a,\"*\",b,\"의 곱은?\")\n",
    "    else :\n",
    "        print(\"정수 \",a,\"/\",b,\"의 나눔은?\")\n",
    "        \n",
    "a=int(input(\"첫번째 정수 : \"))\n",
    "b=int(input(\"두번째 정수 : \"))\n",
    "math_p(a,b)"
   ]
  },
  {
   "cell_type": "code",
   "execution_count": 2,
   "metadata": {
    "scrolled": true
   },
   "outputs": [
    {
     "name": "stdout",
     "output_type": "stream",
     "text": [
      "날짜를 입력(월과 일)\n",
      "월 입력(1~12) : 2\n",
      "일 입력(1~31): 3434\n",
      "월 입력(1~12) : 34234\n",
      "월 입력(1~12) : 2323\n",
      "월 입력(1~12) : 2\n",
      "일 입력(1~31): 4\n",
      "입력된 날짜는  2 월  4 일 입니다.\n"
     ]
    }
   ],
   "source": [
    "# 7번\n",
    "def getIntRange():\n",
    "    while True :\n",
    "        while True :\n",
    "            month=int(input(\"월 입력(1~12) : \"))\n",
    "            if 12>=month>=1 :\n",
    "                break;\n",
    "        day=int(input(\"일 입력(1~31): \"))\n",
    "        if 31>=day>=1 :\n",
    "            break;\n",
    "    print(\"입력된 날짜는 \", month,\"월 \",day,\"일 입니다.\")\n",
    "        \n",
    "print(\"날짜를 입력(월과 일)\")\n",
    "getIntRange()"
   ]
  },
  {
   "cell_type": "code",
   "execution_count": 3,
   "metadata": {},
   "outputs": [
    {
     "name": "stdout",
     "output_type": "stream",
     "text": [
      "날짜를 입력(월과 일)\n",
      "월 입력(1~12) : 3\n",
      "일 입력(1~31): 132\n",
      "일 입력(1~31): 23\n",
      "입력된 날짜는  3 월  23 일 입니다.\n"
     ]
    }
   ],
   "source": [
    "# 7번\n",
    "def getIntRange():\n",
    "    while True :\n",
    "        month=int(input(\"월 입력(1~12) : \"))\n",
    "        if 12>=month>=1 :\n",
    "            while True :\n",
    "                day=int(input(\"일 입력(1~31): \"))\n",
    "                if 31>=day>=1 :\n",
    "                    break;\n",
    "        break;\n",
    "    print(\"입력된 날짜는 \", month,\"월 \",day,\"일 입니다.\")\n",
    "        \n",
    "print(\"날짜를 입력(월과 일)\")\n",
    "getIntRange()"
   ]
  },
  {
   "cell_type": "code",
   "execution_count": 21,
   "metadata": {},
   "outputs": [
    {
     "name": "stdout",
     "output_type": "stream",
     "text": [
      "1000 이하의 금액을 입력하시오 : 999\n",
      "구백 구십 구원\n"
     ]
    }
   ],
   "source": [
    "# 8번\n",
    "def getMoneyText(amount) :\n",
    "    if amount==1000 :\n",
    "        print(\"천 원\")\n",
    "    else :\n",
    "        hundM=amount//100\n",
    "        if hundM!=0 :\n",
    "            TextNum(hundM)\n",
    "            print(\"백\",end=\" \")\n",
    "        tenM=(amount-hundM*100)//10\n",
    "        if tenM!=0 :\n",
    "            TextNum(tenM)\n",
    "            print(\"십\",end=\" \")\n",
    "        oneM=((amount-hundM*100)-(tenM*10))\n",
    "        if oneM!=0 :\n",
    "            TextNum(oneM)\n",
    "        print(\"원\")\n",
    "        \n",
    "def TextNum(n):\n",
    "    if n==1 :\n",
    "        print(\"일\",end=\"\")\n",
    "    elif n==2 :\n",
    "        print(\"이\",end=\"\")\n",
    "    if n==3 :\n",
    "        print(\"삼\",end=\"\")\n",
    "    if n==4 :\n",
    "        print(\"사\",end=\"\")\n",
    "    if n==5 :\n",
    "        print(\"오\",end=\"\")\n",
    "    if n==6 :\n",
    "        print(\"육\",end=\"\")\n",
    "    if n==7 :\n",
    "        print(\"칠\",end=\"\")\n",
    "    if n==8 :\n",
    "        print(\"팔\",end=\"\")\n",
    "    if n==9 :\n",
    "        print(\"구\",end=\"\")\n",
    "        \n",
    "money=int(input(\"1000 이하의 금액을 입력하시오 : \"))\n",
    "if money<=1000 :\n",
    "    getMoneyText(money)\n",
    "else :\n",
    "    print(\"범위를 벗어났습니다.\")"
   ]
  },
  {
   "cell_type": "code",
   "execution_count": 23,
   "metadata": {},
   "outputs": [
    {
     "name": "stdout",
     "output_type": "stream",
     "text": [
      "첫번째 정수 : 12\n",
      "두번째 정수 : 36\n",
      "12\n"
     ]
    }
   ],
   "source": [
    "# 9번\n",
    "def commonDivi(a,b) :\n",
    "    maxN=0\n",
    "    for i in range(1,b+1) :\n",
    "        if b%i == 0 :\n",
    "            if a%i == 0 :\n",
    "                maxN=i\n",
    "    print(maxN)\n",
    "    \n",
    "a=int(input(\"첫번째 정수 : \"))\n",
    "b=int(input(\"두번째 정수 : \"))\n",
    "if a<b:\n",
    "    a,b=b,a\n",
    "    \n",
    "commonDivi(a,b)"
   ]
  },
  {
   "cell_type": "code",
   "execution_count": 22,
   "metadata": {},
   "outputs": [
    {
     "name": "stdout",
     "output_type": "stream",
     "text": [
      "2 3 5 7 11 13 17 19 23 29 31 37 41 43 47 53 59 61 67 71 73 79 83 89 97 "
     ]
    }
   ],
   "source": [
    "# 10번\n",
    "def textPrime(n1,n2) :\n",
    "    i=n1\n",
    "    while(i<=n2): ##n1이 n2와 같아질 때까지 반복\n",
    "        j=2\n",
    "        while(j<i) :\n",
    "            if((i%j)==0): ##소수판단 : 자기보다 낮은 숫자로 나누어지는지\n",
    "                j=j+1\n",
    "                break\n",
    "            j=j+1\n",
    "        if(i==j) :\n",
    "            print(i, end=\" \")\n",
    "        i=i+1\n",
    "            \n",
    "textPrime(2,100)"
   ]
  },
  {
   "cell_type": "code",
   "execution_count": 18,
   "metadata": {},
   "outputs": [
    {
     "name": "stdout",
     "output_type": "stream",
     "text": [
      "10진수: 12\n",
      "1100\n"
     ]
    }
   ],
   "source": [
    "# 11번(내 답안)\n",
    "def deci2bin(n):\n",
    "    p=\"\"\n",
    "    while n>0 :\n",
    "        p=str(n%2)+p\n",
    "        n=n//2\n",
    "    print(p)\n",
    "        \n",
    "n = int(input(\"10진수: \"))\n",
    "deci2bin(n)"
   ]
  },
  {
   "cell_type": "code",
   "execution_count": null,
   "metadata": {},
   "outputs": [],
   "source": [
    "# 11번(해답지 답안)\n",
    "def deci2bin(n):\n",
    "    binary = \"\"\n",
    "    while n != 0:\n",
    "        value = n % 2\n",
    "        if value == 0 :\n",
    "            binary = \"0\" + binary \n",
    "        else:\n",
    "            binary = \"1\" + binary\n",
    "        n = n // 2\n",
    "    return binary\n",
    "\n",
    "x = int(input(\"10진수: \"))\n",
    "print(deci2bin(x))"
   ]
  },
  {
   "cell_type": "code",
   "execution_count": 25,
   "metadata": {},
   "outputs": [
    {
     "name": "stdout",
     "output_type": "stream",
     "text": [
      "첫번째 정수 : 10\n",
      "두번째 정수 : 20\n"
     ]
    },
    {
     "data": {
      "text/plain": [
       "(10, 20)"
      ]
     },
     "execution_count": 25,
     "metadata": {},
     "output_type": "execute_result"
    }
   ],
   "source": [
    "# 12번\n",
    "def getSorted(x,y) :\n",
    "    if x>y :\n",
    "        return y,x\n",
    "    else :\n",
    "        return x,y\n",
    "    \n",
    "a=int(input(\"첫번째 정수 : \"))\n",
    "b=int(input(\"두번째 정수 : \"))\n",
    "getSorted(a,b)"
   ]
  },
  {
   "cell_type": "code",
   "execution_count": 26,
   "metadata": {
    "scrolled": false
   },
   "outputs": [
    {
     "name": "stdout",
     "output_type": "stream",
     "text": [
      "======== dice game() 호출 ========\n",
      "인간 주사위 값 = 3\n",
      "컴퓨터 주사위 값 = 인간 승\n",
      "======== dice_game() 복귀 ========\n",
      "중단할까요? Y/Nyy\n",
      "인간 주사위 값 = 3\n",
      "컴퓨터 주사위 값 = 컴퓨터 승\n",
      "======== dice_game() 복귀 ========\n",
      "중단할까요? Y/NyY\n"
     ]
    }
   ],
   "source": [
    "# 13번\n",
    "import random\n",
    "\n",
    "def dice_game():\n",
    "    return random.randint(1,6)\n",
    "\n",
    "print(\"======== dice game() 호출 ========\")\n",
    "while True :\n",
    "    hN=int(input(\"인간 주사위 값 = \"))\n",
    "    print(\"컴퓨터 주사위 값 = \",end=\"\")\n",
    "    cN=dice_game()\n",
    "    if hN>cN :\n",
    "        print(\"인간 승\")\n",
    "    elif hN<cN :\n",
    "        print(\"컴퓨터 승\")\n",
    "    else :\n",
    "        print(\"비김\")\n",
    "    print(\"======== dice_game() 복귀 ========\")\n",
    "    c=input(\"중단할까요? Y/Ny\")\n",
    "    if c == \"Y\" :\n",
    "        break;"
   ]
  }
 ],
 "metadata": {
  "kernelspec": {
   "display_name": "Python 3",
   "language": "python",
   "name": "python3"
  },
  "language_info": {
   "codemirror_mode": {
    "name": "ipython",
    "version": 3
   },
   "file_extension": ".py",
   "mimetype": "text/x-python",
   "name": "python",
   "nbconvert_exporter": "python",
   "pygments_lexer": "ipython3",
   "version": "3.8.5"
  }
 },
 "nbformat": 4,
 "nbformat_minor": 4
}
